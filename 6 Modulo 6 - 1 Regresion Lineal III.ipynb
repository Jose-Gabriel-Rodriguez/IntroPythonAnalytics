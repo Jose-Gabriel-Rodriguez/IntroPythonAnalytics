{
 "cells": [
  {
   "cell_type": "markdown",
   "id": "aaf749df",
   "metadata": {},
   "source": [
    "![](Logo3.png)"
   ]
  },
  {
   "cell_type": "markdown",
   "id": "266e5db5",
   "metadata": {},
   "source": [
    "# Desarrollo del modelo de predicción con Regresión Lineal\n",
    "\n",
    "\n",
    "## Tabla de Contenido\n",
    "\n",
    "[1. Contexto de la práctica](#id1)<br>\n",
    "[2. Evaluar dataset](#id2)<br>\n",
    "[3. Dividir dataset en conjuntos de prueba y entrenamiento](#id3)<br>\n",
    "[4. Regresion Lineal Simple con \"city-mpg\" para predecir el precio del automóvil](#id4)<br>\n",
    "[5. Regresion Lineal Simple con \"engine-size\" para predecir el precio del automóvil](#id5)<br>\n",
    "[6. Regresión lineal múltiple](#id6)  \n",
    "[7. Evaluación del modelo usando visualización](#id7)  \n",
    "[8. Seleccion de variables más importantes con scikit-learn](#id8)  \n"
   ]
  },
  {
   "cell_type": "markdown",
   "id": "478edf62",
   "metadata": {},
   "source": [
    "## 1. Contexto de la práctica    <a id='id1'> </a>\n",
    "\n",
    "- En la primera parte, se realizará una regresión lineal simple con diferentes caracteristicas del vehiculo, para evaluar en que medida cada variable puede ayudarnos a predecir el precio del automóvil.\n",
    "- Se realizará una regresión lineal simple por cada variable a evaluar.\n",
    "-  En la segunda parte, se realizará una regresion lineal multiple evaluando en una sola regresión todas las variables utilizadas en los puntos anteriores.\n",
    "\n",
    "**Regresión lineal simple**  \n",
    "La regresión lineal simple es un método que nos ayuda a comprender la relación entre dos variables:\n",
    "\n",
    "- El predictor/variable independiente (X)\n",
    "- El objetivp/variable dependiente (que queremos predecir)(Y)\n",
    "- El resultado de **la regresión lineal es una función lineal que predice la variable de respuesta** (dependiente) en función de la(s) variable(s) predictora(s) (independiente(s)).\n",
    "\n",
    "**Función Lineal**\n",
    "$$\n",
    "Yhat =  w X + b\n",
    "$$\n",
    "\n",
    "- **b** se refiere a la intersección de la línea de regresión\n",
    "- **w** se refiere a la pendiente de la línea de regresión\n",
    "\n"
   ]
  },
  {
   "cell_type": "markdown",
   "id": "65c4ca01",
   "metadata": {},
   "source": [
    "## 2. Evaluar Dataset   <a id='id2'> </a>\n",
    "\n",
    "En esta prcatica usaremos diferentes métodos para ver si ciertas caracteristicas pueden ser usadas para predecir el precio de un vehiculo."
   ]
  },
  {
   "cell_type": "code",
   "execution_count": 61,
   "id": "61ab8742",
   "metadata": {},
   "outputs": [],
   "source": [
    "import pandas as pd\n",
    "import numpy as np\n",
    "import matplotlib.pyplot as plt\n",
    "import seaborn as sns\n",
    "\n",
    "from sklearn.linear_model import LinearRegression"
   ]
  },
  {
   "cell_type": "code",
   "execution_count": 62,
   "id": "58613bd0",
   "metadata": {},
   "outputs": [
    {
     "data": {
      "text/html": [
       "<div>\n",
       "<style scoped>\n",
       "    .dataframe tbody tr th:only-of-type {\n",
       "        vertical-align: middle;\n",
       "    }\n",
       "\n",
       "    .dataframe tbody tr th {\n",
       "        vertical-align: top;\n",
       "    }\n",
       "\n",
       "    .dataframe thead th {\n",
       "        text-align: right;\n",
       "    }\n",
       "</style>\n",
       "<table border=\"1\" class=\"dataframe\">\n",
       "  <thead>\n",
       "    <tr style=\"text-align: right;\">\n",
       "      <th></th>\n",
       "      <th>symboling</th>\n",
       "      <th>normalized-losses</th>\n",
       "      <th>make</th>\n",
       "      <th>fuel-type</th>\n",
       "      <th>aspiration</th>\n",
       "      <th>num-of-doors</th>\n",
       "      <th>body-style</th>\n",
       "      <th>drive-wheels</th>\n",
       "      <th>engine-location</th>\n",
       "      <th>wheel-base</th>\n",
       "      <th>...</th>\n",
       "      <th>peak-rpm</th>\n",
       "      <th>city-mpg</th>\n",
       "      <th>highway-L/100km</th>\n",
       "      <th>price</th>\n",
       "      <th>city-L/100km</th>\n",
       "      <th>fuel-type_code</th>\n",
       "      <th>diesel</th>\n",
       "      <th>gas</th>\n",
       "      <th>fuel-type-map</th>\n",
       "      <th>horsepower-binned</th>\n",
       "    </tr>\n",
       "  </thead>\n",
       "  <tbody>\n",
       "    <tr>\n",
       "      <th>0</th>\n",
       "      <td>3</td>\n",
       "      <td>122</td>\n",
       "      <td>alfa-romero</td>\n",
       "      <td>gas</td>\n",
       "      <td>std</td>\n",
       "      <td>two</td>\n",
       "      <td>convertible</td>\n",
       "      <td>rwd</td>\n",
       "      <td>front</td>\n",
       "      <td>88.6</td>\n",
       "      <td>...</td>\n",
       "      <td>5000.0</td>\n",
       "      <td>21</td>\n",
       "      <td>8.703704</td>\n",
       "      <td>13495.0</td>\n",
       "      <td>11.190476</td>\n",
       "      <td>1</td>\n",
       "      <td>0</td>\n",
       "      <td>1</td>\n",
       "      <td>1</td>\n",
       "      <td>Low</td>\n",
       "    </tr>\n",
       "    <tr>\n",
       "      <th>1</th>\n",
       "      <td>3</td>\n",
       "      <td>122</td>\n",
       "      <td>alfa-romero</td>\n",
       "      <td>gas</td>\n",
       "      <td>std</td>\n",
       "      <td>two</td>\n",
       "      <td>convertible</td>\n",
       "      <td>rwd</td>\n",
       "      <td>front</td>\n",
       "      <td>88.6</td>\n",
       "      <td>...</td>\n",
       "      <td>5000.0</td>\n",
       "      <td>21</td>\n",
       "      <td>8.703704</td>\n",
       "      <td>16500.0</td>\n",
       "      <td>11.190476</td>\n",
       "      <td>1</td>\n",
       "      <td>0</td>\n",
       "      <td>1</td>\n",
       "      <td>1</td>\n",
       "      <td>Low</td>\n",
       "    </tr>\n",
       "    <tr>\n",
       "      <th>2</th>\n",
       "      <td>1</td>\n",
       "      <td>122</td>\n",
       "      <td>alfa-romero</td>\n",
       "      <td>gas</td>\n",
       "      <td>std</td>\n",
       "      <td>two</td>\n",
       "      <td>hatchback</td>\n",
       "      <td>rwd</td>\n",
       "      <td>front</td>\n",
       "      <td>94.5</td>\n",
       "      <td>...</td>\n",
       "      <td>5000.0</td>\n",
       "      <td>19</td>\n",
       "      <td>9.038462</td>\n",
       "      <td>16500.0</td>\n",
       "      <td>12.368421</td>\n",
       "      <td>1</td>\n",
       "      <td>0</td>\n",
       "      <td>1</td>\n",
       "      <td>1</td>\n",
       "      <td>Medium</td>\n",
       "    </tr>\n",
       "    <tr>\n",
       "      <th>3</th>\n",
       "      <td>2</td>\n",
       "      <td>164</td>\n",
       "      <td>audi</td>\n",
       "      <td>gas</td>\n",
       "      <td>std</td>\n",
       "      <td>four</td>\n",
       "      <td>sedan</td>\n",
       "      <td>fwd</td>\n",
       "      <td>front</td>\n",
       "      <td>99.8</td>\n",
       "      <td>...</td>\n",
       "      <td>5500.0</td>\n",
       "      <td>24</td>\n",
       "      <td>7.833333</td>\n",
       "      <td>13950.0</td>\n",
       "      <td>9.791667</td>\n",
       "      <td>1</td>\n",
       "      <td>0</td>\n",
       "      <td>1</td>\n",
       "      <td>1</td>\n",
       "      <td>Low</td>\n",
       "    </tr>\n",
       "    <tr>\n",
       "      <th>4</th>\n",
       "      <td>2</td>\n",
       "      <td>164</td>\n",
       "      <td>audi</td>\n",
       "      <td>gas</td>\n",
       "      <td>std</td>\n",
       "      <td>four</td>\n",
       "      <td>sedan</td>\n",
       "      <td>4wd</td>\n",
       "      <td>front</td>\n",
       "      <td>99.4</td>\n",
       "      <td>...</td>\n",
       "      <td>5500.0</td>\n",
       "      <td>18</td>\n",
       "      <td>10.681818</td>\n",
       "      <td>17450.0</td>\n",
       "      <td>13.055556</td>\n",
       "      <td>1</td>\n",
       "      <td>0</td>\n",
       "      <td>1</td>\n",
       "      <td>1</td>\n",
       "      <td>Low</td>\n",
       "    </tr>\n",
       "  </tbody>\n",
       "</table>\n",
       "<p>5 rows × 32 columns</p>\n",
       "</div>"
      ],
      "text/plain": [
       "   symboling  normalized-losses         make fuel-type aspiration  \\\n",
       "0          3                122  alfa-romero       gas        std   \n",
       "1          3                122  alfa-romero       gas        std   \n",
       "2          1                122  alfa-romero       gas        std   \n",
       "3          2                164         audi       gas        std   \n",
       "4          2                164         audi       gas        std   \n",
       "\n",
       "  num-of-doors   body-style drive-wheels engine-location  wheel-base  ...  \\\n",
       "0          two  convertible          rwd           front        88.6  ...   \n",
       "1          two  convertible          rwd           front        88.6  ...   \n",
       "2          two    hatchback          rwd           front        94.5  ...   \n",
       "3         four        sedan          fwd           front        99.8  ...   \n",
       "4         four        sedan          4wd           front        99.4  ...   \n",
       "\n",
       "   peak-rpm  city-mpg  highway-L/100km    price city-L/100km fuel-type_code  \\\n",
       "0    5000.0        21         8.703704  13495.0    11.190476              1   \n",
       "1    5000.0        21         8.703704  16500.0    11.190476              1   \n",
       "2    5000.0        19         9.038462  16500.0    12.368421              1   \n",
       "3    5500.0        24         7.833333  13950.0     9.791667              1   \n",
       "4    5500.0        18        10.681818  17450.0    13.055556              1   \n",
       "\n",
       "   diesel gas  fuel-type-map  horsepower-binned  \n",
       "0       0   1              1                Low  \n",
       "1       0   1              1                Low  \n",
       "2       0   1              1             Medium  \n",
       "3       0   1              1                Low  \n",
       "4       0   1              1                Low  \n",
       "\n",
       "[5 rows x 32 columns]"
      ]
     },
     "execution_count": 62,
     "metadata": {},
     "output_type": "execute_result"
    }
   ],
   "source": [
    "autos2 = pd.read_csv(\"autos2.csv\")\n",
    "autos2.head()"
   ]
  },
  {
   "cell_type": "code",
   "execution_count": 63,
   "id": "fc3d379d",
   "metadata": {},
   "outputs": [
    {
     "name": "stdout",
     "output_type": "stream",
     "text": [
      "symboling              int64\n",
      "normalized-losses      int64\n",
      "make                  object\n",
      "fuel-type             object\n",
      "aspiration            object\n",
      "num-of-doors          object\n",
      "body-style            object\n",
      "drive-wheels          object\n",
      "engine-location       object\n",
      "wheel-base           float64\n",
      "length               float64\n",
      "width                float64\n",
      "height               float64\n",
      "curb-weight            int64\n",
      "engine-type           object\n",
      "num-of-cylinders      object\n",
      "engine-size            int64\n",
      "fuel-system           object\n",
      "bore                 float64\n",
      "stroke               float64\n",
      "compression-ratio    float64\n",
      "horsepower             int64\n",
      "peak-rpm             float64\n",
      "city-mpg               int64\n",
      "highway-L/100km      float64\n",
      "price                float64\n",
      "city-L/100km         float64\n",
      "fuel-type_code         int64\n",
      "diesel                 int64\n",
      "gas                    int64\n",
      "fuel-type-map          int64\n",
      "horsepower-binned     object\n",
      "dtype: object\n"
     ]
    }
   ],
   "source": [
    "print(autos2.dtypes)"
   ]
  },
  {
   "cell_type": "code",
   "execution_count": 64,
   "id": "713f51dc",
   "metadata": {},
   "outputs": [
    {
     "data": {
      "text/plain": [
       "(201, 32)"
      ]
     },
     "execution_count": 64,
     "metadata": {},
     "output_type": "execute_result"
    }
   ],
   "source": [
    "autos2.shape"
   ]
  },
  {
   "cell_type": "markdown",
   "id": "eeda4bd1",
   "metadata": {},
   "source": [
    "### 3. Dividir dataset en conjuntos de prueba y entrenamiento  <a id='id3'> </a>\n",
    "\n",
    "- El procedimiento de división de los datos en conjunto de entrenamiento y prueba se usa para **estimar el rendimiento de los algoritmos de aprendizaje automático**.\n",
    "- Los datos de entrenamiento **(train)** se usan para entrenar el modelo.\n",
    "- Los datos de prueba **(test)** se usan para hacer predicciones sobre datos que no se usan para entrenar el modelo.\n",
    "- El objetivo es estimar el rendimiento del modelo de aprendizaje automático sobre nuevos datos, es decir, datos no utilizados para entrenar el modelo.\n",
    "\n",
    "En esta fase se debe dividir el dataset original en conjuntos de datos de entrenamiento y prueba\n",
    "\n",
    "- Dividir el DataFrame original `autos2` en `autos2_train` y `autos2_test`.\n",
    "- Crear características de entrenamiento y prueba, `autos2_X_train` y `autos2_X_test`.\n",
    "- Crear etiquetas de entrenamiento y prueba, `autos2_y_train` y `autos2_y_test`.  \n",
    "\n",
    "- **train_test_split** Divide dataframes o matrices en subconjuntos aleatorios de entrenamiento y prueba."
   ]
  },
  {
   "cell_type": "code",
   "execution_count": 65,
   "id": "b4589f15",
   "metadata": {},
   "outputs": [],
   "source": [
    "from sklearn.model_selection import train_test_split\n",
    "\n",
    "autos2_train, autos2_test = train_test_split( autos2, random_state=0 )\n"
   ]
  },
  {
   "cell_type": "code",
   "execution_count": 66,
   "id": "9d7f077d",
   "metadata": {},
   "outputs": [
    {
     "data": {
      "text/plain": [
       "(150, 32)"
      ]
     },
     "execution_count": 66,
     "metadata": {},
     "output_type": "execute_result"
    }
   ],
   "source": [
    "autos2_train.shape"
   ]
  },
  {
   "cell_type": "code",
   "execution_count": 67,
   "id": "f5de3fe3",
   "metadata": {},
   "outputs": [
    {
     "data": {
      "text/plain": [
       "(51, 32)"
      ]
     },
     "execution_count": 67,
     "metadata": {},
     "output_type": "execute_result"
    }
   ],
   "source": [
    "autos2_test.shape"
   ]
  },
  {
   "cell_type": "code",
   "execution_count": null,
   "id": "5a57406f",
   "metadata": {},
   "outputs": [],
   "source": []
  },
  {
   "cell_type": "markdown",
   "id": "9fd567c5",
   "metadata": {},
   "source": [
    "### 4. Regresion Lineal Simple con \"city-mpg\" para predecir el precio del automóvil?   <a id='id4'> </a>\n",
    "\n",
    "- Para este ejemplo, **queremos evaluar cómo city-mpg puede ayudarnos a predecir el precio del automóvil.**\n",
    "- Usando una regresión lineal simple, crearemos una función lineal con **\"city-mpg\" como la variable predictora** y el \"precio\" como la variable objetivo."
   ]
  },
  {
   "cell_type": "markdown",
   "id": "343f4c7a",
   "metadata": {},
   "source": [
    "#### Crear el objeto de regresion lineal\n"
   ]
  },
  {
   "cell_type": "code",
   "execution_count": 68,
   "id": "16cff866",
   "metadata": {},
   "outputs": [
    {
     "data": {
      "text/plain": [
       "LinearRegression()"
      ]
     },
     "execution_count": 68,
     "metadata": {},
     "output_type": "execute_result"
    }
   ],
   "source": [
    "# Modelo 1 de regesión lineal\n",
    "\n",
    "lm1 = LinearRegression()\n",
    "lm1"
   ]
  },
  {
   "cell_type": "code",
   "execution_count": 69,
   "id": "aa4988f1",
   "metadata": {},
   "outputs": [],
   "source": [
    "#  No podemos usar autos2_train y autos2_test directamente en la clasificación,\n",
    "#  Por lo tanto definimos un nuevo dataset con \n",
    "#  las caracteristicas de entrenamiento a partir del dataset de entrenamiento\n",
    "\n",
    "X_autos2_train = autos2_train[['city-mpg']]\n",
    "\n",
    "# Objetivo o valor a predecir \n",
    "y_autos2_train = autos2_train[['price']]"
   ]
  },
  {
   "cell_type": "code",
   "execution_count": 70,
   "id": "2f5c21b7",
   "metadata": {},
   "outputs": [],
   "source": [
    "# Realizamos el mismo procedimiento para los datasets de prueba\n",
    "\n",
    "# variables predictoras\n",
    "X_autos2_test = autos2_test[['city-mpg']]\n",
    "\n",
    "# Objetivo o valor a predecir \n",
    "y_autos2_test = autos2_test[['price']]"
   ]
  },
  {
   "cell_type": "code",
   "execution_count": 71,
   "id": "ac29fe90",
   "metadata": {},
   "outputs": [
    {
     "data": {
      "text/plain": [
       "LinearRegression()"
      ]
     },
     "execution_count": 71,
     "metadata": {},
     "output_type": "execute_result"
    }
   ],
   "source": [
    "# Entrenar el modelo de regresion lineal\n",
    "\n",
    "lm1.fit(X_autos2_train, y_autos2_train)\n",
    "lm1"
   ]
  },
  {
   "cell_type": "code",
   "execution_count": 72,
   "id": "aaacbfa3",
   "metadata": {},
   "outputs": [
    {
     "data": {
      "text/plain": [
       "0.4589830840071818"
      ]
     },
     "execution_count": 72,
     "metadata": {},
     "output_type": "execute_result"
    }
   ],
   "source": [
    "# Revisar la precisión del modelo de entrenamiento\n",
    "\n",
    "lm1.score( X_autos2_train, y_autos2_train )"
   ]
  },
  {
   "cell_type": "code",
   "execution_count": 73,
   "id": "9cd4fe83",
   "metadata": {},
   "outputs": [
    {
     "data": {
      "text/plain": [
       "array([[ 2837.21230737],\n",
       "       [ 8988.28468667],\n",
       "       [12832.70492374],\n",
       "       [18983.77730304],\n",
       "       [17446.00920821]])"
      ]
     },
     "execution_count": 73,
     "metadata": {},
     "output_type": "execute_result"
    }
   ],
   "source": [
    "# Realizar la prediccion usando el modelo de regresión lineal\n",
    "Yhat = lm1.predict( X_autos2_test  )\n",
    "\n",
    "# Mostramos los primeros 5 valores de la predicción\n",
    "Yhat[0:5]"
   ]
  },
  {
   "cell_type": "code",
   "execution_count": 74,
   "id": "2eb5ee19",
   "metadata": {},
   "outputs": [
    {
     "data": {
      "text/plain": [
       "0.4401467208926817"
      ]
     },
     "execution_count": 74,
     "metadata": {},
     "output_type": "execute_result"
    }
   ],
   "source": [
    "# Revisar la precisión del modelo de prueba\n",
    "\n",
    "lm1.score( X_autos2_test, y_autos2_test )"
   ]
  },
  {
   "cell_type": "markdown",
   "id": "a7edbb45",
   "metadata": {},
   "source": [
    "### Valor de la intercepción"
   ]
  },
  {
   "cell_type": "code",
   "execution_count": 75,
   "id": "36ce4dd9",
   "metadata": {},
   "outputs": [
    {
     "data": {
      "text/plain": [
       "array([32054.80610905])"
      ]
     },
     "execution_count": 75,
     "metadata": {},
     "output_type": "execute_result"
    }
   ],
   "source": [
    "# Mostrar el valor de la intercepcion\n",
    "\n",
    "lm1.intercept_"
   ]
  },
  {
   "cell_type": "markdown",
   "id": "92f076bf",
   "metadata": {},
   "source": [
    "### valor del coeficiente "
   ]
  },
  {
   "cell_type": "code",
   "execution_count": 76,
   "id": "73016584",
   "metadata": {},
   "outputs": [
    {
     "data": {
      "text/plain": [
       "array([[-768.88404741]])"
      ]
     },
     "execution_count": 76,
     "metadata": {},
     "output_type": "execute_result"
    }
   ],
   "source": [
    "# Mostrar los valores generado \n",
    "\n",
    "lm1.coef_"
   ]
  },
  {
   "cell_type": "markdown",
   "id": "1cd983cf",
   "metadata": {},
   "source": [
    "Como vimos arriba, deberíamos obtener un modelo lineal final con la estructura:"
   ]
  },
  {
   "cell_type": "code",
   "execution_count": 77,
   "id": "48199d9d",
   "metadata": {},
   "outputs": [
    {
     "name": "stdout",
     "output_type": "stream",
     "text": [
      "Precio 13601.690000000002\n"
     ]
    }
   ],
   "source": [
    "# Yhat = w X + b\n",
    "# b = intercept  = 32054.81\n",
    "# w =  coeficientes o peso de la caracteristica  -768.88\n",
    "\n",
    "# Valor a predecir con un consumo de combustible de 24 mpg\n",
    "\n",
    "Yhat =  32054.81 - 768.88 * 24\n",
    "\n",
    "print(\"Precio\", Yhat)"
   ]
  },
  {
   "cell_type": "code",
   "execution_count": 78,
   "id": "47e500ec",
   "metadata": {},
   "outputs": [
    {
     "data": {
      "text/html": [
       "<div>\n",
       "<style scoped>\n",
       "    .dataframe tbody tr th:only-of-type {\n",
       "        vertical-align: middle;\n",
       "    }\n",
       "\n",
       "    .dataframe tbody tr th {\n",
       "        vertical-align: top;\n",
       "    }\n",
       "\n",
       "    .dataframe thead th {\n",
       "        text-align: right;\n",
       "    }\n",
       "</style>\n",
       "<table border=\"1\" class=\"dataframe\">\n",
       "  <thead>\n",
       "    <tr style=\"text-align: right;\">\n",
       "      <th></th>\n",
       "      <th>symboling</th>\n",
       "      <th>normalized-losses</th>\n",
       "      <th>make</th>\n",
       "      <th>fuel-type</th>\n",
       "      <th>aspiration</th>\n",
       "      <th>num-of-doors</th>\n",
       "      <th>body-style</th>\n",
       "      <th>drive-wheels</th>\n",
       "      <th>engine-location</th>\n",
       "      <th>wheel-base</th>\n",
       "      <th>...</th>\n",
       "      <th>peak-rpm</th>\n",
       "      <th>city-mpg</th>\n",
       "      <th>highway-L/100km</th>\n",
       "      <th>price</th>\n",
       "      <th>city-L/100km</th>\n",
       "      <th>fuel-type_code</th>\n",
       "      <th>diesel</th>\n",
       "      <th>gas</th>\n",
       "      <th>fuel-type-map</th>\n",
       "      <th>horsepower-binned</th>\n",
       "    </tr>\n",
       "  </thead>\n",
       "  <tbody>\n",
       "    <tr>\n",
       "      <th>3</th>\n",
       "      <td>2</td>\n",
       "      <td>164</td>\n",
       "      <td>audi</td>\n",
       "      <td>gas</td>\n",
       "      <td>std</td>\n",
       "      <td>four</td>\n",
       "      <td>sedan</td>\n",
       "      <td>fwd</td>\n",
       "      <td>front</td>\n",
       "      <td>99.8</td>\n",
       "      <td>...</td>\n",
       "      <td>5500.0</td>\n",
       "      <td>24</td>\n",
       "      <td>7.833333</td>\n",
       "      <td>13950.0</td>\n",
       "      <td>9.791667</td>\n",
       "      <td>1</td>\n",
       "      <td>0</td>\n",
       "      <td>1</td>\n",
       "      <td>1</td>\n",
       "      <td>Low</td>\n",
       "    </tr>\n",
       "    <tr>\n",
       "      <th>22</th>\n",
       "      <td>1</td>\n",
       "      <td>118</td>\n",
       "      <td>dodge</td>\n",
       "      <td>gas</td>\n",
       "      <td>turbo</td>\n",
       "      <td>two</td>\n",
       "      <td>hatchback</td>\n",
       "      <td>fwd</td>\n",
       "      <td>front</td>\n",
       "      <td>93.7</td>\n",
       "      <td>...</td>\n",
       "      <td>5500.0</td>\n",
       "      <td>24</td>\n",
       "      <td>7.833333</td>\n",
       "      <td>7957.0</td>\n",
       "      <td>9.791667</td>\n",
       "      <td>1</td>\n",
       "      <td>0</td>\n",
       "      <td>1</td>\n",
       "      <td>1</td>\n",
       "      <td>Low</td>\n",
       "    </tr>\n",
       "    <tr>\n",
       "      <th>26</th>\n",
       "      <td>1</td>\n",
       "      <td>148</td>\n",
       "      <td>dodge</td>\n",
       "      <td>gas</td>\n",
       "      <td>turbo</td>\n",
       "      <td>four</td>\n",
       "      <td>sedan</td>\n",
       "      <td>fwd</td>\n",
       "      <td>front</td>\n",
       "      <td>93.7</td>\n",
       "      <td>...</td>\n",
       "      <td>5500.0</td>\n",
       "      <td>24</td>\n",
       "      <td>7.833333</td>\n",
       "      <td>8558.0</td>\n",
       "      <td>9.791667</td>\n",
       "      <td>1</td>\n",
       "      <td>0</td>\n",
       "      <td>1</td>\n",
       "      <td>1</td>\n",
       "      <td>Low</td>\n",
       "    </tr>\n",
       "    <tr>\n",
       "      <th>27</th>\n",
       "      <td>-1</td>\n",
       "      <td>110</td>\n",
       "      <td>dodge</td>\n",
       "      <td>gas</td>\n",
       "      <td>std</td>\n",
       "      <td>four</td>\n",
       "      <td>wagon</td>\n",
       "      <td>fwd</td>\n",
       "      <td>front</td>\n",
       "      <td>103.3</td>\n",
       "      <td>...</td>\n",
       "      <td>5000.0</td>\n",
       "      <td>24</td>\n",
       "      <td>7.833333</td>\n",
       "      <td>8921.0</td>\n",
       "      <td>9.791667</td>\n",
       "      <td>1</td>\n",
       "      <td>0</td>\n",
       "      <td>1</td>\n",
       "      <td>1</td>\n",
       "      <td>Low</td>\n",
       "    </tr>\n",
       "    <tr>\n",
       "      <th>40</th>\n",
       "      <td>0</td>\n",
       "      <td>85</td>\n",
       "      <td>honda</td>\n",
       "      <td>gas</td>\n",
       "      <td>std</td>\n",
       "      <td>four</td>\n",
       "      <td>sedan</td>\n",
       "      <td>fwd</td>\n",
       "      <td>front</td>\n",
       "      <td>96.5</td>\n",
       "      <td>...</td>\n",
       "      <td>5800.0</td>\n",
       "      <td>24</td>\n",
       "      <td>8.392857</td>\n",
       "      <td>12945.0</td>\n",
       "      <td>9.791667</td>\n",
       "      <td>1</td>\n",
       "      <td>0</td>\n",
       "      <td>1</td>\n",
       "      <td>1</td>\n",
       "      <td>Low</td>\n",
       "    </tr>\n",
       "    <tr>\n",
       "      <th>42</th>\n",
       "      <td>0</td>\n",
       "      <td>122</td>\n",
       "      <td>isuzu</td>\n",
       "      <td>gas</td>\n",
       "      <td>std</td>\n",
       "      <td>four</td>\n",
       "      <td>sedan</td>\n",
       "      <td>rwd</td>\n",
       "      <td>front</td>\n",
       "      <td>94.3</td>\n",
       "      <td>...</td>\n",
       "      <td>4800.0</td>\n",
       "      <td>24</td>\n",
       "      <td>8.103448</td>\n",
       "      <td>6785.0</td>\n",
       "      <td>9.791667</td>\n",
       "      <td>1</td>\n",
       "      <td>0</td>\n",
       "      <td>1</td>\n",
       "      <td>1</td>\n",
       "      <td>Low</td>\n",
       "    </tr>\n",
       "    <tr>\n",
       "      <th>43</th>\n",
       "      <td>2</td>\n",
       "      <td>122</td>\n",
       "      <td>isuzu</td>\n",
       "      <td>gas</td>\n",
       "      <td>std</td>\n",
       "      <td>two</td>\n",
       "      <td>hatchback</td>\n",
       "      <td>rwd</td>\n",
       "      <td>front</td>\n",
       "      <td>96.0</td>\n",
       "      <td>...</td>\n",
       "      <td>5000.0</td>\n",
       "      <td>24</td>\n",
       "      <td>8.103448</td>\n",
       "      <td>11048.0</td>\n",
       "      <td>9.791667</td>\n",
       "      <td>1</td>\n",
       "      <td>0</td>\n",
       "      <td>1</td>\n",
       "      <td>1</td>\n",
       "      <td>Low</td>\n",
       "    </tr>\n",
       "    <tr>\n",
       "      <th>76</th>\n",
       "      <td>1</td>\n",
       "      <td>161</td>\n",
       "      <td>mitsubishi</td>\n",
       "      <td>gas</td>\n",
       "      <td>turbo</td>\n",
       "      <td>two</td>\n",
       "      <td>hatchback</td>\n",
       "      <td>fwd</td>\n",
       "      <td>front</td>\n",
       "      <td>93.0</td>\n",
       "      <td>...</td>\n",
       "      <td>5500.0</td>\n",
       "      <td>24</td>\n",
       "      <td>7.833333</td>\n",
       "      <td>7689.0</td>\n",
       "      <td>9.791667</td>\n",
       "      <td>1</td>\n",
       "      <td>0</td>\n",
       "      <td>1</td>\n",
       "      <td>1</td>\n",
       "      <td>Low</td>\n",
       "    </tr>\n",
       "    <tr>\n",
       "      <th>116</th>\n",
       "      <td>1</td>\n",
       "      <td>119</td>\n",
       "      <td>plymouth</td>\n",
       "      <td>gas</td>\n",
       "      <td>turbo</td>\n",
       "      <td>two</td>\n",
       "      <td>hatchback</td>\n",
       "      <td>fwd</td>\n",
       "      <td>front</td>\n",
       "      <td>93.7</td>\n",
       "      <td>...</td>\n",
       "      <td>5500.0</td>\n",
       "      <td>24</td>\n",
       "      <td>7.833333</td>\n",
       "      <td>7957.0</td>\n",
       "      <td>9.791667</td>\n",
       "      <td>1</td>\n",
       "      <td>0</td>\n",
       "      <td>1</td>\n",
       "      <td>1</td>\n",
       "      <td>Low</td>\n",
       "    </tr>\n",
       "    <tr>\n",
       "      <th>120</th>\n",
       "      <td>-1</td>\n",
       "      <td>74</td>\n",
       "      <td>plymouth</td>\n",
       "      <td>gas</td>\n",
       "      <td>std</td>\n",
       "      <td>four</td>\n",
       "      <td>wagon</td>\n",
       "      <td>fwd</td>\n",
       "      <td>front</td>\n",
       "      <td>103.3</td>\n",
       "      <td>...</td>\n",
       "      <td>5000.0</td>\n",
       "      <td>24</td>\n",
       "      <td>7.833333</td>\n",
       "      <td>8921.0</td>\n",
       "      <td>9.791667</td>\n",
       "      <td>1</td>\n",
       "      <td>0</td>\n",
       "      <td>1</td>\n",
       "      <td>1</td>\n",
       "      <td>Low</td>\n",
       "    </tr>\n",
       "    <tr>\n",
       "      <th>140</th>\n",
       "      <td>0</td>\n",
       "      <td>102</td>\n",
       "      <td>subaru</td>\n",
       "      <td>gas</td>\n",
       "      <td>std</td>\n",
       "      <td>four</td>\n",
       "      <td>sedan</td>\n",
       "      <td>4wd</td>\n",
       "      <td>front</td>\n",
       "      <td>97.0</td>\n",
       "      <td>...</td>\n",
       "      <td>4800.0</td>\n",
       "      <td>24</td>\n",
       "      <td>9.400000</td>\n",
       "      <td>9233.0</td>\n",
       "      <td>9.791667</td>\n",
       "      <td>1</td>\n",
       "      <td>0</td>\n",
       "      <td>1</td>\n",
       "      <td>1</td>\n",
       "      <td>Low</td>\n",
       "    </tr>\n",
       "    <tr>\n",
       "      <th>141</th>\n",
       "      <td>0</td>\n",
       "      <td>102</td>\n",
       "      <td>subaru</td>\n",
       "      <td>gas</td>\n",
       "      <td>turbo</td>\n",
       "      <td>four</td>\n",
       "      <td>sedan</td>\n",
       "      <td>4wd</td>\n",
       "      <td>front</td>\n",
       "      <td>97.0</td>\n",
       "      <td>...</td>\n",
       "      <td>4800.0</td>\n",
       "      <td>24</td>\n",
       "      <td>8.103448</td>\n",
       "      <td>11259.0</td>\n",
       "      <td>9.791667</td>\n",
       "      <td>1</td>\n",
       "      <td>0</td>\n",
       "      <td>1</td>\n",
       "      <td>1</td>\n",
       "      <td>Low</td>\n",
       "    </tr>\n",
       "    <tr>\n",
       "      <th>163</th>\n",
       "      <td>2</td>\n",
       "      <td>134</td>\n",
       "      <td>toyota</td>\n",
       "      <td>gas</td>\n",
       "      <td>std</td>\n",
       "      <td>two</td>\n",
       "      <td>hardtop</td>\n",
       "      <td>rwd</td>\n",
       "      <td>front</td>\n",
       "      <td>98.4</td>\n",
       "      <td>...</td>\n",
       "      <td>4800.0</td>\n",
       "      <td>24</td>\n",
       "      <td>7.833333</td>\n",
       "      <td>8449.0</td>\n",
       "      <td>9.791667</td>\n",
       "      <td>1</td>\n",
       "      <td>0</td>\n",
       "      <td>1</td>\n",
       "      <td>1</td>\n",
       "      <td>Low</td>\n",
       "    </tr>\n",
       "    <tr>\n",
       "      <th>164</th>\n",
       "      <td>2</td>\n",
       "      <td>134</td>\n",
       "      <td>toyota</td>\n",
       "      <td>gas</td>\n",
       "      <td>std</td>\n",
       "      <td>two</td>\n",
       "      <td>hardtop</td>\n",
       "      <td>rwd</td>\n",
       "      <td>front</td>\n",
       "      <td>98.4</td>\n",
       "      <td>...</td>\n",
       "      <td>4800.0</td>\n",
       "      <td>24</td>\n",
       "      <td>7.833333</td>\n",
       "      <td>9639.0</td>\n",
       "      <td>9.791667</td>\n",
       "      <td>1</td>\n",
       "      <td>0</td>\n",
       "      <td>1</td>\n",
       "      <td>1</td>\n",
       "      <td>Low</td>\n",
       "    </tr>\n",
       "    <tr>\n",
       "      <th>165</th>\n",
       "      <td>2</td>\n",
       "      <td>134</td>\n",
       "      <td>toyota</td>\n",
       "      <td>gas</td>\n",
       "      <td>std</td>\n",
       "      <td>two</td>\n",
       "      <td>hatchback</td>\n",
       "      <td>rwd</td>\n",
       "      <td>front</td>\n",
       "      <td>98.4</td>\n",
       "      <td>...</td>\n",
       "      <td>4800.0</td>\n",
       "      <td>24</td>\n",
       "      <td>7.833333</td>\n",
       "      <td>9989.0</td>\n",
       "      <td>9.791667</td>\n",
       "      <td>1</td>\n",
       "      <td>0</td>\n",
       "      <td>1</td>\n",
       "      <td>1</td>\n",
       "      <td>Low</td>\n",
       "    </tr>\n",
       "    <tr>\n",
       "      <th>166</th>\n",
       "      <td>2</td>\n",
       "      <td>134</td>\n",
       "      <td>toyota</td>\n",
       "      <td>gas</td>\n",
       "      <td>std</td>\n",
       "      <td>two</td>\n",
       "      <td>hardtop</td>\n",
       "      <td>rwd</td>\n",
       "      <td>front</td>\n",
       "      <td>98.4</td>\n",
       "      <td>...</td>\n",
       "      <td>4800.0</td>\n",
       "      <td>24</td>\n",
       "      <td>7.833333</td>\n",
       "      <td>11199.0</td>\n",
       "      <td>9.791667</td>\n",
       "      <td>1</td>\n",
       "      <td>0</td>\n",
       "      <td>1</td>\n",
       "      <td>1</td>\n",
       "      <td>Low</td>\n",
       "    </tr>\n",
       "    <tr>\n",
       "      <th>167</th>\n",
       "      <td>2</td>\n",
       "      <td>134</td>\n",
       "      <td>toyota</td>\n",
       "      <td>gas</td>\n",
       "      <td>std</td>\n",
       "      <td>two</td>\n",
       "      <td>hatchback</td>\n",
       "      <td>rwd</td>\n",
       "      <td>front</td>\n",
       "      <td>98.4</td>\n",
       "      <td>...</td>\n",
       "      <td>4800.0</td>\n",
       "      <td>24</td>\n",
       "      <td>7.833333</td>\n",
       "      <td>11549.0</td>\n",
       "      <td>9.791667</td>\n",
       "      <td>1</td>\n",
       "      <td>0</td>\n",
       "      <td>1</td>\n",
       "      <td>1</td>\n",
       "      <td>Low</td>\n",
       "    </tr>\n",
       "    <tr>\n",
       "      <th>168</th>\n",
       "      <td>2</td>\n",
       "      <td>134</td>\n",
       "      <td>toyota</td>\n",
       "      <td>gas</td>\n",
       "      <td>std</td>\n",
       "      <td>two</td>\n",
       "      <td>convertible</td>\n",
       "      <td>rwd</td>\n",
       "      <td>front</td>\n",
       "      <td>98.4</td>\n",
       "      <td>...</td>\n",
       "      <td>4800.0</td>\n",
       "      <td>24</td>\n",
       "      <td>7.833333</td>\n",
       "      <td>17669.0</td>\n",
       "      <td>9.791667</td>\n",
       "      <td>1</td>\n",
       "      <td>0</td>\n",
       "      <td>1</td>\n",
       "      <td>1</td>\n",
       "      <td>Low</td>\n",
       "    </tr>\n",
       "    <tr>\n",
       "      <th>185</th>\n",
       "      <td>3</td>\n",
       "      <td>122</td>\n",
       "      <td>volkswagen</td>\n",
       "      <td>gas</td>\n",
       "      <td>std</td>\n",
       "      <td>two</td>\n",
       "      <td>convertible</td>\n",
       "      <td>fwd</td>\n",
       "      <td>front</td>\n",
       "      <td>94.5</td>\n",
       "      <td>...</td>\n",
       "      <td>5500.0</td>\n",
       "      <td>24</td>\n",
       "      <td>8.103448</td>\n",
       "      <td>11595.0</td>\n",
       "      <td>9.791667</td>\n",
       "      <td>1</td>\n",
       "      <td>0</td>\n",
       "      <td>1</td>\n",
       "      <td>1</td>\n",
       "      <td>Low</td>\n",
       "    </tr>\n",
       "    <tr>\n",
       "      <th>186</th>\n",
       "      <td>3</td>\n",
       "      <td>256</td>\n",
       "      <td>volkswagen</td>\n",
       "      <td>gas</td>\n",
       "      <td>std</td>\n",
       "      <td>two</td>\n",
       "      <td>hatchback</td>\n",
       "      <td>fwd</td>\n",
       "      <td>front</td>\n",
       "      <td>94.5</td>\n",
       "      <td>...</td>\n",
       "      <td>5500.0</td>\n",
       "      <td>24</td>\n",
       "      <td>8.103448</td>\n",
       "      <td>9980.0</td>\n",
       "      <td>9.791667</td>\n",
       "      <td>1</td>\n",
       "      <td>0</td>\n",
       "      <td>1</td>\n",
       "      <td>1</td>\n",
       "      <td>Low</td>\n",
       "    </tr>\n",
       "    <tr>\n",
       "      <th>192</th>\n",
       "      <td>-2</td>\n",
       "      <td>103</td>\n",
       "      <td>volvo</td>\n",
       "      <td>gas</td>\n",
       "      <td>std</td>\n",
       "      <td>four</td>\n",
       "      <td>sedan</td>\n",
       "      <td>rwd</td>\n",
       "      <td>front</td>\n",
       "      <td>104.3</td>\n",
       "      <td>...</td>\n",
       "      <td>5400.0</td>\n",
       "      <td>24</td>\n",
       "      <td>8.392857</td>\n",
       "      <td>15985.0</td>\n",
       "      <td>9.791667</td>\n",
       "      <td>1</td>\n",
       "      <td>0</td>\n",
       "      <td>1</td>\n",
       "      <td>1</td>\n",
       "      <td>Low</td>\n",
       "    </tr>\n",
       "    <tr>\n",
       "      <th>193</th>\n",
       "      <td>-1</td>\n",
       "      <td>74</td>\n",
       "      <td>volvo</td>\n",
       "      <td>gas</td>\n",
       "      <td>std</td>\n",
       "      <td>four</td>\n",
       "      <td>wagon</td>\n",
       "      <td>rwd</td>\n",
       "      <td>front</td>\n",
       "      <td>104.3</td>\n",
       "      <td>...</td>\n",
       "      <td>5400.0</td>\n",
       "      <td>24</td>\n",
       "      <td>8.392857</td>\n",
       "      <td>16515.0</td>\n",
       "      <td>9.791667</td>\n",
       "      <td>1</td>\n",
       "      <td>0</td>\n",
       "      <td>1</td>\n",
       "      <td>1</td>\n",
       "      <td>Low</td>\n",
       "    </tr>\n",
       "  </tbody>\n",
       "</table>\n",
       "<p>22 rows × 32 columns</p>\n",
       "</div>"
      ],
      "text/plain": [
       "     symboling  normalized-losses        make fuel-type aspiration  \\\n",
       "3            2                164        audi       gas        std   \n",
       "22           1                118       dodge       gas      turbo   \n",
       "26           1                148       dodge       gas      turbo   \n",
       "27          -1                110       dodge       gas        std   \n",
       "40           0                 85       honda       gas        std   \n",
       "42           0                122       isuzu       gas        std   \n",
       "43           2                122       isuzu       gas        std   \n",
       "76           1                161  mitsubishi       gas      turbo   \n",
       "116          1                119    plymouth       gas      turbo   \n",
       "120         -1                 74    plymouth       gas        std   \n",
       "140          0                102      subaru       gas        std   \n",
       "141          0                102      subaru       gas      turbo   \n",
       "163          2                134      toyota       gas        std   \n",
       "164          2                134      toyota       gas        std   \n",
       "165          2                134      toyota       gas        std   \n",
       "166          2                134      toyota       gas        std   \n",
       "167          2                134      toyota       gas        std   \n",
       "168          2                134      toyota       gas        std   \n",
       "185          3                122  volkswagen       gas        std   \n",
       "186          3                256  volkswagen       gas        std   \n",
       "192         -2                103       volvo       gas        std   \n",
       "193         -1                 74       volvo       gas        std   \n",
       "\n",
       "    num-of-doors   body-style drive-wheels engine-location  wheel-base  ...  \\\n",
       "3           four        sedan          fwd           front        99.8  ...   \n",
       "22           two    hatchback          fwd           front        93.7  ...   \n",
       "26          four        sedan          fwd           front        93.7  ...   \n",
       "27          four        wagon          fwd           front       103.3  ...   \n",
       "40          four        sedan          fwd           front        96.5  ...   \n",
       "42          four        sedan          rwd           front        94.3  ...   \n",
       "43           two    hatchback          rwd           front        96.0  ...   \n",
       "76           two    hatchback          fwd           front        93.0  ...   \n",
       "116          two    hatchback          fwd           front        93.7  ...   \n",
       "120         four        wagon          fwd           front       103.3  ...   \n",
       "140         four        sedan          4wd           front        97.0  ...   \n",
       "141         four        sedan          4wd           front        97.0  ...   \n",
       "163          two      hardtop          rwd           front        98.4  ...   \n",
       "164          two      hardtop          rwd           front        98.4  ...   \n",
       "165          two    hatchback          rwd           front        98.4  ...   \n",
       "166          two      hardtop          rwd           front        98.4  ...   \n",
       "167          two    hatchback          rwd           front        98.4  ...   \n",
       "168          two  convertible          rwd           front        98.4  ...   \n",
       "185          two  convertible          fwd           front        94.5  ...   \n",
       "186          two    hatchback          fwd           front        94.5  ...   \n",
       "192         four        sedan          rwd           front       104.3  ...   \n",
       "193         four        wagon          rwd           front       104.3  ...   \n",
       "\n",
       "     peak-rpm  city-mpg  highway-L/100km    price city-L/100km fuel-type_code  \\\n",
       "3      5500.0        24         7.833333  13950.0     9.791667              1   \n",
       "22     5500.0        24         7.833333   7957.0     9.791667              1   \n",
       "26     5500.0        24         7.833333   8558.0     9.791667              1   \n",
       "27     5000.0        24         7.833333   8921.0     9.791667              1   \n",
       "40     5800.0        24         8.392857  12945.0     9.791667              1   \n",
       "42     4800.0        24         8.103448   6785.0     9.791667              1   \n",
       "43     5000.0        24         8.103448  11048.0     9.791667              1   \n",
       "76     5500.0        24         7.833333   7689.0     9.791667              1   \n",
       "116    5500.0        24         7.833333   7957.0     9.791667              1   \n",
       "120    5000.0        24         7.833333   8921.0     9.791667              1   \n",
       "140    4800.0        24         9.400000   9233.0     9.791667              1   \n",
       "141    4800.0        24         8.103448  11259.0     9.791667              1   \n",
       "163    4800.0        24         7.833333   8449.0     9.791667              1   \n",
       "164    4800.0        24         7.833333   9639.0     9.791667              1   \n",
       "165    4800.0        24         7.833333   9989.0     9.791667              1   \n",
       "166    4800.0        24         7.833333  11199.0     9.791667              1   \n",
       "167    4800.0        24         7.833333  11549.0     9.791667              1   \n",
       "168    4800.0        24         7.833333  17669.0     9.791667              1   \n",
       "185    5500.0        24         8.103448  11595.0     9.791667              1   \n",
       "186    5500.0        24         8.103448   9980.0     9.791667              1   \n",
       "192    5400.0        24         8.392857  15985.0     9.791667              1   \n",
       "193    5400.0        24         8.392857  16515.0     9.791667              1   \n",
       "\n",
       "     diesel gas  fuel-type-map  horsepower-binned  \n",
       "3         0   1              1                Low  \n",
       "22        0   1              1                Low  \n",
       "26        0   1              1                Low  \n",
       "27        0   1              1                Low  \n",
       "40        0   1              1                Low  \n",
       "42        0   1              1                Low  \n",
       "43        0   1              1                Low  \n",
       "76        0   1              1                Low  \n",
       "116       0   1              1                Low  \n",
       "120       0   1              1                Low  \n",
       "140       0   1              1                Low  \n",
       "141       0   1              1                Low  \n",
       "163       0   1              1                Low  \n",
       "164       0   1              1                Low  \n",
       "165       0   1              1                Low  \n",
       "166       0   1              1                Low  \n",
       "167       0   1              1                Low  \n",
       "168       0   1              1                Low  \n",
       "185       0   1              1                Low  \n",
       "186       0   1              1                Low  \n",
       "192       0   1              1                Low  \n",
       "193       0   1              1                Low  \n",
       "\n",
       "[22 rows x 32 columns]"
      ]
     },
     "execution_count": 78,
     "metadata": {},
     "output_type": "execute_result"
    }
   ],
   "source": [
    "# Verificar autos con consumo de 24 mpg para verificar los precios de vehiculos\n",
    "# de la prediccion anterior \n",
    "\n",
    "vehiculos = autos2[ autos2['city-mpg'] == 24 ]\n",
    "vehiculos"
   ]
  },
  {
   "cell_type": "code",
   "execution_count": null,
   "id": "5aab51f8",
   "metadata": {},
   "outputs": [],
   "source": []
  },
  {
   "cell_type": "markdown",
   "id": "feb9749d",
   "metadata": {},
   "source": [
    "### 5. Regresion Lineal Simple con \"engine-size\" para predecir el precio del automóvil?   <a id='id5'> </a>\n",
    "\n",
    "- Para este ejemplo, **queremos evaluar cómo engine-size puede ayudarnos a predecir el precio del automóvil.**\n",
    "- Usando una regresión lineal simple, crearemos una función lineal con **\"engine-size\" como la variable predictora** y el \"precio\" como la variable objetivo."
   ]
  },
  {
   "cell_type": "code",
   "execution_count": 79,
   "id": "92fcc92a",
   "metadata": {},
   "outputs": [],
   "source": [
    "#  No podemos usar autos2_train y autos2_test directamente en la clasificación,\n",
    "#  Por lo tanto definimos un nuevo dataset con \n",
    "\n",
    "#  las caracteristicas de entrenamiento a partir del dataset de entrenamiento\n",
    "X2_autos2_train = autos2_train[['engine-size']]\n",
    "\n",
    "# Objetivo o valor a predecir \n",
    "y2_autos2_train = autos2_train[['price']]"
   ]
  },
  {
   "cell_type": "code",
   "execution_count": 80,
   "id": "6f3761ff",
   "metadata": {},
   "outputs": [],
   "source": [
    "# Realizamos el mismo procedimiento para los datasets de prueba\n",
    "\n",
    "# variables predictoras\n",
    "X2_autos2_test = autos2_test[['engine-size']]\n",
    "\n",
    "# Objetivo o valor a predecir \n",
    "y2_autos2_test = autos2_test[['price']]"
   ]
  },
  {
   "cell_type": "code",
   "execution_count": 81,
   "id": "57b3df8c",
   "metadata": {},
   "outputs": [
    {
     "data": {
      "text/plain": [
       "LinearRegression()"
      ]
     },
     "execution_count": 81,
     "metadata": {},
     "output_type": "execute_result"
    }
   ],
   "source": [
    "lm2 = LinearRegression()\n",
    "lm2"
   ]
  },
  {
   "cell_type": "code",
   "execution_count": 82,
   "id": "755a1587",
   "metadata": {},
   "outputs": [
    {
     "data": {
      "text/plain": [
       "LinearRegression()"
      ]
     },
     "execution_count": 82,
     "metadata": {},
     "output_type": "execute_result"
    }
   ],
   "source": [
    "# Propocionamos los valores al metodo fit (entrenar el modelo)\n",
    "\n",
    "lm2.fit( X2_autos2_train, y2_autos2_train )\n",
    "lm2"
   ]
  },
  {
   "cell_type": "code",
   "execution_count": 83,
   "id": "f5a975a2",
   "metadata": {},
   "outputs": [
    {
     "data": {
      "text/plain": [
       "0.7252698507018966"
      ]
     },
     "execution_count": 83,
     "metadata": {},
     "output_type": "execute_result"
    }
   ],
   "source": [
    "# Revisar la precisión del modelo de entrenamiento\n",
    "\n",
    "lm2.score( X2_autos2_train, y2_autos2_train )"
   ]
  },
  {
   "cell_type": "code",
   "execution_count": 84,
   "id": "1a226aaa",
   "metadata": {},
   "outputs": [
    {
     "data": {
      "text/plain": [
       "array([[157.22665211]])"
      ]
     },
     "execution_count": 84,
     "metadata": {},
     "output_type": "execute_result"
    }
   ],
   "source": [
    "lm2.coef_"
   ]
  },
  {
   "cell_type": "code",
   "execution_count": 85,
   "id": "b5c57a8f",
   "metadata": {},
   "outputs": [
    {
     "data": {
      "text/plain": [
       "array([-7046.06414113])"
      ]
     },
     "execution_count": 85,
     "metadata": {},
     "output_type": "execute_result"
    }
   ],
   "source": [
    "lm2.intercept_"
   ]
  },
  {
   "cell_type": "code",
   "execution_count": 86,
   "id": "a6798e72",
   "metadata": {},
   "outputs": [
    {
     "data": {
      "text/plain": [
       "array([[ 7104.33454906],\n",
       "       [10248.86759133],\n",
       "       [16852.38698008],\n",
       "       [21411.95989136],\n",
       "       [18267.4268491 ]])"
      ]
     },
     "execution_count": 86,
     "metadata": {},
     "output_type": "execute_result"
    }
   ],
   "source": [
    "# Realizar la prediccion usando el modelo de regresión lineal\n",
    "Y2hat = lm2.predict( X2_autos2_test  )\n",
    "\n",
    "# Mostramos los primeros 5 valores de la predicción\n",
    "Y2hat[0:5]"
   ]
  },
  {
   "cell_type": "code",
   "execution_count": 87,
   "id": "a52eb1a7",
   "metadata": {},
   "outputs": [
    {
     "data": {
      "text/plain": [
       "0.798398169627247"
      ]
     },
     "execution_count": 87,
     "metadata": {},
     "output_type": "execute_result"
    }
   ],
   "source": [
    "# Revisar la precisión del modelo de prueba\n",
    "\n",
    "lm2.score( X2_autos2_test, y2_autos2_test )"
   ]
  },
  {
   "cell_type": "code",
   "execution_count": 88,
   "id": "23054635",
   "metadata": {},
   "outputs": [
    {
     "data": {
      "text/plain": [
       "10249.239999999998"
      ]
     },
     "execution_count": 88,
     "metadata": {},
     "output_type": "execute_result"
    }
   ],
   "source": [
    "# Yhat = w X + b\n",
    "# b = intercept  = -7046.06\n",
    "# w =  coeficientes o peso de la caracteristica  157.23\n",
    "\n",
    "# Precio de un vehiculo con tamaño de motor de 110\n",
    "\n",
    "Yhat2 = 157.23 * 110 -7046.06\n",
    "Yhat2"
   ]
  },
  {
   "cell_type": "code",
   "execution_count": 89,
   "id": "a64d6c78",
   "metadata": {},
   "outputs": [
    {
     "data": {
      "text/html": [
       "<div>\n",
       "<style scoped>\n",
       "    .dataframe tbody tr th:only-of-type {\n",
       "        vertical-align: middle;\n",
       "    }\n",
       "\n",
       "    .dataframe tbody tr th {\n",
       "        vertical-align: top;\n",
       "    }\n",
       "\n",
       "    .dataframe thead th {\n",
       "        text-align: right;\n",
       "    }\n",
       "</style>\n",
       "<table border=\"1\" class=\"dataframe\">\n",
       "  <thead>\n",
       "    <tr style=\"text-align: right;\">\n",
       "      <th></th>\n",
       "      <th>symboling</th>\n",
       "      <th>normalized-losses</th>\n",
       "      <th>make</th>\n",
       "      <th>fuel-type</th>\n",
       "      <th>aspiration</th>\n",
       "      <th>num-of-doors</th>\n",
       "      <th>body-style</th>\n",
       "      <th>drive-wheels</th>\n",
       "      <th>engine-location</th>\n",
       "      <th>wheel-base</th>\n",
       "      <th>...</th>\n",
       "      <th>peak-rpm</th>\n",
       "      <th>city-mpg</th>\n",
       "      <th>highway-L/100km</th>\n",
       "      <th>price</th>\n",
       "      <th>city-L/100km</th>\n",
       "      <th>fuel-type_code</th>\n",
       "      <th>diesel</th>\n",
       "      <th>gas</th>\n",
       "      <th>fuel-type-map</th>\n",
       "      <th>horsepower-binned</th>\n",
       "    </tr>\n",
       "  </thead>\n",
       "  <tbody>\n",
       "    <tr>\n",
       "      <th>36</th>\n",
       "      <td>0</td>\n",
       "      <td>106</td>\n",
       "      <td>honda</td>\n",
       "      <td>gas</td>\n",
       "      <td>std</td>\n",
       "      <td>two</td>\n",
       "      <td>hatchback</td>\n",
       "      <td>fwd</td>\n",
       "      <td>front</td>\n",
       "      <td>96.5</td>\n",
       "      <td>...</td>\n",
       "      <td>5800.0</td>\n",
       "      <td>27</td>\n",
       "      <td>7.121212</td>\n",
       "      <td>7895.0</td>\n",
       "      <td>8.703704</td>\n",
       "      <td>1</td>\n",
       "      <td>0</td>\n",
       "      <td>1</td>\n",
       "      <td>1</td>\n",
       "      <td>Low</td>\n",
       "    </tr>\n",
       "    <tr>\n",
       "      <th>37</th>\n",
       "      <td>0</td>\n",
       "      <td>106</td>\n",
       "      <td>honda</td>\n",
       "      <td>gas</td>\n",
       "      <td>std</td>\n",
       "      <td>two</td>\n",
       "      <td>hatchback</td>\n",
       "      <td>fwd</td>\n",
       "      <td>front</td>\n",
       "      <td>96.5</td>\n",
       "      <td>...</td>\n",
       "      <td>5800.0</td>\n",
       "      <td>27</td>\n",
       "      <td>7.121212</td>\n",
       "      <td>9095.0</td>\n",
       "      <td>8.703704</td>\n",
       "      <td>1</td>\n",
       "      <td>0</td>\n",
       "      <td>1</td>\n",
       "      <td>1</td>\n",
       "      <td>Low</td>\n",
       "    </tr>\n",
       "    <tr>\n",
       "      <th>38</th>\n",
       "      <td>0</td>\n",
       "      <td>85</td>\n",
       "      <td>honda</td>\n",
       "      <td>gas</td>\n",
       "      <td>std</td>\n",
       "      <td>four</td>\n",
       "      <td>sedan</td>\n",
       "      <td>fwd</td>\n",
       "      <td>front</td>\n",
       "      <td>96.5</td>\n",
       "      <td>...</td>\n",
       "      <td>5800.0</td>\n",
       "      <td>27</td>\n",
       "      <td>7.121212</td>\n",
       "      <td>8845.0</td>\n",
       "      <td>8.703704</td>\n",
       "      <td>1</td>\n",
       "      <td>0</td>\n",
       "      <td>1</td>\n",
       "      <td>1</td>\n",
       "      <td>Low</td>\n",
       "    </tr>\n",
       "    <tr>\n",
       "      <th>39</th>\n",
       "      <td>0</td>\n",
       "      <td>85</td>\n",
       "      <td>honda</td>\n",
       "      <td>gas</td>\n",
       "      <td>std</td>\n",
       "      <td>four</td>\n",
       "      <td>sedan</td>\n",
       "      <td>fwd</td>\n",
       "      <td>front</td>\n",
       "      <td>96.5</td>\n",
       "      <td>...</td>\n",
       "      <td>5800.0</td>\n",
       "      <td>27</td>\n",
       "      <td>7.121212</td>\n",
       "      <td>10295.0</td>\n",
       "      <td>8.703704</td>\n",
       "      <td>1</td>\n",
       "      <td>0</td>\n",
       "      <td>1</td>\n",
       "      <td>1</td>\n",
       "      <td>Low</td>\n",
       "    </tr>\n",
       "    <tr>\n",
       "      <th>40</th>\n",
       "      <td>0</td>\n",
       "      <td>85</td>\n",
       "      <td>honda</td>\n",
       "      <td>gas</td>\n",
       "      <td>std</td>\n",
       "      <td>four</td>\n",
       "      <td>sedan</td>\n",
       "      <td>fwd</td>\n",
       "      <td>front</td>\n",
       "      <td>96.5</td>\n",
       "      <td>...</td>\n",
       "      <td>5800.0</td>\n",
       "      <td>24</td>\n",
       "      <td>8.392857</td>\n",
       "      <td>12945.0</td>\n",
       "      <td>9.791667</td>\n",
       "      <td>1</td>\n",
       "      <td>0</td>\n",
       "      <td>1</td>\n",
       "      <td>1</td>\n",
       "      <td>Low</td>\n",
       "    </tr>\n",
       "    <tr>\n",
       "      <th>41</th>\n",
       "      <td>1</td>\n",
       "      <td>107</td>\n",
       "      <td>honda</td>\n",
       "      <td>gas</td>\n",
       "      <td>std</td>\n",
       "      <td>two</td>\n",
       "      <td>sedan</td>\n",
       "      <td>fwd</td>\n",
       "      <td>front</td>\n",
       "      <td>96.5</td>\n",
       "      <td>...</td>\n",
       "      <td>5500.0</td>\n",
       "      <td>25</td>\n",
       "      <td>7.580645</td>\n",
       "      <td>10345.0</td>\n",
       "      <td>9.400000</td>\n",
       "      <td>1</td>\n",
       "      <td>0</td>\n",
       "      <td>1</td>\n",
       "      <td>1</td>\n",
       "      <td>Low</td>\n",
       "    </tr>\n",
       "    <tr>\n",
       "      <th>77</th>\n",
       "      <td>3</td>\n",
       "      <td>153</td>\n",
       "      <td>mitsubishi</td>\n",
       "      <td>gas</td>\n",
       "      <td>turbo</td>\n",
       "      <td>two</td>\n",
       "      <td>hatchback</td>\n",
       "      <td>fwd</td>\n",
       "      <td>front</td>\n",
       "      <td>96.3</td>\n",
       "      <td>...</td>\n",
       "      <td>5500.0</td>\n",
       "      <td>23</td>\n",
       "      <td>7.833333</td>\n",
       "      <td>9959.0</td>\n",
       "      <td>10.217391</td>\n",
       "      <td>1</td>\n",
       "      <td>0</td>\n",
       "      <td>1</td>\n",
       "      <td>1</td>\n",
       "      <td>Low</td>\n",
       "    </tr>\n",
       "    <tr>\n",
       "      <th>84</th>\n",
       "      <td>1</td>\n",
       "      <td>125</td>\n",
       "      <td>mitsubishi</td>\n",
       "      <td>gas</td>\n",
       "      <td>turbo</td>\n",
       "      <td>four</td>\n",
       "      <td>sedan</td>\n",
       "      <td>fwd</td>\n",
       "      <td>front</td>\n",
       "      <td>96.3</td>\n",
       "      <td>...</td>\n",
       "      <td>5500.0</td>\n",
       "      <td>23</td>\n",
       "      <td>7.833333</td>\n",
       "      <td>9279.0</td>\n",
       "      <td>10.217391</td>\n",
       "      <td>1</td>\n",
       "      <td>0</td>\n",
       "      <td>1</td>\n",
       "      <td>1</td>\n",
       "      <td>Low</td>\n",
       "    </tr>\n",
       "    <tr>\n",
       "      <th>85</th>\n",
       "      <td>-1</td>\n",
       "      <td>137</td>\n",
       "      <td>mitsubishi</td>\n",
       "      <td>gas</td>\n",
       "      <td>std</td>\n",
       "      <td>four</td>\n",
       "      <td>sedan</td>\n",
       "      <td>fwd</td>\n",
       "      <td>front</td>\n",
       "      <td>96.3</td>\n",
       "      <td>...</td>\n",
       "      <td>5500.0</td>\n",
       "      <td>23</td>\n",
       "      <td>7.833333</td>\n",
       "      <td>9279.0</td>\n",
       "      <td>10.217391</td>\n",
       "      <td>1</td>\n",
       "      <td>0</td>\n",
       "      <td>1</td>\n",
       "      <td>1</td>\n",
       "      <td>Low</td>\n",
       "    </tr>\n",
       "    <tr>\n",
       "      <th>154</th>\n",
       "      <td>0</td>\n",
       "      <td>91</td>\n",
       "      <td>toyota</td>\n",
       "      <td>diesel</td>\n",
       "      <td>std</td>\n",
       "      <td>four</td>\n",
       "      <td>sedan</td>\n",
       "      <td>fwd</td>\n",
       "      <td>front</td>\n",
       "      <td>95.7</td>\n",
       "      <td>...</td>\n",
       "      <td>4500.0</td>\n",
       "      <td>34</td>\n",
       "      <td>6.527778</td>\n",
       "      <td>7898.0</td>\n",
       "      <td>6.911765</td>\n",
       "      <td>0</td>\n",
       "      <td>1</td>\n",
       "      <td>0</td>\n",
       "      <td>0</td>\n",
       "      <td>Low</td>\n",
       "    </tr>\n",
       "    <tr>\n",
       "      <th>155</th>\n",
       "      <td>0</td>\n",
       "      <td>91</td>\n",
       "      <td>toyota</td>\n",
       "      <td>diesel</td>\n",
       "      <td>std</td>\n",
       "      <td>four</td>\n",
       "      <td>hatchback</td>\n",
       "      <td>fwd</td>\n",
       "      <td>front</td>\n",
       "      <td>95.7</td>\n",
       "      <td>...</td>\n",
       "      <td>4500.0</td>\n",
       "      <td>38</td>\n",
       "      <td>5.000000</td>\n",
       "      <td>7788.0</td>\n",
       "      <td>6.184211</td>\n",
       "      <td>0</td>\n",
       "      <td>1</td>\n",
       "      <td>0</td>\n",
       "      <td>0</td>\n",
       "      <td>Low</td>\n",
       "    </tr>\n",
       "    <tr>\n",
       "      <th>170</th>\n",
       "      <td>-1</td>\n",
       "      <td>65</td>\n",
       "      <td>toyota</td>\n",
       "      <td>diesel</td>\n",
       "      <td>turbo</td>\n",
       "      <td>four</td>\n",
       "      <td>sedan</td>\n",
       "      <td>fwd</td>\n",
       "      <td>front</td>\n",
       "      <td>102.4</td>\n",
       "      <td>...</td>\n",
       "      <td>4500.0</td>\n",
       "      <td>30</td>\n",
       "      <td>7.121212</td>\n",
       "      <td>10698.0</td>\n",
       "      <td>7.833333</td>\n",
       "      <td>0</td>\n",
       "      <td>1</td>\n",
       "      <td>0</td>\n",
       "      <td>0</td>\n",
       "      <td>Low</td>\n",
       "    </tr>\n",
       "  </tbody>\n",
       "</table>\n",
       "<p>12 rows × 32 columns</p>\n",
       "</div>"
      ],
      "text/plain": [
       "     symboling  normalized-losses        make fuel-type aspiration  \\\n",
       "36           0                106       honda       gas        std   \n",
       "37           0                106       honda       gas        std   \n",
       "38           0                 85       honda       gas        std   \n",
       "39           0                 85       honda       gas        std   \n",
       "40           0                 85       honda       gas        std   \n",
       "41           1                107       honda       gas        std   \n",
       "77           3                153  mitsubishi       gas      turbo   \n",
       "84           1                125  mitsubishi       gas      turbo   \n",
       "85          -1                137  mitsubishi       gas        std   \n",
       "154          0                 91      toyota    diesel        std   \n",
       "155          0                 91      toyota    diesel        std   \n",
       "170         -1                 65      toyota    diesel      turbo   \n",
       "\n",
       "    num-of-doors body-style drive-wheels engine-location  wheel-base  ...  \\\n",
       "36           two  hatchback          fwd           front        96.5  ...   \n",
       "37           two  hatchback          fwd           front        96.5  ...   \n",
       "38          four      sedan          fwd           front        96.5  ...   \n",
       "39          four      sedan          fwd           front        96.5  ...   \n",
       "40          four      sedan          fwd           front        96.5  ...   \n",
       "41           two      sedan          fwd           front        96.5  ...   \n",
       "77           two  hatchback          fwd           front        96.3  ...   \n",
       "84          four      sedan          fwd           front        96.3  ...   \n",
       "85          four      sedan          fwd           front        96.3  ...   \n",
       "154         four      sedan          fwd           front        95.7  ...   \n",
       "155         four  hatchback          fwd           front        95.7  ...   \n",
       "170         four      sedan          fwd           front       102.4  ...   \n",
       "\n",
       "     peak-rpm  city-mpg  highway-L/100km    price city-L/100km fuel-type_code  \\\n",
       "36     5800.0        27         7.121212   7895.0     8.703704              1   \n",
       "37     5800.0        27         7.121212   9095.0     8.703704              1   \n",
       "38     5800.0        27         7.121212   8845.0     8.703704              1   \n",
       "39     5800.0        27         7.121212  10295.0     8.703704              1   \n",
       "40     5800.0        24         8.392857  12945.0     9.791667              1   \n",
       "41     5500.0        25         7.580645  10345.0     9.400000              1   \n",
       "77     5500.0        23         7.833333   9959.0    10.217391              1   \n",
       "84     5500.0        23         7.833333   9279.0    10.217391              1   \n",
       "85     5500.0        23         7.833333   9279.0    10.217391              1   \n",
       "154    4500.0        34         6.527778   7898.0     6.911765              0   \n",
       "155    4500.0        38         5.000000   7788.0     6.184211              0   \n",
       "170    4500.0        30         7.121212  10698.0     7.833333              0   \n",
       "\n",
       "     diesel gas  fuel-type-map  horsepower-binned  \n",
       "36        0   1              1                Low  \n",
       "37        0   1              1                Low  \n",
       "38        0   1              1                Low  \n",
       "39        0   1              1                Low  \n",
       "40        0   1              1                Low  \n",
       "41        0   1              1                Low  \n",
       "77        0   1              1                Low  \n",
       "84        0   1              1                Low  \n",
       "85        0   1              1                Low  \n",
       "154       1   0              0                Low  \n",
       "155       1   0              0                Low  \n",
       "170       1   0              0                Low  \n",
       "\n",
       "[12 rows x 32 columns]"
      ]
     },
     "execution_count": 89,
     "metadata": {},
     "output_type": "execute_result"
    }
   ],
   "source": [
    "# Verificar autos con tamaño de motor de 200 para verificar los precios de vehiculos\n",
    "# de la prediccion anterior \n",
    "\n",
    "vehiculos = autos2[ autos2['engine-size'] == 110 ]\n",
    "vehiculos\n"
   ]
  },
  {
   "cell_type": "markdown",
   "id": "0fbc091d",
   "metadata": {},
   "source": [
    "### 6. Regresión lineal múltiple    <a id='id6'> </a>\n",
    "\n",
    "**¿Qué pasa si queremos predecir el precio del automóvil usando más de una variable?**\n",
    "\n",
    "- Si queremos usar más variables en nuestro modelo para predecir el precio del automóvil, podemos usar la regresión lineal múltiple. \n",
    "- La regresión lineal múltiple es muy similar a la regresión lineal simple, pero este método se utiliza para explicar la relación entre una variable de respuesta continua (dependiente) y dos o más variables predictoras (independientes). \n",
    "- La mayoría de los modelos de regresión del mundo real involucran múltiples predictores. \n",
    "- Ilustraremos la estructura usando cuatro variables predictoras, pero estos resultados pueden generalizarse a cualquier número entero:"
   ]
  },
  {
   "cell_type": "markdown",
   "id": "ae0d592c",
   "metadata": {},
   "source": [
    "**La ecuacion del modelo:**\n",
    "\n",
    "$$\n",
    "Yhat = b + w1 * X1 +  w2 * X2 +  w3 * X3 +  w4 * X4\n",
    "$$\n",
    "\n",
    "**Variables predictoras a usar**\n",
    "- Horsepower\n",
    "- Curb-weight\n",
    "- Engine-size\n",
    "- City-mpg  \n",
    "\n",
    "\n",
    "Vamos a desarrollar un nuevo modelo de prediccion usando diferentes carcateristicas oo variables que permitan hacer una prediccion ms exacta o real"
   ]
  },
  {
   "cell_type": "code",
   "execution_count": 90,
   "id": "5a421f85",
   "metadata": {},
   "outputs": [
    {
     "data": {
      "text/html": [
       "<div>\n",
       "<style scoped>\n",
       "    .dataframe tbody tr th:only-of-type {\n",
       "        vertical-align: middle;\n",
       "    }\n",
       "\n",
       "    .dataframe tbody tr th {\n",
       "        vertical-align: top;\n",
       "    }\n",
       "\n",
       "    .dataframe thead th {\n",
       "        text-align: right;\n",
       "    }\n",
       "</style>\n",
       "<table border=\"1\" class=\"dataframe\">\n",
       "  <thead>\n",
       "    <tr style=\"text-align: right;\">\n",
       "      <th></th>\n",
       "      <th>horsepower</th>\n",
       "      <th>curb-weight</th>\n",
       "      <th>engine-size</th>\n",
       "      <th>city-mpg</th>\n",
       "      <th>wheel-base</th>\n",
       "      <th>price</th>\n",
       "    </tr>\n",
       "  </thead>\n",
       "  <tbody>\n",
       "    <tr>\n",
       "      <th>horsepower</th>\n",
       "      <td>1.000000</td>\n",
       "      <td>0.757981</td>\n",
       "      <td>0.822668</td>\n",
       "      <td>-0.822192</td>\n",
       "      <td>0.371178</td>\n",
       "      <td>0.809607</td>\n",
       "    </tr>\n",
       "    <tr>\n",
       "      <th>curb-weight</th>\n",
       "      <td>0.757981</td>\n",
       "      <td>1.000000</td>\n",
       "      <td>0.849072</td>\n",
       "      <td>-0.749543</td>\n",
       "      <td>0.782097</td>\n",
       "      <td>0.834415</td>\n",
       "    </tr>\n",
       "    <tr>\n",
       "      <th>engine-size</th>\n",
       "      <td>0.822668</td>\n",
       "      <td>0.849072</td>\n",
       "      <td>1.000000</td>\n",
       "      <td>-0.650546</td>\n",
       "      <td>0.572027</td>\n",
       "      <td>0.872335</td>\n",
       "    </tr>\n",
       "    <tr>\n",
       "      <th>city-mpg</th>\n",
       "      <td>-0.822192</td>\n",
       "      <td>-0.749543</td>\n",
       "      <td>-0.650546</td>\n",
       "      <td>1.000000</td>\n",
       "      <td>-0.470606</td>\n",
       "      <td>-0.686571</td>\n",
       "    </tr>\n",
       "    <tr>\n",
       "      <th>wheel-base</th>\n",
       "      <td>0.371178</td>\n",
       "      <td>0.782097</td>\n",
       "      <td>0.572027</td>\n",
       "      <td>-0.470606</td>\n",
       "      <td>1.000000</td>\n",
       "      <td>0.584642</td>\n",
       "    </tr>\n",
       "    <tr>\n",
       "      <th>price</th>\n",
       "      <td>0.809607</td>\n",
       "      <td>0.834415</td>\n",
       "      <td>0.872335</td>\n",
       "      <td>-0.686571</td>\n",
       "      <td>0.584642</td>\n",
       "      <td>1.000000</td>\n",
       "    </tr>\n",
       "  </tbody>\n",
       "</table>\n",
       "</div>"
      ],
      "text/plain": [
       "             horsepower  curb-weight  engine-size  city-mpg  wheel-base  \\\n",
       "horsepower     1.000000     0.757981     0.822668 -0.822192    0.371178   \n",
       "curb-weight    0.757981     1.000000     0.849072 -0.749543    0.782097   \n",
       "engine-size    0.822668     0.849072     1.000000 -0.650546    0.572027   \n",
       "city-mpg      -0.822192    -0.749543    -0.650546  1.000000   -0.470606   \n",
       "wheel-base     0.371178     0.782097     0.572027 -0.470606    1.000000   \n",
       "price          0.809607     0.834415     0.872335 -0.686571    0.584642   \n",
       "\n",
       "                price  \n",
       "horsepower   0.809607  \n",
       "curb-weight  0.834415  \n",
       "engine-size  0.872335  \n",
       "city-mpg    -0.686571  \n",
       "wheel-base   0.584642  \n",
       "price        1.000000  "
      ]
     },
     "execution_count": 90,
     "metadata": {},
     "output_type": "execute_result"
    }
   ],
   "source": [
    "# Aunque ya lo habiamos hecho anteriormente, repasamos la correlaciion de diversas \n",
    "# variables de tipo entero o decimal (float)\n",
    "\n",
    "autos2[['horsepower', 'curb-weight', 'engine-size', 'city-mpg', 'wheel-base', 'price']].corr()"
   ]
  },
  {
   "cell_type": "code",
   "execution_count": 91,
   "id": "bdef83bd",
   "metadata": {},
   "outputs": [],
   "source": [
    "# Modelo de regresion lineal multiple\n",
    "\n",
    "# Variables predictoras\n",
    "X3_autos2_train = autos2_train[['horsepower', 'curb-weight', 'engine-size', 'city-mpg', 'wheel-base']]\n",
    "\n",
    "# Vaiable objetivo a predecir\n",
    "y3_autos2_train = autos2_train[['price']]"
   ]
  },
  {
   "cell_type": "code",
   "execution_count": 92,
   "id": "de9d79d3",
   "metadata": {},
   "outputs": [],
   "source": [
    "# Realizamos el mismo procedimiento para los datasets de prueba\n",
    "\n",
    "# variables predictoras\n",
    "X3_autos2_test = autos2_test[['horsepower', 'curb-weight', 'engine-size', 'city-mpg', 'wheel-base']]\n",
    "\n",
    "# Objetivo o valor a predecir \n",
    "y3_autos2_test = autos2_test[['price']]"
   ]
  },
  {
   "cell_type": "code",
   "execution_count": 93,
   "id": "18bea842",
   "metadata": {},
   "outputs": [
    {
     "data": {
      "text/plain": [
       "LinearRegression()"
      ]
     },
     "execution_count": 93,
     "metadata": {},
     "output_type": "execute_result"
    }
   ],
   "source": [
    "lm3 = LinearRegression()\n",
    "lm3"
   ]
  },
  {
   "cell_type": "code",
   "execution_count": 94,
   "id": "17d95c73",
   "metadata": {},
   "outputs": [
    {
     "data": {
      "text/plain": [
       "LinearRegression()"
      ]
     },
     "execution_count": 94,
     "metadata": {},
     "output_type": "execute_result"
    }
   ],
   "source": [
    "lm3.fit( X3_autos2_train, y3_autos2_train)"
   ]
  },
  {
   "cell_type": "code",
   "execution_count": 95,
   "id": "9709ba32",
   "metadata": {},
   "outputs": [
    {
     "data": {
      "text/plain": [
       "array([-27356.70306923])"
      ]
     },
     "execution_count": 95,
     "metadata": {},
     "output_type": "execute_result"
    }
   ],
   "source": [
    "lm3.intercept_"
   ]
  },
  {
   "cell_type": "code",
   "execution_count": 96,
   "id": "be4e0ddd",
   "metadata": {},
   "outputs": [
    {
     "data": {
      "text/plain": [
       "array([[ 46.68382016,   4.45962947,  65.04811288,  40.54065411,\n",
       "        149.63478447]])"
      ]
     },
     "execution_count": 96,
     "metadata": {},
     "output_type": "execute_result"
    }
   ],
   "source": [
    "# Coeficientes de cada caracteristica o variable predictora a usar\n",
    "\n",
    "lm3.coef_"
   ]
  },
  {
   "cell_type": "markdown",
   "id": "33e4ad7c",
   "metadata": {},
   "source": [
    "### Funcion lineal\n",
    "\n",
    "$$\n",
    "Yhat = b + w1 * X1 +  w2 * X2 +  w3 * X3 +  w4 * X4\n",
    "$$\n",
    "\n",
    "**Por lo tanto**  \n",
    "\n",
    "**Precio** = 27356.70 +  46.68 * **horsepower** + 4.46 * **curb-weight** +  65.04 * **engine-size** + 40.54  * **city-mpg** +   149.63 * **wheel-base**"
   ]
  },
  {
   "cell_type": "code",
   "execution_count": 97,
   "id": "8d7a3378",
   "metadata": {},
   "outputs": [
    {
     "data": {
      "text/plain": [
       "0.7997142067349934"
      ]
     },
     "execution_count": 97,
     "metadata": {},
     "output_type": "execute_result"
    }
   ],
   "source": [
    "lm3.score( X3_autos2_train, y3_autos2_train )"
   ]
  },
  {
   "cell_type": "code",
   "execution_count": 98,
   "id": "a543ead5",
   "metadata": {},
   "outputs": [],
   "source": [
    "Y3_hat = lm3.predict( X3_autos2_test )"
   ]
  },
  {
   "cell_type": "code",
   "execution_count": 99,
   "id": "c5d5d193",
   "metadata": {},
   "outputs": [
    {
     "data": {
      "text/plain": [
       "51"
      ]
     },
     "execution_count": 99,
     "metadata": {},
     "output_type": "execute_result"
    }
   ],
   "source": [
    "# Tamaño \n",
    "\n",
    "Y3_hat.size"
   ]
  },
  {
   "cell_type": "code",
   "execution_count": 100,
   "id": "5ceea52a",
   "metadata": {},
   "outputs": [
    {
     "data": {
      "text/plain": [
       "0.7905259631715036"
      ]
     },
     "execution_count": 100,
     "metadata": {},
     "output_type": "execute_result"
    }
   ],
   "source": [
    "# Precisión del las pruebas\n",
    "\n",
    "lm3.score( X3_autos2_test, y3_autos2_test )"
   ]
  },
  {
   "cell_type": "code",
   "execution_count": 101,
   "id": "81c09792",
   "metadata": {},
   "outputs": [
    {
     "data": {
      "text/plain": [
       "array([[ 5803.8721252 ],\n",
       "       [10805.21086922],\n",
       "       [20363.91084069],\n",
       "       [21028.02273094],\n",
       "       [20858.11892905],\n",
       "       [ 9501.38519288],\n",
       "       [13509.17551106],\n",
       "       [ 6113.45644036],\n",
       "       [17285.19910442],\n",
       "       [ 7102.63683792]])"
      ]
     },
     "execution_count": 101,
     "metadata": {},
     "output_type": "execute_result"
    }
   ],
   "source": [
    "# Mostrar las primeroas 10 predicciones \n",
    "Y3_hat[0:10]"
   ]
  },
  {
   "cell_type": "code",
   "execution_count": 102,
   "id": "8693b751",
   "metadata": {},
   "outputs": [
    {
     "data": {
      "text/html": [
       "<div>\n",
       "<style scoped>\n",
       "    .dataframe tbody tr th:only-of-type {\n",
       "        vertical-align: middle;\n",
       "    }\n",
       "\n",
       "    .dataframe tbody tr th {\n",
       "        vertical-align: top;\n",
       "    }\n",
       "\n",
       "    .dataframe thead th {\n",
       "        text-align: right;\n",
       "    }\n",
       "</style>\n",
       "<table border=\"1\" class=\"dataframe\">\n",
       "  <thead>\n",
       "    <tr style=\"text-align: right;\">\n",
       "      <th></th>\n",
       "      <th>price</th>\n",
       "    </tr>\n",
       "  </thead>\n",
       "  <tbody>\n",
       "    <tr>\n",
       "      <th>18</th>\n",
       "      <td>6295.0</td>\n",
       "    </tr>\n",
       "    <tr>\n",
       "      <th>170</th>\n",
       "      <td>10698.0</td>\n",
       "    </tr>\n",
       "    <tr>\n",
       "      <th>107</th>\n",
       "      <td>13860.0</td>\n",
       "    </tr>\n",
       "    <tr>\n",
       "      <th>98</th>\n",
       "      <td>13499.0</td>\n",
       "    </tr>\n",
       "    <tr>\n",
       "      <th>177</th>\n",
       "      <td>15750.0</td>\n",
       "    </tr>\n",
       "    <tr>\n",
       "      <th>182</th>\n",
       "      <td>8495.0</td>\n",
       "    </tr>\n",
       "    <tr>\n",
       "      <th>5</th>\n",
       "      <td>15250.0</td>\n",
       "    </tr>\n",
       "    <tr>\n",
       "      <th>146</th>\n",
       "      <td>5348.0</td>\n",
       "    </tr>\n",
       "    <tr>\n",
       "      <th>12</th>\n",
       "      <td>21105.0</td>\n",
       "    </tr>\n",
       "    <tr>\n",
       "      <th>152</th>\n",
       "      <td>6938.0</td>\n",
       "    </tr>\n",
       "  </tbody>\n",
       "</table>\n",
       "</div>"
      ],
      "text/plain": [
       "       price\n",
       "18    6295.0\n",
       "170  10698.0\n",
       "107  13860.0\n",
       "98   13499.0\n",
       "177  15750.0\n",
       "182   8495.0\n",
       "5    15250.0\n",
       "146   5348.0\n",
       "12   21105.0\n",
       "152   6938.0"
      ]
     },
     "execution_count": 102,
     "metadata": {},
     "output_type": "execute_result"
    }
   ],
   "source": [
    "# Mostrar los valores reales del dataset de prueba\n",
    "y3_autos2_test.head(10)"
   ]
  },
  {
   "cell_type": "code",
   "execution_count": 103,
   "id": "a8439780",
   "metadata": {},
   "outputs": [
    {
     "data": {
      "text/plain": [
       "18      6295.0\n",
       "170    10698.0\n",
       "107    13860.0\n",
       "98     13499.0\n",
       "177    15750.0\n",
       "182     8495.0\n",
       "5      15250.0\n",
       "146     5348.0\n",
       "12     21105.0\n",
       "152     6938.0\n",
       "61     11245.0\n",
       "125    37028.0\n",
       "180     7995.0\n",
       "154     7898.0\n",
       "80     14869.0\n",
       "7      18920.0\n",
       "33      7129.0\n",
       "130    15040.0\n",
       "37      9095.0\n",
       "74      6189.0\n",
       "183     9495.0\n",
       "145    11694.0\n",
       "45     35550.0\n",
       "159     8058.0\n",
       "60     10795.0\n",
       "123    32528.0\n",
       "179     7975.0\n",
       "185    11595.0\n",
       "122    22018.0\n",
       "44     32250.0\n",
       "16     36880.0\n",
       "55     15645.0\n",
       "150     7898.0\n",
       "111    17075.0\n",
       "22      7957.0\n",
       "189    12290.0\n",
       "129    12170.0\n",
       "4      17450.0\n",
       "83      8189.0\n",
       "106    12440.0\n",
       "134     5118.0\n",
       "66     28176.0\n",
       "26      8558.0\n",
       "113    17950.0\n",
       "168    17669.0\n",
       "63     18344.0\n",
       "8      23875.0\n",
       "75      6669.0\n",
       "118     6692.0\n",
       "143    10198.0\n",
       "71     45400.0\n",
       "Name: price, dtype: float64"
      ]
     },
     "execution_count": 103,
     "metadata": {},
     "output_type": "execute_result"
    }
   ],
   "source": [
    "y3_autos2_test['price']"
   ]
  },
  {
   "cell_type": "code",
   "execution_count": null,
   "id": "932616cf",
   "metadata": {},
   "outputs": [],
   "source": []
  },
  {
   "cell_type": "markdown",
   "id": "2db0dfbd",
   "metadata": {},
   "source": [
    "### 7. Evaluación del modelo usando visualización  <a id='id7'> </a>\n",
    "\n",
    "- Cuando se trata de **una regresión lineal simple**, una excelente manera de visualizar el ajuste de nuestro modelo es mediante los **gráficos de regresión**.\n",
    "- La evaluacion de un modelo de **regresion lineal multiple** se vuelve un poco más complicado porque **no se puede visualizar con un diagrama de regresión** o gráfico residual.\n",
    "- Una forma de ver el ajuste del modelo es mirar el **gráfico de distribución**\n",
    "- Podemos **observar la distribución de los valores ajustados que resultan del modelo y compararla con la distribución de los valores reales**."
   ]
  },
  {
   "cell_type": "code",
   "execution_count": 104,
   "id": "931b004f",
   "metadata": {},
   "outputs": [],
   "source": [
    "# Realizamos la prediccion, pasando los valores\n",
    "\n",
    "Y3_hat = lm3.predict( X3_autos2_test )"
   ]
  },
  {
   "cell_type": "code",
   "execution_count": 105,
   "id": "4d732f1e",
   "metadata": {
    "scrolled": false
   },
   "outputs": [
    {
     "name": "stderr",
     "output_type": "stream",
     "text": [
      "C:\\Anaconda3\\envs\\Diplomado python\\lib\\site-packages\\seaborn\\distributions.py:2619: FutureWarning: `distplot` is a deprecated function and will be removed in a future version. Please adapt your code to use either `displot` (a figure-level function with similar flexibility) or `kdeplot` (an axes-level function for kernel density plots).\n",
      "  warnings.warn(msg, FutureWarning)\n",
      "C:\\Anaconda3\\envs\\Diplomado python\\lib\\site-packages\\seaborn\\distributions.py:2619: FutureWarning: `distplot` is a deprecated function and will be removed in a future version. Please adapt your code to use either `displot` (a figure-level function with similar flexibility) or `kdeplot` (an axes-level function for kernel density plots).\n",
      "  warnings.warn(msg, FutureWarning)\n"
     ]
    },
    {
     "data": {
      "image/png": "[encoded data removed]",
      "text/plain": [
       "<Figure size 864x720 with 1 Axes>"
      ]
     },
     "metadata": {
      "needs_background": "light"
     },
     "output_type": "display_data"
    }
   ],
   "source": [
    "plt.figure(figsize=(12, 10))\n",
    "\n",
    "ax1 = sns.distplot( y3_autos2_test['price'] , hist=False, color=\"r\", label=\"Valor Real\")\n",
    "ax1 = sns.distplot(Y3_hat, hist=False, color=\"b\", label=\"Valor de Predicción\", ax = ax1 )\n",
    "\n",
    "plt.title('Precio Actual vs Predicción')\n",
    "plt.xlabel('Precio (en dolares)')\n",
    "plt.ylabel('Proporción de Vehiculos')\n",
    "\n",
    "ax1.legend(labels=['Valor Real','Valor Predicción'])\n",
    "\n",
    "plt.show()\n",
    "plt.close()"
   ]
  },
  {
   "cell_type": "markdown",
   "id": "73c4ee27",
   "metadata": {},
   "source": [
    "###    Gráfica de estimación de densidad kernel (KDE)\n",
    "\n",
    "- Una gráfica de estimación de densidad kernel (KDE) es un método para **visualizar la distribución de observaciones en un conjunto de datos, de forma análoga a un histograma**. \n",
    "- KDE representa los datos utilizando una curva de densidad de probabilidad continua en una o más dimensiones.\n",
    "- En relación con un histograma, KDE puede producir un gráfico menos desordenado y más interpretable, especialmente cuando se dibujan distribuciones múltiples. \n",
    "- Al igual que un histograma, la calidad de la representación también depende de la selección de buenos parámetros de suavizado."
   ]
  },
  {
   "cell_type": "code",
   "execution_count": 106,
   "id": "9bf6d80a",
   "metadata": {},
   "outputs": [
    {
     "data": {
      "image/png": "[encoded data removed]",
      "text/plain": [
       "<Figure size 864x720 with 1 Axes>"
      ]
     },
     "metadata": {
      "needs_background": "light"
     },
     "output_type": "display_data"
    }
   ],
   "source": [
    "plt.figure(figsize=(12, 10))\n",
    "\n",
    "ax1 = sns.kdeplot( y3_autos2_test['price'] ,  color=\"r\",  multiple=\"stack\", alpha=.2 )\n",
    "ax = sns.kdeplot( pd.Series(Y3_hat.flatten()), color=\"b\",  multiple=\"stack\", alpha=.5, ax = ax1)\n",
    "\n",
    "plt.title('Precio Actual vs Predicción')\n",
    "plt.xlabel('Precio (en dolares)')\n",
    "plt.ylabel('Proporción de Vehiculos')\n",
    "\n",
    "ax1.legend(labels=['Valor Real','Valor Predicción'])\n",
    "\n",
    "plt.show()\n",
    "plt.close()"
   ]
  },
  {
   "cell_type": "markdown",
   "id": "63535e73",
   "metadata": {},
   "source": [
    "## 8. Selección de variables más importantes con scikit-learn <a id='id8'> </a>\n",
    "\n",
    "- Dado un estimador externo que **asigna pesos a las características** (por ejemplo, los coeficientes de un modelo lineal), el objetivo de la **eliminación recursiva de características (RFE)** es seleccionar características considerando recursivamente conjuntos de características cada vez más pequeños. \n",
    "- Primero, el estimador se entrena en el conjunto inicial de características y **la importancia de cada característica se obtiene a través de cualquier atributo específico**. \n",
    "- Luego, **las características menos importantes se eliminan del conjunto** actual de características. \n",
    "- Ese procedimiento **se repite recursivamente** en el conjunto de datos **hasta que finalmente se alcanza el número deseado de características para seleccionar**.\n",
    "\n",
    "Referencias:\n",
    "- https://scikit-learn.org/stable/modules/generated/sklearn.feature_selection.RFE.html  \n",
    "- https://scikit-learn.org/stable/modules/svm.html  \n",
    "- SVC is a classifier, SVR is a regressor."
   ]
  },
  {
   "cell_type": "code",
   "execution_count": 107,
   "id": "4a4e7fb6",
   "metadata": {},
   "outputs": [],
   "source": [
    "# Variables predictoras\n",
    "Z = autos2[['horsepower', 'curb-weight', 'engine-size', 'city-mpg', 'wheel-base', 'bore', 'stroke']]\n",
    "\n",
    "# Vaiable objetivo a predecir\n",
    "y = autos2['price']"
   ]
  },
  {
   "cell_type": "code",
   "execution_count": 109,
   "id": "2ca84977",
   "metadata": {},
   "outputs": [
    {
     "data": {
      "text/plain": [
       "RFE(estimator=SVC(C=1, kernel='linear'), n_features_to_select=4)"
      ]
     },
     "execution_count": 109,
     "metadata": {},
     "output_type": "execute_result"
    }
   ],
   "source": [
    "from sklearn.feature_selection import RFE\n",
    "from sklearn.svm import SVC\n",
    "\n",
    "# Procedimiento RFE para eliminación recursiva de características y seleccionar\n",
    "# las más aptas para usarlas como variables predictoras\n",
    "\n",
    "# Crear un estimador para clasificacion   SVC\n",
    "estimator = SVC(kernel=\"linear\", C=1)\n",
    "selector = RFE(estimator=svc, n_features_to_select=4 , step=1)\n",
    "selector.fit(Z, y)\n",
    "selector"
   ]
  },
  {
   "cell_type": "code",
   "execution_count": 110,
   "id": "43f15089",
   "metadata": {},
   "outputs": [
    {
     "data": {
      "text/plain": [
       "array([ True,  True,  True, False,  True, False, False])"
      ]
     },
     "execution_count": 110,
     "metadata": {},
     "output_type": "execute_result"
    }
   ],
   "source": [
    "#  Método que evalua la Lista de variabes que fueron seleccionadas como predictoras\n",
    "#  Las que estan etiquetadas como True son las que se seleccionaron\n",
    "\n",
    "selector.support_"
   ]
  },
  {
   "cell_type": "code",
   "execution_count": 111,
   "id": "5fed3272",
   "metadata": {},
   "outputs": [
    {
     "data": {
      "text/plain": [
       "array([1, 1, 1, 2, 1, 4, 3])"
      ]
     },
     "execution_count": 111,
     "metadata": {},
     "output_type": "execute_result"
    }
   ],
   "source": [
    "#  Método que pondera la Lista de variabes que fueron seleccionadas como predictoras\n",
    "#  Las que estan etiquetadas como 1 son las que se seleccionaron\n",
    "#  La etiquetda como 2 tiene mas relevancia que la 3, la 3 que la 4 y así sucesivamente\n",
    "\n",
    "selector.ranking_"
   ]
  },
  {
   "cell_type": "markdown",
   "id": "04f51d94",
   "metadata": {},
   "source": [
    "####  Estimador para regresión"
   ]
  },
  {
   "cell_type": "code",
   "execution_count": 116,
   "id": "48b244b7",
   "metadata": {},
   "outputs": [
    {
     "data": {
      "text/plain": [
       "RFE(estimator=SVR(kernel='linear'), n_features_to_select=4)"
      ]
     },
     "execution_count": 116,
     "metadata": {},
     "output_type": "execute_result"
    }
   ],
   "source": [
    "from sklearn.feature_selection import RFE\n",
    "from sklearn.svm import SVR\n",
    "\n",
    "# Procedimiento RFE para eliminación recursiva de características y seleccionar\n",
    "# las más aptas para usarlas como variables predictoras\n",
    "\n",
    "# Crear un estimador para regresión   SVR\n",
    "estimator2 = SVR(kernel=\"linear\")\n",
    "selector2 = RFE(estimator2, n_features_to_select=4, step=1)\n",
    "selector2 = selector2.fit(Z, y)\n",
    "selector2"
   ]
  },
  {
   "cell_type": "code",
   "execution_count": 117,
   "id": "e7046fcc",
   "metadata": {},
   "outputs": [
    {
     "data": {
      "text/plain": [
       "array([ True, False,  True,  True,  True, False, False])"
      ]
     },
     "execution_count": 117,
     "metadata": {},
     "output_type": "execute_result"
    }
   ],
   "source": [
    "selector2.support_"
   ]
  },
  {
   "cell_type": "code",
   "execution_count": 118,
   "id": "0c6f1c39",
   "metadata": {},
   "outputs": [
    {
     "data": {
      "text/plain": [
       "array([1, 3, 1, 1, 1, 2, 4])"
      ]
     },
     "execution_count": 118,
     "metadata": {},
     "output_type": "execute_result"
    }
   ],
   "source": [
    "selector2.ranking_"
   ]
  },
  {
   "cell_type": "code",
   "execution_count": null,
   "id": "d817cb99",
   "metadata": {},
   "outputs": [],
   "source": []
  },
  {
   "cell_type": "code",
   "execution_count": null,
   "id": "ef08f22e",
   "metadata": {},
   "outputs": [],
   "source": []
  }
 ],
 "metadata": {
  "kernelspec": {
   "display_name": "Python 3 (ipykernel)",
   "language": "python",
   "name": "python3"
  },
  "language_info": {
   "codemirror_mode": {
    "name": "ipython",
    "version": 3
   },
   "file_extension": ".py",
   "mimetype": "text/x-python",
   "name": "python",
   "nbconvert_exporter": "python",
   "pygments_lexer": "ipython3",
   "version": "3.8.13"
  }
 },
 "nbformat": 4,
 "nbformat_minor": 5
}
