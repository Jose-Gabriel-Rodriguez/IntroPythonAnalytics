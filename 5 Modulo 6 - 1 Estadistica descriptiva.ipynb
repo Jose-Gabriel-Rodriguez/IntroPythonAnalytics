{
 "cells": [
  {
   "cell_type": "markdown",
   "id": "9f3e149e",
   "metadata": {},
   "source": [
    "\n",
    "![](Logo3.png)"
   ]
  },
  {
   "cell_type": "markdown",
   "id": "c678e20f",
   "metadata": {},
   "source": [
    "## Practica 1. Estadistica descriptiva en Python\n",
    "\n",
    "El objetivo de la primera parte de este laboratorio es utilizar métodos de pandas para importar un conjunto de datos y generar las estadísticas descriptivas siguientes:\n",
    "\n",
    "    tamaño de la muestra\n",
    "    media\n",
    "    mediana\n",
    "    Desviación estándar\n",
    "    mínima, máxima y rango de valores"
   ]
  },
  {
   "cell_type": "markdown",
   "id": "2f90be65",
   "metadata": {},
   "source": [
    "#### Paso 1: Configure el entorno e importe los datos.\n",
    "\n",
    "Primero, importará los módulos necesarios para trabajar con marcos de datos (dataframes), y usará pandas para importar los datos de un archivo csv a un marco de datos. **Trabajará con un archivo que contiene ejemplos de control de calidad para cajas de 20 oz de un producto alimenticio**. Los datos se utilizan para verificar la precisión de las máquinas que cargan las cajas."
   ]
  },
  {
   "cell_type": "code",
   "execution_count": 1,
   "id": "34728ec1",
   "metadata": {},
   "outputs": [],
   "source": [
    "import pandas as pd\n",
    "import matplotlib.pyplot as plt\n"
   ]
  },
  {
   "cell_type": "markdown",
   "id": "245df62d",
   "metadata": {},
   "source": [
    "Importar los datos del archivo **rpi_describe.csv** mediante el método de pandas **read_csv**. Utilizar \"datos\" como nombre del marco de datos."
   ]
  },
  {
   "cell_type": "code",
   "execution_count": 2,
   "id": "503bbcac",
   "metadata": {},
   "outputs": [],
   "source": [
    "datos = pd.read_csv(\"rpi_describe.csv\")"
   ]
  },
  {
   "cell_type": "markdown",
   "id": "c78eddd3",
   "metadata": {},
   "source": [
    "Verificar que el archivo se haya importado correctamente mediante el uso de los métodos de pandas **head** y **tail** para el marco de datos. Usar tambien el método **info**"
   ]
  },
  {
   "cell_type": "code",
   "execution_count": 3,
   "id": "ad7127e8",
   "metadata": {},
   "outputs": [
    {
     "data": {
      "text/html": [
       "<div>\n",
       "<style scoped>\n",
       "    .dataframe tbody tr th:only-of-type {\n",
       "        vertical-align: middle;\n",
       "    }\n",
       "\n",
       "    .dataframe tbody tr th {\n",
       "        vertical-align: top;\n",
       "    }\n",
       "\n",
       "    .dataframe thead th {\n",
       "        text-align: right;\n",
       "    }\n",
       "</style>\n",
       "<table border=\"1\" class=\"dataframe\">\n",
       "  <thead>\n",
       "    <tr style=\"text-align: right;\">\n",
       "      <th></th>\n",
       "      <th>weight</th>\n",
       "    </tr>\n",
       "  </thead>\n",
       "  <tbody>\n",
       "    <tr>\n",
       "      <th>0</th>\n",
       "      <td>20.440</td>\n",
       "    </tr>\n",
       "    <tr>\n",
       "      <th>1</th>\n",
       "      <td>20.244</td>\n",
       "    </tr>\n",
       "    <tr>\n",
       "      <th>2</th>\n",
       "      <td>20.549</td>\n",
       "    </tr>\n",
       "    <tr>\n",
       "      <th>3</th>\n",
       "      <td>20.755</td>\n",
       "    </tr>\n",
       "    <tr>\n",
       "      <th>4</th>\n",
       "      <td>20.740</td>\n",
       "    </tr>\n",
       "  </tbody>\n",
       "</table>\n",
       "</div>"
      ],
      "text/plain": [
       "   weight\n",
       "0  20.440\n",
       "1  20.244\n",
       "2  20.549\n",
       "3  20.755\n",
       "4  20.740"
      ]
     },
     "execution_count": 3,
     "metadata": {},
     "output_type": "execute_result"
    }
   ],
   "source": [
    "datos.head()"
   ]
  },
  {
   "cell_type": "code",
   "execution_count": 4,
   "id": "ff542ead",
   "metadata": {},
   "outputs": [
    {
     "data": {
      "text/html": [
       "<div>\n",
       "<style scoped>\n",
       "    .dataframe tbody tr th:only-of-type {\n",
       "        vertical-align: middle;\n",
       "    }\n",
       "\n",
       "    .dataframe tbody tr th {\n",
       "        vertical-align: top;\n",
       "    }\n",
       "\n",
       "    .dataframe thead th {\n",
       "        text-align: right;\n",
       "    }\n",
       "</style>\n",
       "<table border=\"1\" class=\"dataframe\">\n",
       "  <thead>\n",
       "    <tr style=\"text-align: right;\">\n",
       "      <th></th>\n",
       "      <th>weight</th>\n",
       "    </tr>\n",
       "  </thead>\n",
       "  <tbody>\n",
       "    <tr>\n",
       "      <th>9995</th>\n",
       "      <td>20.419</td>\n",
       "    </tr>\n",
       "    <tr>\n",
       "      <th>9996</th>\n",
       "      <td>20.554</td>\n",
       "    </tr>\n",
       "    <tr>\n",
       "      <th>9997</th>\n",
       "      <td>20.768</td>\n",
       "    </tr>\n",
       "    <tr>\n",
       "      <th>9998</th>\n",
       "      <td>20.829</td>\n",
       "    </tr>\n",
       "    <tr>\n",
       "      <th>9999</th>\n",
       "      <td>20.667</td>\n",
       "    </tr>\n",
       "  </tbody>\n",
       "</table>\n",
       "</div>"
      ],
      "text/plain": [
       "      weight\n",
       "9995  20.419\n",
       "9996  20.554\n",
       "9997  20.768\n",
       "9998  20.829\n",
       "9999  20.667"
      ]
     },
     "execution_count": 4,
     "metadata": {},
     "output_type": "execute_result"
    }
   ],
   "source": [
    "datos.tail()"
   ]
  },
  {
   "cell_type": "code",
   "execution_count": 5,
   "id": "eff3bcc6",
   "metadata": {},
   "outputs": [
    {
     "name": "stdout",
     "output_type": "stream",
     "text": [
      "<class 'pandas.core.frame.DataFrame'>\n",
      "RangeIndex: 10000 entries, 0 to 9999\n",
      "Data columns (total 1 columns):\n",
      " #   Column  Non-Null Count  Dtype  \n",
      "---  ------  --------------  -----  \n",
      " 0   weight  10000 non-null  float64\n",
      "dtypes: float64(1)\n",
      "memory usage: 78.2 KB\n"
     ]
    }
   ],
   "source": [
    "datos.info()"
   ]
  },
  {
   "cell_type": "markdown",
   "id": "254f69af",
   "metadata": {},
   "source": [
    "#### Paso 2: Utilice  pandas para visualizar la tabla de estadísticas descriptivas para el archivo.\n",
    "\n",
    "Pandas incluyen varios métodos eficaces para mostrar las estadísticas básicas en un conjunto de datos.\n",
    "\n",
    "a) El método **dataframe.describe()** muestra estadísticas del marco de datos."
   ]
  },
  {
   "cell_type": "code",
   "execution_count": 6,
   "id": "bf20e791",
   "metadata": {},
   "outputs": [
    {
     "data": {
      "text/html": [
       "<div>\n",
       "<style scoped>\n",
       "    .dataframe tbody tr th:only-of-type {\n",
       "        vertical-align: middle;\n",
       "    }\n",
       "\n",
       "    .dataframe tbody tr th {\n",
       "        vertical-align: top;\n",
       "    }\n",
       "\n",
       "    .dataframe thead th {\n",
       "        text-align: right;\n",
       "    }\n",
       "</style>\n",
       "<table border=\"1\" class=\"dataframe\">\n",
       "  <thead>\n",
       "    <tr style=\"text-align: right;\">\n",
       "      <th></th>\n",
       "      <th>weight</th>\n",
       "    </tr>\n",
       "  </thead>\n",
       "  <tbody>\n",
       "    <tr>\n",
       "      <th>count</th>\n",
       "      <td>10000.000000</td>\n",
       "    </tr>\n",
       "    <tr>\n",
       "      <th>mean</th>\n",
       "      <td>20.499212</td>\n",
       "    </tr>\n",
       "    <tr>\n",
       "      <th>std</th>\n",
       "      <td>0.199874</td>\n",
       "    </tr>\n",
       "    <tr>\n",
       "      <th>min</th>\n",
       "      <td>19.752000</td>\n",
       "    </tr>\n",
       "    <tr>\n",
       "      <th>25%</th>\n",
       "      <td>20.365000</td>\n",
       "    </tr>\n",
       "    <tr>\n",
       "      <th>50%</th>\n",
       "      <td>20.500000</td>\n",
       "    </tr>\n",
       "    <tr>\n",
       "      <th>75%</th>\n",
       "      <td>20.635000</td>\n",
       "    </tr>\n",
       "    <tr>\n",
       "      <th>max</th>\n",
       "      <td>21.171000</td>\n",
       "    </tr>\n",
       "  </tbody>\n",
       "</table>\n",
       "</div>"
      ],
      "text/plain": [
       "             weight\n",
       "count  10000.000000\n",
       "mean      20.499212\n",
       "std        0.199874\n",
       "min       19.752000\n",
       "25%       20.365000\n",
       "50%       20.500000\n",
       "75%       20.635000\n",
       "max       21.171000"
      ]
     },
     "execution_count": 6,
     "metadata": {},
     "output_type": "execute_result"
    }
   ],
   "source": [
    "datos.describe()"
   ]
  },
  {
   "cell_type": "markdown",
   "id": "752a52c8",
   "metadata": {},
   "source": [
    "#### Agregar columna con valores redondeados\n",
    "\n",
    "- Para trabajar con los valores redondeados de los pesos en el conjunto de datos, puede **agregar una nueva columna con los valores redondeados**. \n",
    "- En pandas, **se accede a las columnas por sus encabezados**. \n",
    "- Para crear una nueva columna, se utiliza el nombre de la nueva columna entre corchetes y entre comillas. \n",
    "- El **método round()** se utiliza para redondear los valores en la columna **weight** y completar una nueva columna con los valores redondeados."
   ]
  },
  {
   "cell_type": "code",
   "execution_count": 7,
   "id": "9d2ac313",
   "metadata": {},
   "outputs": [
    {
     "data": {
      "text/html": [
       "<div>\n",
       "<style scoped>\n",
       "    .dataframe tbody tr th:only-of-type {\n",
       "        vertical-align: middle;\n",
       "    }\n",
       "\n",
       "    .dataframe tbody tr th {\n",
       "        vertical-align: top;\n",
       "    }\n",
       "\n",
       "    .dataframe thead th {\n",
       "        text-align: right;\n",
       "    }\n",
       "</style>\n",
       "<table border=\"1\" class=\"dataframe\">\n",
       "  <thead>\n",
       "    <tr style=\"text-align: right;\">\n",
       "      <th></th>\n",
       "      <th>weight</th>\n",
       "      <th>redondeado</th>\n",
       "    </tr>\n",
       "  </thead>\n",
       "  <tbody>\n",
       "    <tr>\n",
       "      <th>0</th>\n",
       "      <td>20.440</td>\n",
       "      <td>20.44</td>\n",
       "    </tr>\n",
       "    <tr>\n",
       "      <th>1</th>\n",
       "      <td>20.244</td>\n",
       "      <td>20.24</td>\n",
       "    </tr>\n",
       "    <tr>\n",
       "      <th>2</th>\n",
       "      <td>20.549</td>\n",
       "      <td>20.55</td>\n",
       "    </tr>\n",
       "    <tr>\n",
       "      <th>3</th>\n",
       "      <td>20.755</td>\n",
       "      <td>20.76</td>\n",
       "    </tr>\n",
       "    <tr>\n",
       "      <th>4</th>\n",
       "      <td>20.740</td>\n",
       "      <td>20.74</td>\n",
       "    </tr>\n",
       "    <tr>\n",
       "      <th>5</th>\n",
       "      <td>20.847</td>\n",
       "      <td>20.85</td>\n",
       "    </tr>\n",
       "    <tr>\n",
       "      <th>6</th>\n",
       "      <td>20.063</td>\n",
       "      <td>20.06</td>\n",
       "    </tr>\n",
       "    <tr>\n",
       "      <th>7</th>\n",
       "      <td>20.453</td>\n",
       "      <td>20.45</td>\n",
       "    </tr>\n",
       "    <tr>\n",
       "      <th>8</th>\n",
       "      <td>20.719</td>\n",
       "      <td>20.72</td>\n",
       "    </tr>\n",
       "    <tr>\n",
       "      <th>9</th>\n",
       "      <td>20.283</td>\n",
       "      <td>20.28</td>\n",
       "    </tr>\n",
       "  </tbody>\n",
       "</table>\n",
       "</div>"
      ],
      "text/plain": [
       "   weight  redondeado\n",
       "0  20.440       20.44\n",
       "1  20.244       20.24\n",
       "2  20.549       20.55\n",
       "3  20.755       20.76\n",
       "4  20.740       20.74\n",
       "5  20.847       20.85\n",
       "6  20.063       20.06\n",
       "7  20.453       20.45\n",
       "8  20.719       20.72\n",
       "9  20.283       20.28"
      ]
     },
     "execution_count": 7,
     "metadata": {},
     "output_type": "execute_result"
    }
   ],
   "source": [
    "datos[\"redondeado\"] = datos.weight.round(2)\n",
    "datos.head(10)"
   ]
  },
  {
   "cell_type": "markdown",
   "id": "795ba2e7",
   "metadata": {},
   "source": [
    "#### Columna con valores calculados\n",
    "\n",
    "También es posible completar una columna con valores calculados. Por ejemplo,\n",
    "\n",
    "**dataframe['c'] = dataframe['a'] - dataframe['b']**\n",
    "\n",
    "- Crear una nueva columna en el marco de datos llamada \"diff\" y complete esa columna con la cantidad de peso sobre o debajo del valor objetivo de 20 onzas. Utilice el valor redondeado para el cálculo."
   ]
  },
  {
   "cell_type": "code",
   "execution_count": 8,
   "id": "3f429f42",
   "metadata": {
    "scrolled": true
   },
   "outputs": [
    {
     "data": {
      "text/html": [
       "<div>\n",
       "<style scoped>\n",
       "    .dataframe tbody tr th:only-of-type {\n",
       "        vertical-align: middle;\n",
       "    }\n",
       "\n",
       "    .dataframe tbody tr th {\n",
       "        vertical-align: top;\n",
       "    }\n",
       "\n",
       "    .dataframe thead th {\n",
       "        text-align: right;\n",
       "    }\n",
       "</style>\n",
       "<table border=\"1\" class=\"dataframe\">\n",
       "  <thead>\n",
       "    <tr style=\"text-align: right;\">\n",
       "      <th></th>\n",
       "      <th>weight</th>\n",
       "      <th>redondeado</th>\n",
       "      <th>diff</th>\n",
       "    </tr>\n",
       "  </thead>\n",
       "  <tbody>\n",
       "    <tr>\n",
       "      <th>0</th>\n",
       "      <td>20.440</td>\n",
       "      <td>20.44</td>\n",
       "      <td>0.44</td>\n",
       "    </tr>\n",
       "    <tr>\n",
       "      <th>1</th>\n",
       "      <td>20.244</td>\n",
       "      <td>20.24</td>\n",
       "      <td>0.24</td>\n",
       "    </tr>\n",
       "    <tr>\n",
       "      <th>2</th>\n",
       "      <td>20.549</td>\n",
       "      <td>20.55</td>\n",
       "      <td>0.55</td>\n",
       "    </tr>\n",
       "    <tr>\n",
       "      <th>3</th>\n",
       "      <td>20.755</td>\n",
       "      <td>20.76</td>\n",
       "      <td>0.76</td>\n",
       "    </tr>\n",
       "    <tr>\n",
       "      <th>4</th>\n",
       "      <td>20.740</td>\n",
       "      <td>20.74</td>\n",
       "      <td>0.74</td>\n",
       "    </tr>\n",
       "    <tr>\n",
       "      <th>5</th>\n",
       "      <td>20.847</td>\n",
       "      <td>20.85</td>\n",
       "      <td>0.85</td>\n",
       "    </tr>\n",
       "    <tr>\n",
       "      <th>6</th>\n",
       "      <td>20.063</td>\n",
       "      <td>20.06</td>\n",
       "      <td>0.06</td>\n",
       "    </tr>\n",
       "    <tr>\n",
       "      <th>7</th>\n",
       "      <td>20.453</td>\n",
       "      <td>20.45</td>\n",
       "      <td>0.45</td>\n",
       "    </tr>\n",
       "    <tr>\n",
       "      <th>8</th>\n",
       "      <td>20.719</td>\n",
       "      <td>20.72</td>\n",
       "      <td>0.72</td>\n",
       "    </tr>\n",
       "    <tr>\n",
       "      <th>9</th>\n",
       "      <td>20.283</td>\n",
       "      <td>20.28</td>\n",
       "      <td>0.28</td>\n",
       "    </tr>\n",
       "  </tbody>\n",
       "</table>\n",
       "</div>"
      ],
      "text/plain": [
       "   weight  redondeado  diff\n",
       "0  20.440       20.44  0.44\n",
       "1  20.244       20.24  0.24\n",
       "2  20.549       20.55  0.55\n",
       "3  20.755       20.76  0.76\n",
       "4  20.740       20.74  0.74\n",
       "5  20.847       20.85  0.85\n",
       "6  20.063       20.06  0.06\n",
       "7  20.453       20.45  0.45\n",
       "8  20.719       20.72  0.72\n",
       "9  20.283       20.28  0.28"
      ]
     },
     "execution_count": 8,
     "metadata": {},
     "output_type": "execute_result"
    }
   ],
   "source": [
    "datos[\"diff\"] = datos[\"redondeado\"]  - 20\n",
    "datos.head(10)"
   ]
  },
  {
   "cell_type": "markdown",
   "id": "67676488",
   "metadata": {},
   "source": [
    "#### Visualizar nuevamente la estadistica descriptiva del dataframe"
   ]
  },
  {
   "cell_type": "code",
   "execution_count": 9,
   "id": "c69764da",
   "metadata": {},
   "outputs": [
    {
     "data": {
      "text/html": [
       "<div>\n",
       "<style scoped>\n",
       "    .dataframe tbody tr th:only-of-type {\n",
       "        vertical-align: middle;\n",
       "    }\n",
       "\n",
       "    .dataframe tbody tr th {\n",
       "        vertical-align: top;\n",
       "    }\n",
       "\n",
       "    .dataframe thead th {\n",
       "        text-align: right;\n",
       "    }\n",
       "</style>\n",
       "<table border=\"1\" class=\"dataframe\">\n",
       "  <thead>\n",
       "    <tr style=\"text-align: right;\">\n",
       "      <th></th>\n",
       "      <th>weight</th>\n",
       "      <th>redondeado</th>\n",
       "      <th>diff</th>\n",
       "    </tr>\n",
       "  </thead>\n",
       "  <tbody>\n",
       "    <tr>\n",
       "      <th>count</th>\n",
       "      <td>10000.000000</td>\n",
       "      <td>10000.000000</td>\n",
       "      <td>10000.000000</td>\n",
       "    </tr>\n",
       "    <tr>\n",
       "      <th>mean</th>\n",
       "      <td>20.499212</td>\n",
       "      <td>20.499160</td>\n",
       "      <td>0.499160</td>\n",
       "    </tr>\n",
       "    <tr>\n",
       "      <th>std</th>\n",
       "      <td>0.199874</td>\n",
       "      <td>0.199907</td>\n",
       "      <td>0.199907</td>\n",
       "    </tr>\n",
       "    <tr>\n",
       "      <th>min</th>\n",
       "      <td>19.752000</td>\n",
       "      <td>19.750000</td>\n",
       "      <td>-0.250000</td>\n",
       "    </tr>\n",
       "    <tr>\n",
       "      <th>25%</th>\n",
       "      <td>20.365000</td>\n",
       "      <td>20.360000</td>\n",
       "      <td>0.360000</td>\n",
       "    </tr>\n",
       "    <tr>\n",
       "      <th>50%</th>\n",
       "      <td>20.500000</td>\n",
       "      <td>20.500000</td>\n",
       "      <td>0.500000</td>\n",
       "    </tr>\n",
       "    <tr>\n",
       "      <th>75%</th>\n",
       "      <td>20.635000</td>\n",
       "      <td>20.640000</td>\n",
       "      <td>0.640000</td>\n",
       "    </tr>\n",
       "    <tr>\n",
       "      <th>max</th>\n",
       "      <td>21.171000</td>\n",
       "      <td>21.170000</td>\n",
       "      <td>1.170000</td>\n",
       "    </tr>\n",
       "  </tbody>\n",
       "</table>\n",
       "</div>"
      ],
      "text/plain": [
       "             weight    redondeado          diff\n",
       "count  10000.000000  10000.000000  10000.000000\n",
       "mean      20.499212     20.499160      0.499160\n",
       "std        0.199874      0.199907      0.199907\n",
       "min       19.752000     19.750000     -0.250000\n",
       "25%       20.365000     20.360000      0.360000\n",
       "50%       20.500000     20.500000      0.500000\n",
       "75%       20.635000     20.640000      0.640000\n",
       "max       21.171000     21.170000      1.170000"
      ]
     },
     "execution_count": 9,
     "metadata": {},
     "output_type": "execute_result"
    }
   ],
   "source": [
    "datos.describe()"
   ]
  },
  {
   "cell_type": "markdown",
   "id": "444dc95b",
   "metadata": {},
   "source": [
    "#### Crear una variable para cada estadística y calcular el rango de valores mediante min() y max() para calcular el rango de valores"
   ]
  },
  {
   "cell_type": "code",
   "execution_count": 10,
   "id": "a576a365",
   "metadata": {},
   "outputs": [],
   "source": [
    "count = datos[\"redondeado\"].count()\n",
    "mean = datos[\"redondeado\"].mean()\n",
    "std = datos[\"redondeado\"].std()\n",
    "median = datos[\"redondeado\"].median()\n",
    "mininmo = datos[\"redondeado\"].min()\n",
    "maximo = datos[\"redondeado\"].max()\n",
    "rango = datos[\"redondeado\"].max() - datos[\"redondeado\"].min()\n"
   ]
  },
  {
   "cell_type": "code",
   "execution_count": 11,
   "id": "bf5ce316",
   "metadata": {},
   "outputs": [
    {
     "data": {
      "text/plain": [
       "20.49915999999995"
      ]
     },
     "execution_count": 11,
     "metadata": {},
     "output_type": "execute_result"
    }
   ],
   "source": [
    "mean"
   ]
  },
  {
   "cell_type": "code",
   "execution_count": 12,
   "id": "81da0db1",
   "metadata": {},
   "outputs": [
    {
     "data": {
      "text/plain": [
       "0.19990740530822973"
      ]
     },
     "execution_count": 12,
     "metadata": {},
     "output_type": "execute_result"
    }
   ],
   "source": [
    "std"
   ]
  },
  {
   "cell_type": "code",
   "execution_count": 13,
   "id": "a781237a",
   "metadata": {},
   "outputs": [
    {
     "data": {
      "text/plain": [
       "1.4200000000000017"
      ]
     },
     "execution_count": 13,
     "metadata": {},
     "output_type": "execute_result"
    }
   ],
   "source": [
    "rango"
   ]
  },
  {
   "cell_type": "code",
   "execution_count": 14,
   "id": "c9878e53",
   "metadata": {},
   "outputs": [
    {
     "data": {
      "text/plain": [
       "20.5"
      ]
     },
     "execution_count": 14,
     "metadata": {},
     "output_type": "execute_result"
    }
   ],
   "source": [
    "median"
   ]
  },
  {
   "cell_type": "code",
   "execution_count": 16,
   "id": "7f7d9ac6",
   "metadata": {},
   "outputs": [
    {
     "data": {
      "text/plain": [
       "19.75"
      ]
     },
     "execution_count": 16,
     "metadata": {},
     "output_type": "execute_result"
    }
   ],
   "source": [
    "mininmo"
   ]
  },
  {
   "cell_type": "code",
   "execution_count": 17,
   "id": "99a96cc9",
   "metadata": {},
   "outputs": [
    {
     "data": {
      "text/plain": [
       "21.17"
      ]
     },
     "execution_count": 17,
     "metadata": {},
     "output_type": "execute_result"
    }
   ],
   "source": [
    "maximo"
   ]
  },
  {
   "cell_type": "markdown",
   "id": "3baabc5a",
   "metadata": {},
   "source": [
    "#### Variables descriptivas con formato de cadena\n",
    "\n",
    "- Para desarrollar cadenas que utilicen texto y variables para informar sobre las estadísticas del conjunto de datos, utilizará el método de cadena **format()** para facilitar la inserción de los valores de las variables en las cadenas. \n",
    "- El formateo utiliza marcadores **{}** para indicar dónde deben insertarse los valores de las variables.  \n",
    "- Desarrollar oraciones como **\"La media de la distribución es…\"** para cada variable creada.\n",
    "- En la última oración, incluya min(), max() y los valores de rango en las mismas oraciones para practicar el uso de varios marcadores. "
   ]
  },
  {
   "cell_type": "code",
   "execution_count": 23,
   "id": "a3bbc955",
   "metadata": {},
   "outputs": [],
   "source": [
    "countstring = \"Existen {} observaciones\".format(count)\n",
    "\n",
    "meanstring = \"La media de la distribucion es {}, y la mediana es {}\".format(mean, median)\n",
    "\n",
    "## Formateo de cadena con 2 decimales\n",
    "stdstring = \"La desviacion estandar es {:.2f}\".format(std)\n",
    "\n",
    "rangostring = \"El valor minimo es {}, el maximo es {}, y el rango de valores es {:.2f}\".format(mininmo, maximo, rango)"
   ]
  },
  {
   "cell_type": "code",
   "execution_count": 24,
   "id": "b76374c2",
   "metadata": {},
   "outputs": [
    {
     "name": "stdout",
     "output_type": "stream",
     "text": [
      "Existen 10000 observaciones\n"
     ]
    }
   ],
   "source": [
    "print(countstring)"
   ]
  },
  {
   "cell_type": "code",
   "execution_count": 25,
   "id": "3583c41c",
   "metadata": {},
   "outputs": [
    {
     "name": "stdout",
     "output_type": "stream",
     "text": [
      "La media de la distribucion es 20.49915999999995, y la mediana es 20.5\n"
     ]
    }
   ],
   "source": [
    "print(meanstring)"
   ]
  },
  {
   "cell_type": "code",
   "execution_count": 26,
   "id": "312d2760",
   "metadata": {},
   "outputs": [
    {
     "name": "stdout",
     "output_type": "stream",
     "text": [
      "La desviacion estandar es 0.20\n"
     ]
    }
   ],
   "source": [
    "print(stdstring)"
   ]
  },
  {
   "cell_type": "code",
   "execution_count": 27,
   "id": "36d9b58f",
   "metadata": {},
   "outputs": [
    {
     "name": "stdout",
     "output_type": "stream",
     "text": [
      "El valor minimo es 19.75, el maximo es 21.17, y el rango de valores es 1.42\n"
     ]
    }
   ],
   "source": [
    "print(rangostring)"
   ]
  },
  {
   "cell_type": "markdown",
   "id": "93c333a1",
   "metadata": {},
   "source": [
    "## Parte 2 Visualizacion de datos\n",
    "\n",
    "En esta parte de la práctica de laboratorio, **creará una distribución de frecuencia** por cada valor único en el conjunto de datos.\n",
    "\n",
    "#### Paso 1: Cree un marco de datos que contenga los conteos de frecuencia para el conjunto de datos.\n",
    "- Crear un nuevo marco de datos que contenga los conteos de frecuencia mediante el método **value_counts()**. \n",
    "- Este método crea un objeto de serie, no un marco de datos. Utilizará **to_frame()** con el método **reset_index()** para crear un marco de datos de pandas a partir del objeto de serie.\n",
    "\n",
    "Utilizará la columna redondeada del marco de datos de los datos con el método value_counts(). Por ejemplo:\n",
    "\n",
    "**variable = dataframe['columnName'].value_counts()**"
   ]
  },
  {
   "cell_type": "code",
   "execution_count": 28,
   "id": "6d815df4",
   "metadata": {},
   "outputs": [
    {
     "data": {
      "text/plain": [
       "20.48    228\n",
       "20.50    226\n",
       "20.43    218\n",
       "20.46    213\n",
       "20.45    210\n",
       "        ... \n",
       "19.88      1\n",
       "19.89      1\n",
       "19.77      1\n",
       "19.93      1\n",
       "19.83      1\n",
       "Name: redondeado, Length: 135, dtype: int64"
      ]
     },
     "execution_count": 28,
     "metadata": {},
     "output_type": "execute_result"
    }
   ],
   "source": [
    "freq = datos['redondeado'].value_counts()\n",
    "freq"
   ]
  },
  {
   "cell_type": "markdown",
   "id": "3644e636",
   "metadata": {},
   "source": [
    "#### Utilizar **la función type()** con el nombre de la variable como un argumento para verificar que freq no sea un objeto del marco de datos."
   ]
  },
  {
   "cell_type": "code",
   "execution_count": 29,
   "id": "a98a24a8",
   "metadata": {},
   "outputs": [
    {
     "data": {
      "text/plain": [
       "pandas.core.series.Series"
      ]
     },
     "execution_count": 29,
     "metadata": {},
     "output_type": "execute_result"
    }
   ],
   "source": [
    "type(freq)"
   ]
  },
  {
   "cell_type": "code",
   "execution_count": 30,
   "id": "3c72c978",
   "metadata": {},
   "outputs": [],
   "source": [
    "freq = freq.to_frame().reset_index()"
   ]
  },
  {
   "cell_type": "code",
   "execution_count": 32,
   "id": "aa26fccd",
   "metadata": {},
   "outputs": [
    {
     "data": {
      "text/html": [
       "<div>\n",
       "<style scoped>\n",
       "    .dataframe tbody tr th:only-of-type {\n",
       "        vertical-align: middle;\n",
       "    }\n",
       "\n",
       "    .dataframe tbody tr th {\n",
       "        vertical-align: top;\n",
       "    }\n",
       "\n",
       "    .dataframe thead th {\n",
       "        text-align: right;\n",
       "    }\n",
       "</style>\n",
       "<table border=\"1\" class=\"dataframe\">\n",
       "  <thead>\n",
       "    <tr style=\"text-align: right;\">\n",
       "      <th></th>\n",
       "      <th>index</th>\n",
       "      <th>redondeado</th>\n",
       "    </tr>\n",
       "  </thead>\n",
       "  <tbody>\n",
       "    <tr>\n",
       "      <th>0</th>\n",
       "      <td>20.48</td>\n",
       "      <td>228</td>\n",
       "    </tr>\n",
       "    <tr>\n",
       "      <th>1</th>\n",
       "      <td>20.50</td>\n",
       "      <td>226</td>\n",
       "    </tr>\n",
       "    <tr>\n",
       "      <th>2</th>\n",
       "      <td>20.43</td>\n",
       "      <td>218</td>\n",
       "    </tr>\n",
       "    <tr>\n",
       "      <th>3</th>\n",
       "      <td>20.46</td>\n",
       "      <td>213</td>\n",
       "    </tr>\n",
       "    <tr>\n",
       "      <th>4</th>\n",
       "      <td>20.45</td>\n",
       "      <td>210</td>\n",
       "    </tr>\n",
       "  </tbody>\n",
       "</table>\n",
       "</div>"
      ],
      "text/plain": [
       "   index  redondeado\n",
       "0  20.48         228\n",
       "1  20.50         226\n",
       "2  20.43         218\n",
       "3  20.46         213\n",
       "4  20.45         210"
      ]
     },
     "execution_count": 32,
     "metadata": {},
     "output_type": "execute_result"
    }
   ],
   "source": [
    "freq.head()"
   ]
  },
  {
   "cell_type": "code",
   "execution_count": 35,
   "id": "243da4c6",
   "metadata": {},
   "outputs": [
    {
     "data": {
      "text/plain": [
       "pandas.core.frame.DataFrame"
      ]
     },
     "execution_count": 35,
     "metadata": {},
     "output_type": "execute_result"
    }
   ],
   "source": [
    "type(freq)"
   ]
  },
  {
   "cell_type": "markdown",
   "id": "1db2cdac",
   "metadata": {},
   "source": [
    "#### Renombrar columnas\n",
    "\n",
    "- Las columnas del marco de datos no tienen un nombre claro. \n",
    "- Cámbielas por el nombre a \"value\" y \"freq\" mediante el atributo de las columnas del marco de datos. \n",
    "- Por ejemplo:\n",
    "\n",
    "**dataframe.columns = ['column1','column2']**"
   ]
  },
  {
   "cell_type": "code",
   "execution_count": 36,
   "id": "17d7dff6",
   "metadata": {},
   "outputs": [
    {
     "data": {
      "text/html": [
       "<div>\n",
       "<style scoped>\n",
       "    .dataframe tbody tr th:only-of-type {\n",
       "        vertical-align: middle;\n",
       "    }\n",
       "\n",
       "    .dataframe tbody tr th {\n",
       "        vertical-align: top;\n",
       "    }\n",
       "\n",
       "    .dataframe thead th {\n",
       "        text-align: right;\n",
       "    }\n",
       "</style>\n",
       "<table border=\"1\" class=\"dataframe\">\n",
       "  <thead>\n",
       "    <tr style=\"text-align: right;\">\n",
       "      <th></th>\n",
       "      <th>Valor</th>\n",
       "      <th>Frecuencia</th>\n",
       "    </tr>\n",
       "  </thead>\n",
       "  <tbody>\n",
       "    <tr>\n",
       "      <th>0</th>\n",
       "      <td>20.48</td>\n",
       "      <td>228</td>\n",
       "    </tr>\n",
       "    <tr>\n",
       "      <th>1</th>\n",
       "      <td>20.50</td>\n",
       "      <td>226</td>\n",
       "    </tr>\n",
       "    <tr>\n",
       "      <th>2</th>\n",
       "      <td>20.43</td>\n",
       "      <td>218</td>\n",
       "    </tr>\n",
       "    <tr>\n",
       "      <th>3</th>\n",
       "      <td>20.46</td>\n",
       "      <td>213</td>\n",
       "    </tr>\n",
       "    <tr>\n",
       "      <th>4</th>\n",
       "      <td>20.45</td>\n",
       "      <td>210</td>\n",
       "    </tr>\n",
       "  </tbody>\n",
       "</table>\n",
       "</div>"
      ],
      "text/plain": [
       "   Valor  Frecuencia\n",
       "0  20.48         228\n",
       "1  20.50         226\n",
       "2  20.43         218\n",
       "3  20.46         213\n",
       "4  20.45         210"
      ]
     },
     "execution_count": 36,
     "metadata": {},
     "output_type": "execute_result"
    }
   ],
   "source": [
    "freq.columns = [\"Valor\", \"Frecuencia\"]\n",
    "freq.head()"
   ]
  },
  {
   "cell_type": "markdown",
   "id": "4940fc8d",
   "metadata": {},
   "source": [
    "###  Trazar  un gráfico de la distribución de frecuencia.\n",
    "\n",
    "- El módulo **matplotlib.pyplot** se importó como plt anteriormente en la práctica de laboratorio. \n",
    "- Los métodos del módulo se utilizan para formatear y mostrar un diagrama de dispersión de los datos de frecuencia para un conjunto de datos."
   ]
  },
  {
   "cell_type": "code",
   "execution_count": 47,
   "id": "e43bb9b7",
   "metadata": {},
   "outputs": [
    {
     "data": {
      "text/plain": [
       "[<matplotlib.lines.Line2D at 0x26d8047e9d0>]"
      ]
     },
     "execution_count": 47,
     "metadata": {},
     "output_type": "execute_result"
    },
    {
     "data": {
      "image/png": "[encoded data removed]",
      "text/plain": [
       "<Figure size 1440x720 with 1 Axes>"
      ]
     },
     "metadata": {
      "needs_background": "light"
     },
     "output_type": "display_data"
    }
   ],
   "source": [
    "plt.figure(figsize=(20,10))\n",
    "\n",
    "# Add axis labels\n",
    "plt.ylabel('Frecuencia')\n",
    "plt.xlabel('Peso')\n",
    "\n",
    "plt.title(\"Distribucion de frecuencias del Control de calidad para cajas de 20 oz \")\n",
    "\n",
    "# Plot the graph using a round symbol \"o\" of size 10\n",
    "plt.plot(freq.Valor,freq.Frecuencia, \"o\", markersize = 10, color = 'g')"
   ]
  },
  {
   "cell_type": "markdown",
   "id": "d0f4aff4",
   "metadata": {},
   "source": [
    "## Conclusiones\n",
    "\n",
    "- \n",
    "- \n",
    "- \n"
   ]
  },
  {
   "cell_type": "markdown",
   "id": "982d6969",
   "metadata": {},
   "source": [
    "#### Experimente lo siguiente: \n",
    "\n",
    "- Diagrame los datos con dimensiones, marcadores, tamaños de marcadores y colores diferentes. \n",
    "- Use los enlaces a continuación para los valores. También puede utilizar el ejemplo anterior para intentar diferentes dimensiones de figuras.\n",
    "\n",
    "marcadores http://matplotlib.org/api/markers_api.html\n",
    "\n",
    "colores http://matplotlib.org/api/colors_api.html"
   ]
  },
  {
   "cell_type": "code",
   "execution_count": 46,
   "id": "5d97899c",
   "metadata": {},
   "outputs": [
    {
     "data": {
      "text/plain": [
       "[<matplotlib.lines.Line2D at 0x26dff9986a0>]"
      ]
     },
     "execution_count": 46,
     "metadata": {},
     "output_type": "execute_result"
    },
    {
     "data": {
      "image/png": "[encoded data removed]",
      "text/plain": [
       "<Figure size 1440x720 with 1 Axes>"
      ]
     },
     "metadata": {
      "needs_background": "light"
     },
     "output_type": "display_data"
    }
   ],
   "source": [
    "plt.figure(figsize=(20,10))\n",
    "\n",
    "# Add axis labels\n",
    "plt.ylabel('Frecuencia')\n",
    "plt.xlabel('Peso')\n",
    "plt.title(\"Distribucion de frecuencias del Control de calidad para cajas de 20 oz \")\n",
    "\n",
    "# Plot the graph using a round symbol \"o\" of size 10\n",
    "plt.plot(freq.Valor,freq.Frecuencia, \"D\", markersize = 7, color = 'b')"
   ]
  },
  {
   "cell_type": "code",
   "execution_count": null,
   "id": "a9922157",
   "metadata": {},
   "outputs": [],
   "source": []
  }
 ],
 "metadata": {
  "kernelspec": {
   "display_name": "Python 3 (ipykernel)",
   "language": "python",
   "name": "python3"
  },
  "language_info": {
   "codemirror_mode": {
    "name": "ipython",
    "version": 3
   },
   "file_extension": ".py",
   "mimetype": "text/x-python",
   "name": "python",
   "nbconvert_exporter": "python",
   "pygments_lexer": "ipython3",
   "version": "3.8.13"
  }
 },
 "nbformat": 4,
 "nbformat_minor": 5
}
