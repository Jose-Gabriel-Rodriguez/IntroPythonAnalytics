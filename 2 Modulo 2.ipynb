{
 "cells": [
  {
   "cell_type": "markdown",
   "metadata": {},
   "source": [
    "\n",
    "![](Logo3.png)"
   ]
  },
  {
   "cell_type": "markdown",
   "metadata": {},
   "source": [
    "\n",
    "# Modulo II   Estructuras de Datos en Python\n",
    "\n",
    "\n",
    "## Tabla de Contenido\n",
    "\n",
    "[2.1 Listas](#id2)<br>\n",
    "..  [2.1.1 Eliminar elementos de las listas](#id211)<br>\n",
    "..  [2.1.2 Metodos de listas (append e insert)](#id212)<br>\n",
    "..  [2.1.3 Slicing (rebanadas) de listas](#id213)<br>\n",
    "..  [2.1.4 Ejercicios de listas](#id214)<br>\n",
    "..  [2.1.5 Listas dentro de listas](#id215)<br>\n",
    "[2.2 Tuplas](#id3)<br>\n",
    "[2.3 Conjuntos](#id4)<br>\n",
    "[2.4 Diccionarios](#id5)<br>\n",
    "\n",
    "\n"
   ]
  },
  {
   "cell_type": "markdown",
   "metadata": {},
   "source": [
    "## Sequencias y mutabilidad\n",
    "\n",
    "- Una **secuencia** es un tipo de dato en Python el cual es **capaz de almacenar más de un valor** (o ninguno si la secuencia esta vacía), los cuales pueden ser secuencialmente (de ahí el nombre) examinados, elemento por elemento.\n",
    "- El bucle **for** es una herramienta especialmente diseñada para iterar a través de las secuencias, por lo tanto, una secuencia es un tipo de dato que puede ser escaneado por el bucle for.\n",
    "- La **mutabilidad:** es una propiedad de cualquier tipo de dato en Python que describe su disponibilidad para poder cambiar libremente durante la ejecución de un programa. \n",
    "- Existen **dos tipos de datos en Python: mutables e inmutables**.\n",
    "- Los datos **mutables** pueden ser actualizados libremente en cualquier momento, a esta operación se le denomina \"in situ\".\n",
    "- Los datos **inmutables** no pueden ser modificados."
   ]
  },
  {
   "cell_type": "markdown",
   "metadata": {},
   "source": [
    "## 2.1 Listas  <a id='id2'> </a>\n",
    "\n",
    "**¿Por qué necesitamos listas?**\n",
    "Puede suceder que tengas que leer, almacenar, procesar y, finalmente, imprimir docenas, quizás cientos, tal vez incluso miles de números. ¿Entonces qué? ¿Necesitas crear una variable separada para cada valor?\n",
    "\n",
    "- Las listas **comienzan con un corchete abierto y termina con un corchete cerrado**; el espacio entre los corchetes es llenado con valores separados por comas).\n",
    "- Los elementos dentro de **una lista pueden tener diferentes tipos**. Algunos de ellos pueden ser enteros, otros son flotantes y otros pueden ser listas.\n",
    "- Los elementos de una lista **siempre están numerados por su posición desde cero**. Esto significa que el elemento almacenado al principio de la lista tendrá el número cero.\n",
    "\n",
    "Una **lista** Es una colección **ordenada y mutable** de elementos separados por comas entre corchetes\n"
   ]
  },
  {
   "cell_type": "code",
   "execution_count": 1,
   "metadata": {},
   "outputs": [
    {
     "name": "stdout",
     "output_type": "stream",
     "text": [
      "['Futbol', 'Natacion', 'Tiro con arco', 'Box']\n"
     ]
    }
   ],
   "source": [
    "# Crear una lista de valores y asignarlo a una variable\n",
    "\n",
    "deportes = [\"Futbol\", \"Natacion\", \"Tiro con arco\", \"Box\"]\n",
    "print(deportes)"
   ]
  },
  {
   "cell_type": "code",
   "execution_count": 2,
   "metadata": {},
   "outputs": [
    {
     "name": "stdout",
     "output_type": "stream",
     "text": [
      "Natacion\n"
     ]
    }
   ],
   "source": [
    "#  Acceder a una posicion especifica dentro de la lista\n",
    "\n",
    "print(deportes[1])"
   ]
  },
  {
   "cell_type": "code",
   "execution_count": 3,
   "metadata": {},
   "outputs": [
    {
     "name": "stdout",
     "output_type": "stream",
     "text": [
      "['Futbol Americano', 'Natacion', 'Tiro con arco', 'Box']\n"
     ]
    }
   ],
   "source": [
    "#Modificar un valor de  la lista\n",
    "\n",
    "deportes[0] = \"Futbol Americano\"\n",
    "print(deportes)"
   ]
  },
  {
   "cell_type": "markdown",
   "metadata": {},
   "source": [
    "### 2.1.1 Eliminar elementos de las listas   <a id='id211'> </a>"
   ]
  },
  {
   "cell_type": "code",
   "execution_count": 4,
   "metadata": {},
   "outputs": [
    {
     "name": "stdout",
     "output_type": "stream",
     "text": [
      "['Natacion', 'Tiro con arco', 'Box']\n"
     ]
    }
   ],
   "source": [
    "# Eliminar un elemento de la lista con la instruccion  del\n",
    "\n",
    "del deportes[0]\n",
    "print(deportes)"
   ]
  },
  {
   "cell_type": "code",
   "execution_count": 30,
   "metadata": {},
   "outputs": [
    {
     "name": "stdout",
     "output_type": "stream",
     "text": [
      "['Basketball', 'Natacion', 'Volleyball', 'Tiro con arco', 'Golf']\n"
     ]
    },
    {
     "ename": "NameError",
     "evalue": "name 'deportes' is not defined",
     "output_type": "error",
     "traceback": [
      "\u001b[1;31m---------------------------------------------------------------------------\u001b[0m",
      "\u001b[1;31mNameError\u001b[0m                                 Traceback (most recent call last)",
      "\u001b[1;32m<ipython-input-30-67ae82824533>\u001b[0m in \u001b[0;36m<module>\u001b[1;34m\u001b[0m\n\u001b[0;32m      1\u001b[0m \u001b[0mprint\u001b[0m\u001b[1;33m(\u001b[0m\u001b[0mdeportes\u001b[0m\u001b[1;33m)\u001b[0m\u001b[1;33m\u001b[0m\u001b[1;33m\u001b[0m\u001b[0m\n\u001b[0;32m      2\u001b[0m \u001b[1;32mdel\u001b[0m \u001b[0mdeportes\u001b[0m\u001b[1;33m\u001b[0m\u001b[1;33m\u001b[0m\u001b[0m\n\u001b[1;32m----> 3\u001b[1;33m \u001b[0mprint\u001b[0m\u001b[1;33m(\u001b[0m\u001b[0mdeportes\u001b[0m\u001b[1;33m)\u001b[0m\u001b[1;33m\u001b[0m\u001b[1;33m\u001b[0m\u001b[0m\n\u001b[0m",
      "\u001b[1;31mNameError\u001b[0m: name 'deportes' is not defined"
     ]
    }
   ],
   "source": [
    "# Si no se especifica una posicion, se borra toda la lista\n",
    "\n",
    "print(deportes)\n",
    "del deportes\n",
    "print(deportes)"
   ]
  },
  {
   "cell_type": "code",
   "execution_count": 31,
   "metadata": {},
   "outputs": [],
   "source": [
    "deportes = [\"Futbol\", \"Natacion\", \"Tiro con arco\", \"Box\"]"
   ]
  },
  {
   "cell_type": "code",
   "execution_count": 5,
   "metadata": {},
   "outputs": [
    {
     "name": "stdout",
     "output_type": "stream",
     "text": [
      "Box\n"
     ]
    }
   ],
   "source": [
    "#  Se pueden utilizar valores negativos en el indice para hacer una\n",
    "#  lectura de los datos de derecha a izquierda\n",
    "\n",
    "# empezando desde -1 que seria el ultimo valor de la lista\n",
    "\n",
    "print(deportes[-1])"
   ]
  },
  {
   "cell_type": "code",
   "execution_count": 6,
   "metadata": {},
   "outputs": [
    {
     "name": "stdout",
     "output_type": "stream",
     "text": [
      "la longitud de la lista de deportes es 3\n"
     ]
    }
   ],
   "source": [
    "##  Con la funcion len se puede verificar la longitud actual de la lista\n",
    "\n",
    "print(\"la longitud de la lista de deportes es\", len(deportes) )"
   ]
  },
  {
   "cell_type": "code",
   "execution_count": 8,
   "metadata": {},
   "outputs": [
    {
     "ename": "IndexError",
     "evalue": "list index out of range",
     "output_type": "error",
     "traceback": [
      "\u001b[1;31m---------------------------------------------------------------------------\u001b[0m",
      "\u001b[1;31mIndexError\u001b[0m                                Traceback (most recent call last)",
      "\u001b[1;32m<ipython-input-8-870e7af592aa>\u001b[0m in \u001b[0;36m<module>\u001b[1;34m\u001b[0m\n\u001b[0;32m      1\u001b[0m \u001b[1;31m# No es posible acceder a un elemento de la lista con un indice que No existe\u001b[0m\u001b[1;33m\u001b[0m\u001b[1;33m\u001b[0m\u001b[1;33m\u001b[0m\u001b[0m\n\u001b[1;32m----> 2\u001b[1;33m \u001b[0mprint\u001b[0m\u001b[1;33m(\u001b[0m\u001b[0mdeportes\u001b[0m\u001b[1;33m[\u001b[0m\u001b[1;36m5\u001b[0m\u001b[1;33m]\u001b[0m\u001b[1;33m)\u001b[0m\u001b[1;33m\u001b[0m\u001b[1;33m\u001b[0m\u001b[0m\n\u001b[0m",
      "\u001b[1;31mIndexError\u001b[0m: list index out of range"
     ]
    }
   ],
   "source": [
    "# No es posible acceder a un elemento de la lista con un indice que No existe\n",
    "print(deportes[5])"
   ]
  },
  {
   "cell_type": "code",
   "execution_count": 9,
   "metadata": {},
   "outputs": [
    {
     "ename": "IndexError",
     "evalue": "list index out of range",
     "output_type": "error",
     "traceback": [
      "\u001b[1;31m---------------------------------------------------------------------------\u001b[0m",
      "\u001b[1;31mIndexError\u001b[0m                                Traceback (most recent call last)",
      "\u001b[1;32m<ipython-input-9-5acd703f0e0e>\u001b[0m in \u001b[0;36m<module>\u001b[1;34m\u001b[0m\n\u001b[0;32m      1\u001b[0m \u001b[1;31m# No es posible acceder a un elemento de la lista con un indice que No existe\u001b[0m\u001b[1;33m\u001b[0m\u001b[1;33m\u001b[0m\u001b[1;33m\u001b[0m\u001b[0m\n\u001b[1;32m----> 2\u001b[1;33m \u001b[0mprint\u001b[0m\u001b[1;33m(\u001b[0m\u001b[0mdeportes\u001b[0m\u001b[1;33m[\u001b[0m\u001b[1;33m-\u001b[0m\u001b[1;36m4\u001b[0m\u001b[1;33m]\u001b[0m\u001b[1;33m)\u001b[0m\u001b[1;33m\u001b[0m\u001b[1;33m\u001b[0m\u001b[0m\n\u001b[0m",
      "\u001b[1;31mIndexError\u001b[0m: list index out of range"
     ]
    }
   ],
   "source": [
    "# No es posible acceder a un elemento de la lista con un indice que No existe\n",
    "print(deportes[-4])"
   ]
  },
  {
   "cell_type": "markdown",
   "metadata": {},
   "source": [
    "### 2.1.2 Metodos de las listas   <a id='id212'> </a>\n",
    "\n",
    "- Un método es un tipo específico de función: se comporta como una función y se parece a una función, pero difiere en la forma en que actúa y en su estilo de invocación.\n",
    "- Una función no pertenece a ningún dato: obtiene datos, puede crear nuevos datos y (generalmente) produce un resultado.\n",
    "- Un método hace todas estas cosas, pero también puede cambiar el estado de una entidad seleccionada.\n",
    "- Un método es propiedad de los datos para los que trabaja, mientras que una función es propiedad de todo el código.\n",
    "\n",
    "Una invocación de un método típico usualmente se ve así:\n",
    "\n",
    "**result = data.method(arg)**"
   ]
  },
  {
   "cell_type": "markdown",
   "metadata": {},
   "source": [
    "### Agregando elementos a una lista: append() e insert()\n",
    "\n",
    "- **append** agrega un nuevo elemento al final de la lista\n",
    "- **insert** Agrega un elemento en la posicion especificada"
   ]
  },
  {
   "cell_type": "code",
   "execution_count": 22,
   "metadata": {},
   "outputs": [
    {
     "name": "stdout",
     "output_type": "stream",
     "text": [
      "['Natacion', 'Tiro con arco']\n",
      "['Natacion', 'Tiro con arco', 'Golf']\n"
     ]
    }
   ],
   "source": [
    "# Un nuevo elemento puede ser añadido al final de la lista existente:\n",
    "print(deportes)\n",
    "deportes.append(\"Golf\")\n",
    "print(deportes)"
   ]
  },
  {
   "cell_type": "code",
   "execution_count": 25,
   "metadata": {},
   "outputs": [
    {
     "name": "stdout",
     "output_type": "stream",
     "text": [
      "['Natacion', 'Tiro con arco', 'Golf']\n",
      "['Natacion', 'Volleyball', 'Tiro con arco', 'Golf']\n"
     ]
    }
   ],
   "source": [
    "# Agregar un elemento en una posicion especifica\n",
    "print(deportes)\n",
    "deportes.insert(1, \"Volleyball\")\n",
    "print(deportes)\n"
   ]
  },
  {
   "cell_type": "code",
   "execution_count": 26,
   "metadata": {},
   "outputs": [
    {
     "name": "stdout",
     "output_type": "stream",
     "text": [
      "['Natacion', 'Volleyball', 'Tiro con arco', 'Golf']\n",
      "['Basketball', 'Natacion', 'Volleyball', 'Tiro con arco', 'Golf']\n"
     ]
    }
   ],
   "source": [
    "print(deportes)\n",
    "deportes.insert(0, \"Basketball\")\n",
    "print(deportes)"
   ]
  },
  {
   "cell_type": "code",
   "execution_count": 27,
   "metadata": {},
   "outputs": [
    {
     "name": "stdout",
     "output_type": "stream",
     "text": [
      "la longitud de la lista de deportes es 5\n"
     ]
    }
   ],
   "source": [
    "print(\"la longitud de la lista de deportes es\", len(deportes) )"
   ]
  },
  {
   "cell_type": "code",
   "execution_count": 28,
   "metadata": {},
   "outputs": [
    {
     "name": "stdout",
     "output_type": "stream",
     "text": [
      "Basketball\n",
      "Natacion\n",
      "Volleyball\n",
      "Tiro con arco\n",
      "Golf\n"
     ]
    }
   ],
   "source": [
    "# Ciclo para recorrer los valores de una lista\n",
    "for x in deportes:\n",
    "    print(x)"
   ]
  },
  {
   "cell_type": "code",
   "execution_count": 24,
   "metadata": {},
   "outputs": [
    {
     "name": "stdout",
     "output_type": "stream",
     "text": [
      "['Natacion', 'Tiro con arco', 'Golf', 'Box']\n",
      "['Natacion', 'Tiro con arco', 'Golf']\n"
     ]
    }
   ],
   "source": [
    "# Borrrar el último elemento sin saber cual es su índice\n",
    "\n",
    "print(deportes)\n",
    "del deportes[len(deportes)-1]\n",
    "print(deportes)"
   ]
  },
  {
   "cell_type": "code",
   "execution_count": 32,
   "metadata": {},
   "outputs": [
    {
     "name": "stdout",
     "output_type": "stream",
     "text": [
      "golf NO se encuentra en la lista de deportes\n"
     ]
    }
   ],
   "source": [
    "# Comprobar si un elemento esta en la lista\n",
    "if \"golf\" in deportes:\n",
    "    print(\"golf si se encuentra en la lista de deportes\")\n",
    "else:\n",
    "    print(\"golf NO se encuentra en la lista de deportes\")"
   ]
  },
  {
   "cell_type": "markdown",
   "metadata": {},
   "source": [
    "### Importante\n",
    "\n",
    "Las listas (y muchas otras entidades complejas de Python) se almacenan de diferentes maneras que las variables ordinarias (escalares).\n",
    "\n",
    "Se podría decir que:\n",
    "\n",
    "- El nombre de una variable ordinaria es el nombre de su contenido.\n",
    "- El nombre de una lista es el nombre de una ubicación de memoria donde se almacena la lista."
   ]
  },
  {
   "cell_type": "code",
   "execution_count": 39,
   "metadata": {},
   "outputs": [
    {
     "name": "stdout",
     "output_type": "stream",
     "text": [
      "[1]\n",
      "[2]\n",
      "[2]\n"
     ]
    }
   ],
   "source": [
    "# Considere el ejemplo siguiente\n",
    "# La asignación de: lista2 = lista1 copia el nombre del arreglo no su contenido.\n",
    "# En efecto, los dos nombres (lista1 y lista2) identifican la misma ubicación en\n",
    "# la memoria de la computadora. Modificar uno de ellos afecta al otro, y viceversa.\n",
    "\n",
    "lista1 = [1]\n",
    "print(lista1)\n",
    "\n",
    "lista2 = lista1\n",
    "lista1[0] = 2\n",
    "print(lista1)\n",
    "print(lista2)\n",
    "\n"
   ]
  },
  {
   "cell_type": "code",
   "execution_count": 41,
   "metadata": {},
   "outputs": [
    {
     "name": "stdout",
     "output_type": "stream",
     "text": [
      "[10, 1, 8, 3, 5]\n",
      "[5, 3, 8, 1, 10]\n"
     ]
    }
   ],
   "source": [
    "# Intercambiar valores en una lista\n",
    "\n",
    "my_list = [10, 1, 8, 3, 5]\n",
    "print(my_list)\n",
    "\n",
    "my_list[0], my_list[4] = my_list[4], my_list[0]\n",
    "my_list[1], my_list[3] = my_list[3], my_list[1]\n",
    "\n",
    "print(my_list)"
   ]
  },
  {
   "cell_type": "markdown",
   "metadata": {},
   "source": [
    "### 2.1.3 Slicing   (rebanadas)   <a id='id213'> </a>\n",
    "\n",
    "- Una rebanada es un elemento de la sintaxis de Python que permite hacer una copia nueva de una lista, o partes de una lista.\n",
    "- copia el contenido de la lista, no el nombre de la lista.\n",
    "- Una rebanada crea una nueva lista (de destino), tomando elementos de la lista de origen: los elementos de los índices desde el principio hasta el fin - 1.\n",
    "- Una de las formas más generales de la rebanada es la siguiente:\n",
    "\n",
    "> **my_list[ start:end ]**\n",
    "\n",
    "- Es posible utilizar valores negativos tanto para el inicio como para el fin"
   ]
  },
  {
   "cell_type": "code",
   "execution_count": 42,
   "metadata": {},
   "outputs": [
    {
     "name": "stdout",
     "output_type": "stream",
     "text": [
      "[2, 2, 3, 4, 5]\n",
      "[1, 2, 3, 4, 5]\n"
     ]
    }
   ],
   "source": [
    "lista1 = [1,2,3,4,5]\n",
    "\n",
    "# Copiar toda la lista\n",
    "lista2 = lista1[:]\n",
    "\n",
    "#Modificar un valor de la lista\n",
    "lista1[0] = 2\n",
    "\n",
    "print(lista1)\n",
    "print(lista2)"
   ]
  },
  {
   "cell_type": "code",
   "execution_count": 43,
   "metadata": {},
   "outputs": [
    {
     "name": "stdout",
     "output_type": "stream",
     "text": [
      "[1, 2, 3, 4, 5, 6, 7, 8, 9, 10]\n",
      "[4, 5, 6]\n"
     ]
    }
   ],
   "source": [
    "lista1 = [1,2,3,4,5,6,7,8,9,10]\n",
    "\n",
    "# Copiar parte de la lista\n",
    "# En este caso la lista2 es independiente de la lista1\n",
    "lista2 = lista1[3:6]\n",
    "\n",
    "\n",
    "print(lista1)\n",
    "print(lista2)"
   ]
  },
  {
   "cell_type": "code",
   "execution_count": 44,
   "metadata": {},
   "outputs": [
    {
     "name": "stdout",
     "output_type": "stream",
     "text": [
      "[4, 5, 6, 7, 8, 9]\n"
     ]
    }
   ],
   "source": [
    "# Indices negativos\n",
    "lista1 = [1,2,3,4,5,6,7,8,9,10]\n",
    "nuevaLista = lista1 [3:-1]\n",
    "print(nuevaLista)"
   ]
  },
  {
   "cell_type": "code",
   "execution_count": 45,
   "metadata": {},
   "outputs": [
    {
     "name": "stdout",
     "output_type": "stream",
     "text": [
      "[4, 5, 6, 7, 8]\n"
     ]
    }
   ],
   "source": [
    "lista1 = [1,2,3,4,5,6,7,8,9,10]\n",
    "nuevaLista = lista1 [3:-2]\n",
    "print(nuevaLista)"
   ]
  },
  {
   "cell_type": "code",
   "execution_count": 46,
   "metadata": {},
   "outputs": [
    {
     "name": "stdout",
     "output_type": "stream",
     "text": [
      "[1, 2, 3, 4, 5, 6, 7, 8]\n"
     ]
    }
   ],
   "source": [
    "lista1 = [1,2,3,4,5,6,7,8,9,10]\n",
    "nuevaLista = lista1 [:-2]\n",
    "print(nuevaLista)"
   ]
  },
  {
   "cell_type": "code",
   "execution_count": 47,
   "metadata": {},
   "outputs": [
    {
     "name": "stdout",
     "output_type": "stream",
     "text": [
      "[3, 4, 5, 6, 7, 8, 9, 10]\n"
     ]
    }
   ],
   "source": [
    "lista1 = [1,2,3,4,5,6,7,8,9,10]\n",
    "nuevaLista = lista1 [2:]\n",
    "print(nuevaLista)"
   ]
  },
  {
   "cell_type": "code",
   "execution_count": 49,
   "metadata": {},
   "outputs": [
    {
     "name": "stdout",
     "output_type": "stream",
     "text": [
      "[1, 2, 5, 6, 7, 8, 9, 10]\n"
     ]
    }
   ],
   "source": [
    "#  Tambien se puede usar el slicing para borrar elementos de una lista\n",
    "lista1 = [1,2,3,4,5,6,7,8,9,10]\n",
    "del lista1[2:4]\n",
    "print(lista1)"
   ]
  },
  {
   "cell_type": "code",
   "execution_count": 50,
   "metadata": {},
   "outputs": [
    {
     "name": "stdout",
     "output_type": "stream",
     "text": [
      "[]\n"
     ]
    }
   ],
   "source": [
    "# También es posible eliminar todos los elementos a la vez\n",
    "# la lista aun existe, pero vacía\n",
    "lista1 = [1,2,3,4,5,6,7,8,9,10]\n",
    "del lista1[:]\n",
    "print(lista1)"
   ]
  },
  {
   "cell_type": "code",
   "execution_count": 51,
   "metadata": {},
   "outputs": [
    {
     "name": "stdout",
     "output_type": "stream",
     "text": [
      "[1, 2, 3, 4, 5, 6, 7, 8, 9, 10]\n"
     ]
    },
    {
     "ename": "NameError",
     "evalue": "name 'lista1' is not defined",
     "output_type": "error",
     "traceback": [
      "\u001b[1;31m---------------------------------------------------------------------------\u001b[0m",
      "\u001b[1;31mNameError\u001b[0m                                 Traceback (most recent call last)",
      "\u001b[1;32m<ipython-input-51-72d9be92ce42>\u001b[0m in \u001b[0;36m<module>\u001b[1;34m\u001b[0m\n\u001b[0;32m      2\u001b[0m \u001b[0mprint\u001b[0m\u001b[1;33m(\u001b[0m\u001b[0mlista1\u001b[0m\u001b[1;33m)\u001b[0m\u001b[1;33m\u001b[0m\u001b[1;33m\u001b[0m\u001b[0m\n\u001b[0;32m      3\u001b[0m \u001b[1;32mdel\u001b[0m \u001b[0mlista1\u001b[0m\u001b[1;33m\u001b[0m\u001b[1;33m\u001b[0m\u001b[0m\n\u001b[1;32m----> 4\u001b[1;33m \u001b[0mprint\u001b[0m\u001b[1;33m(\u001b[0m\u001b[0mlista1\u001b[0m\u001b[1;33m)\u001b[0m\u001b[1;33m\u001b[0m\u001b[1;33m\u001b[0m\u001b[0m\n\u001b[0m",
      "\u001b[1;31mNameError\u001b[0m: name 'lista1' is not defined"
     ]
    }
   ],
   "source": [
    "# Eliminar la lista completa\n",
    "\n",
    "lista1 = [1,2,3,4,5,6,7,8,9,10]\n",
    "print(lista1)\n",
    "del lista1\n",
    "print(lista1)"
   ]
  },
  {
   "cell_type": "code",
   "execution_count": 53,
   "metadata": {},
   "outputs": [
    {
     "name": "stdout",
     "output_type": "stream",
     "text": [
      "True\n",
      "False\n",
      "False\n"
     ]
    }
   ],
   "source": [
    "# Verificar si existe un elemento en la lista\n",
    "lista1 = [1,2,3,4,5,6,7,8,9,10]\n",
    "\n",
    "print(5 in lista1)\n",
    "print(5 not in lista1)\n",
    "print(12 in lista1)"
   ]
  },
  {
   "cell_type": "code",
   "execution_count": 55,
   "metadata": {},
   "outputs": [
    {
     "name": "stdout",
     "output_type": "stream",
     "text": [
      "15\n",
      "localizado en la posicion 7\n"
     ]
    }
   ],
   "source": [
    "#  BUscar el elemento mayor de la lista\n",
    "miLista = [1, 3, 11, 5, 1, 9, 7, 15, 13]\n",
    "mayor = miLista[0]\n",
    "\n",
    "for i in range(1, len(miLista)):\n",
    "   if miLista [i]> mayor:\n",
    "        mayor = miLista[i]\n",
    "        posicion = i\n",
    "\n",
    "print(mayor)\n",
    "print(\"localizado en la posicion\", posicion )"
   ]
  },
  {
   "cell_type": "code",
   "execution_count": 56,
   "metadata": {},
   "outputs": [
    {
     "name": "stdout",
     "output_type": "stream",
     "text": [
      "Elemento encontrado en el índice 4\n"
     ]
    }
   ],
   "source": [
    "#  BUscar un elemento en la lista y almacenar su posicion \n",
    "miLista = [1, 2, 3, 4, 5, 6, 7, 8, 9, 10]\n",
    "Encontrar = 5\n",
    "Encontrado = False\n",
    "\n",
    "for i in range(len(miLista)):\n",
    "    Encontrado = miLista[i] == Encontrar\n",
    "    if Encontrado:\n",
    "        break\n",
    "\n",
    "if Encontrado:\n",
    "    print(\"Elemento encontrado en el índice\", i)\n",
    "else:\n",
    "    print(\"ausente\")"
   ]
  },
  {
   "cell_type": "markdown",
   "metadata": {},
   "source": [
    "### 2.1.4 Ejercicios de listas   <a id='id214'> </a>"
   ]
  },
  {
   "cell_type": "markdown",
   "metadata": {},
   "source": [
    "### Ejercicio 1\n",
    "- Escribir un programa que elimine todas las repeticiones de números de la lista. \n",
    "- El objetivo es tener una lista en la que todos los números aparezcan no más de una vez.\n",
    "- Utilizar operadores **in** y **not in**."
   ]
  },
  {
   "cell_type": "code",
   "execution_count": null,
   "metadata": {},
   "outputs": [],
   "source": []
  },
  {
   "cell_type": "code",
   "execution_count": null,
   "metadata": {},
   "outputs": [],
   "source": []
  },
  {
   "cell_type": "markdown",
   "metadata": {},
   "source": [
    "### 2.1.5. Listas dentro de listas    <a id='id215'> </a>\n",
    "\n",
    "#### Arreglos bidimensionales\n",
    "- Supongamos que tenemos que representar un tablero de ajedrez\n",
    "- Supongamos también que un símbolo predefinido denominado EMPTY designa un campo vacío en el tablero de ajedrez."
   ]
  },
  {
   "cell_type": "code",
   "execution_count": 82,
   "metadata": {},
   "outputs": [
    {
     "name": "stdout",
     "output_type": "stream",
     "text": [
      "[0, 0, 0, 0, 0, 0, 0, 0]\n"
     ]
    }
   ],
   "source": [
    "# Lista de 1 dimensión\n",
    "tablero = []\n",
    "EMPTY = 0\n",
    "\n",
    "for x in range(8):\n",
    "    tablero.append(EMPTY)\n",
    "print(tablero)"
   ]
  },
  {
   "cell_type": "code",
   "execution_count": 84,
   "metadata": {},
   "outputs": [
    {
     "name": "stdout",
     "output_type": "stream",
     "text": [
      "[[0, 0, 0, 0, 0, 0, 0, 0], [0, 0, 0, 0, 0, 0, 0, 0], [0, 0, 0, 0, 0, 0, 0, 0], [0, 0, 0, 0, 0, 0, 0, 0], [0, 0, 0, 0, 0, 0, 0, 0], [0, 0, 0, 0, 0, 0, 0, 0], [0, 0, 0, 0, 0, 0, 0, 0], [0, 0, 0, 0, 0, 0, 0, 0]]\n"
     ]
    }
   ],
   "source": [
    "# Lista de 2 dimensiones\n",
    "tablero = []\n",
    "EMPTY = 0\n",
    "\n",
    "for i in range(8):\n",
    "    tablero.append([])\n",
    "    for y in range(8):\n",
    "        tablero[i].append(EMPTY)\n",
    "        \n",
    "print(tablero)\n"
   ]
  },
  {
   "cell_type": "markdown",
   "metadata": {},
   "source": [
    "### Comprensión de listas\n",
    "\n",
    "- Python usa una sintaxis especial utilizada para completar o llenar listas masivas.\n",
    "- Una comprensión de lista es en realidad una lista, pero se crea sobre la marcha durante la ejecución del programa, y no se describe de forma estática.\n",
    "- Sirve para simplificar el código.\n",
    "\n",
    "La parte del código colocada dentro de los paréntesis especifica:\n",
    "\n",
    "- Los datos que se utilizarán para completar la lista (WHITE_PAWN)\n",
    "- La cláusula que especifica cuántas veces se producen los datos dentro de la lista (for i in range(8))"
   ]
  },
  {
   "cell_type": "code",
   "execution_count": 80,
   "metadata": {},
   "outputs": [
    {
     "name": "stdout",
     "output_type": "stream",
     "text": [
      "[0, 0, 0, 0, 0, 0, 0, 0]\n"
     ]
    }
   ],
   "source": [
    "EMPTY = 0\n",
    "tablero = [EMPTY for i in range(8)]\n",
    "\n",
    "print(tablero)"
   ]
  },
  {
   "cell_type": "code",
   "execution_count": 85,
   "metadata": {},
   "outputs": [
    {
     "name": "stdout",
     "output_type": "stream",
     "text": [
      "[[0, 0, 0, 0, 0, 0, 0, 0], [0, 0, 0, 0, 0, 0, 0, 0], [0, 0, 0, 0, 0, 0, 0, 0], [0, 0, 0, 0, 0, 0, 0, 0], [0, 0, 0, 0, 0, 0, 0, 0], [0, 0, 0, 0, 0, 0, 0, 0], [0, 0, 0, 0, 0, 0, 0, 0], [0, 0, 0, 0, 0, 0, 0, 0]]\n"
     ]
    }
   ],
   "source": [
    "EMPTY = 0\n",
    "tablero = [[EMPTY for i in range(8)] for j in range(8)]\n",
    "\n",
    "print(tablero)"
   ]
  },
  {
   "cell_type": "markdown",
   "metadata": {},
   "source": [
    "####  Acceder a un elemento de una matriz\n",
    "\n",
    "El acceso al campo seleccionado del tablero requiere dos índices: \n",
    "- El primero selecciona la fila\n",
    "- El segundo: el número de columna."
   ]
  },
  {
   "cell_type": "code",
   "execution_count": 87,
   "metadata": {},
   "outputs": [
    {
     "name": "stdout",
     "output_type": "stream",
     "text": [
      "[['TORRE', 0, 0, 0, 0, 0, 0, 'TORRE'], [0, 0, 0, 0, 0, 0, 0, 0], [0, 0, 0, 0, 0, 0, 0, 0], [0, 0, 0, 0, 0, 0, 0, 0], [0, 0, 0, 0, 0, 0, 0, 0], [0, 0, 0, 0, 0, 0, 0, 0], [0, 0, 0, 0, 0, 0, 0, 0], ['TORRE', 0, 0, 0, 0, 0, 0, 'TORRE']]\n"
     ]
    }
   ],
   "source": [
    "tablero[0][0] = \"TORRE\"\n",
    "tablero[0][7] = \"TORRE\"\n",
    "tablero[7][0] = \"TORRE\"\n",
    "tablero[7][7] = \"TORRE\"\n",
    "\n",
    "print(tablero)"
   ]
  },
  {
   "cell_type": "markdown",
   "metadata": {},
   "source": [
    "## 2.2 Tuplas <a id='id2'> </a>\n",
    "\n",
    "- Una tupla es una **secuencia inmutable**. Se puede comportar como una lista pero no puede ser modificada en el momento.\n",
    "- Cada elemento de una tupla puede ser de distinto tipo (punto flotante, entero, cadena, o cualquier otro tipo de dato).\n",
    "- Las tuplas utilizan paréntesis, mientras que las listas usan corchetes, aunque también es posible crear una tupla tan solo separando los valores por comas."
   ]
  },
  {
   "cell_type": "code",
   "execution_count": 91,
   "metadata": {},
   "outputs": [
    {
     "name": "stdout",
     "output_type": "stream",
     "text": [
      "1\n",
      "1000\n",
      "(10, 100, 1000)\n",
      "(1, 10)\n"
     ]
    }
   ],
   "source": [
    "miTupla = (1, 10, 100, 1000)\n",
    "\n",
    "print(miTupla[0])\n",
    "print(miTupla[-1])\n",
    "print(miTupla[1:])\n",
    "print(miTupla[:-2])\n"
   ]
  },
  {
   "cell_type": "code",
   "execution_count": 89,
   "metadata": {},
   "outputs": [
    {
     "name": "stdout",
     "output_type": "stream",
     "text": [
      "1\n",
      "10\n",
      "100\n",
      "1000\n"
     ]
    }
   ],
   "source": [
    "miTupla = (1, 10, 100, 1000)\n",
    "\n",
    "for elem in miTupla:\n",
    "    print(elem)"
   ]
  },
  {
   "cell_type": "code",
   "execution_count": 94,
   "metadata": {},
   "outputs": [
    {
     "ename": "AttributeError",
     "evalue": "'tuple' object has no attribute 'append'",
     "output_type": "error",
     "traceback": [
      "\u001b[1;31m---------------------------------------------------------------------------\u001b[0m",
      "\u001b[1;31mAttributeError\u001b[0m                            Traceback (most recent call last)",
      "\u001b[1;32m<ipython-input-94-18fddce79d5f>\u001b[0m in \u001b[0;36m<module>\u001b[1;34m\u001b[0m\n\u001b[0;32m      2\u001b[0m \u001b[1;33m\u001b[0m\u001b[0m\n\u001b[0;32m      3\u001b[0m \u001b[0mmiTupla\u001b[0m \u001b[1;33m=\u001b[0m \u001b[1;33m(\u001b[0m\u001b[1;36m1\u001b[0m\u001b[1;33m,\u001b[0m \u001b[1;36m10\u001b[0m\u001b[1;33m,\u001b[0m \u001b[1;36m100\u001b[0m\u001b[1;33m,\u001b[0m \u001b[1;36m1000\u001b[0m\u001b[1;33m)\u001b[0m\u001b[1;33m\u001b[0m\u001b[1;33m\u001b[0m\u001b[0m\n\u001b[1;32m----> 4\u001b[1;33m \u001b[0mmiTupla\u001b[0m\u001b[1;33m.\u001b[0m\u001b[0mappend\u001b[0m\u001b[1;33m(\u001b[0m\u001b[1;36m10000\u001b[0m\u001b[1;33m)\u001b[0m\u001b[1;33m\u001b[0m\u001b[1;33m\u001b[0m\u001b[0m\n\u001b[0m",
      "\u001b[1;31mAttributeError\u001b[0m: 'tuple' object has no attribute 'append'"
     ]
    }
   ],
   "source": [
    "# Esta instrucción causará un error de ejecución ( Recordar que son inmutables)\n",
    "\n",
    "miTupla = (1, 10, 100, 1000)\n",
    "miTupla.append(10000)\n"
   ]
  },
  {
   "cell_type": "code",
   "execution_count": 95,
   "metadata": {},
   "outputs": [
    {
     "ename": "TypeError",
     "evalue": "'tuple' object doesn't support item deletion",
     "output_type": "error",
     "traceback": [
      "\u001b[1;31m---------------------------------------------------------------------------\u001b[0m",
      "\u001b[1;31mTypeError\u001b[0m                                 Traceback (most recent call last)",
      "\u001b[1;32m<ipython-input-95-0362fc9dc05f>\u001b[0m in \u001b[0;36m<module>\u001b[1;34m\u001b[0m\n\u001b[0;32m      1\u001b[0m \u001b[1;31m# Esta instrucción causará un error de ejecución ( Recordar que son inmutables)\u001b[0m\u001b[1;33m\u001b[0m\u001b[1;33m\u001b[0m\u001b[1;33m\u001b[0m\u001b[0m\n\u001b[0;32m      2\u001b[0m \u001b[0mmiTupla\u001b[0m \u001b[1;33m=\u001b[0m \u001b[1;33m(\u001b[0m\u001b[1;36m1\u001b[0m\u001b[1;33m,\u001b[0m \u001b[1;36m10\u001b[0m\u001b[1;33m,\u001b[0m \u001b[1;36m100\u001b[0m\u001b[1;33m,\u001b[0m \u001b[1;36m1000\u001b[0m\u001b[1;33m)\u001b[0m\u001b[1;33m\u001b[0m\u001b[1;33m\u001b[0m\u001b[0m\n\u001b[1;32m----> 3\u001b[1;33m \u001b[1;32mdel\u001b[0m \u001b[0mmiTupla\u001b[0m\u001b[1;33m[\u001b[0m\u001b[1;36m0\u001b[0m\u001b[1;33m]\u001b[0m\u001b[1;33m\u001b[0m\u001b[1;33m\u001b[0m\u001b[0m\n\u001b[0m",
      "\u001b[1;31mTypeError\u001b[0m: 'tuple' object doesn't support item deletion"
     ]
    }
   ],
   "source": [
    "# Esta instrucción causará un error de ejecución ( Recordar que son inmutables)\n",
    "miTupla = (1, 10, 100, 1000)\n",
    "del miTupla[0]"
   ]
  },
  {
   "cell_type": "code",
   "execution_count": 96,
   "metadata": {},
   "outputs": [
    {
     "ename": "TypeError",
     "evalue": "'tuple' object does not support item assignment",
     "output_type": "error",
     "traceback": [
      "\u001b[1;31m---------------------------------------------------------------------------\u001b[0m",
      "\u001b[1;31mTypeError\u001b[0m                                 Traceback (most recent call last)",
      "\u001b[1;32m<ipython-input-96-0a7593bb989e>\u001b[0m in \u001b[0;36m<module>\u001b[1;34m\u001b[0m\n\u001b[0;32m      1\u001b[0m \u001b[1;31m# Esta instrucción causará un error de ejecución ( Recordar que son inmutables)\u001b[0m\u001b[1;33m\u001b[0m\u001b[1;33m\u001b[0m\u001b[1;33m\u001b[0m\u001b[0m\n\u001b[0;32m      2\u001b[0m \u001b[0mmiTupla\u001b[0m \u001b[1;33m=\u001b[0m \u001b[1;33m(\u001b[0m\u001b[1;36m1\u001b[0m\u001b[1;33m,\u001b[0m \u001b[1;36m10\u001b[0m\u001b[1;33m,\u001b[0m \u001b[1;36m100\u001b[0m\u001b[1;33m,\u001b[0m \u001b[1;36m1000\u001b[0m\u001b[1;33m)\u001b[0m\u001b[1;33m\u001b[0m\u001b[1;33m\u001b[0m\u001b[0m\n\u001b[1;32m----> 3\u001b[1;33m \u001b[0mmiTupla\u001b[0m\u001b[1;33m[\u001b[0m\u001b[1;36m1\u001b[0m\u001b[1;33m]\u001b[0m \u001b[1;33m=\u001b[0m \u001b[1;33m-\u001b[0m\u001b[1;36m10\u001b[0m\u001b[1;33m\u001b[0m\u001b[1;33m\u001b[0m\u001b[0m\n\u001b[0m",
      "\u001b[1;31mTypeError\u001b[0m: 'tuple' object does not support item assignment"
     ]
    }
   ],
   "source": [
    "# Esta instrucción causará un error de ejecución ( Recordar que son inmutables)\n",
    "\n",
    "miTupla = (1, 10, 100, 1000)\n",
    "miTupla[1] = -10"
   ]
  },
  {
   "cell_type": "markdown",
   "metadata": {},
   "source": [
    "### ¿Qué más pueden hacer las tuplas?\n",
    "\n",
    "- La función len() acepta tuplas, y regresa el número de elementos contenidos dentro.\n",
    "- El operador + puede unir tuplas.\n",
    "- El operador * puede multiplicar las tuplas, así como las listas.\n",
    "- Los operadores in y not in funcionan de la misma manera que en las listas."
   ]
  },
  {
   "cell_type": "code",
   "execution_count": 98,
   "metadata": {},
   "outputs": [
    {
     "name": "stdout",
     "output_type": "stream",
     "text": [
      "(1, 10, 100, 1000, 10000)\n"
     ]
    }
   ],
   "source": [
    "# Union de tuplas\n",
    "miTupla = (1, 10, 100)\n",
    "\n",
    "tupla2 = miTupla + (1000, 10000)\n",
    "print(tupla2)"
   ]
  },
  {
   "cell_type": "code",
   "execution_count": 99,
   "metadata": {},
   "outputs": [
    {
     "name": "stdout",
     "output_type": "stream",
     "text": [
      "(1, 10, 100, 1, 10, 100, 1, 10, 100)\n"
     ]
    }
   ],
   "source": [
    "#Multiplicar tuplas\n",
    "miTupla = (1, 10, 100)\n",
    "\n",
    "tupla2 = miTupla * 3\n",
    "print(tupla2)\n"
   ]
  },
  {
   "cell_type": "code",
   "execution_count": 100,
   "metadata": {},
   "outputs": [
    {
     "name": "stdout",
     "output_type": "stream",
     "text": [
      "3\n"
     ]
    }
   ],
   "source": [
    "# longitud de la tupla\n",
    "miTupla = (1, 10, 100)\n",
    "\n",
    "print(len(miTupla))"
   ]
  },
  {
   "cell_type": "code",
   "execution_count": 101,
   "metadata": {},
   "outputs": [
    {
     "name": "stdout",
     "output_type": "stream",
     "text": [
      "True\n",
      "False\n"
     ]
    }
   ],
   "source": [
    "# Operadores in - Verificar la existencia de un valor\n",
    "\n",
    "miTupla = (1, 10, 100)\n",
    "\n",
    "print(10 in miTupla)\n",
    "print(8  in miTupla)"
   ]
  },
  {
   "cell_type": "code",
   "execution_count": null,
   "metadata": {},
   "outputs": [],
   "source": []
  },
  {
   "cell_type": "markdown",
   "metadata": {},
   "source": [
    "## 2.3 Conjuntos <a id='id3'> </a>\n",
    "\n",
    "- Un conjunto es una colección de datos que no está ordenada ni indexada. \n",
    "- Son colecciones desordenadas de elementos únicos utilizados para hacer pruebas de pertenencia a grupos y eliminación de elementos duplicados.\n",
    "- Los conjuntos son ampliamente utilizados en lógica y matemáticas\n",
    "- Los valores no se pueden repetir. Útil en casos donde se requiera esta característica."
   ]
  },
  {
   "cell_type": "code",
   "execution_count": 127,
   "metadata": {},
   "outputs": [
    {
     "name": "stdout",
     "output_type": "stream",
     "text": [
      "set()\n"
     ]
    }
   ],
   "source": [
    "# Para definir un conjunto vacío hay que llamar a su clase set (conjunto en inglés):\n",
    "conjunto = set()\n",
    "print(conjunto)"
   ]
  },
  {
   "cell_type": "code",
   "execution_count": 131,
   "metadata": {},
   "outputs": [
    {
     "name": "stdout",
     "output_type": "stream",
     "text": [
      "{'tenis', 'golf', 'futbol'}\n"
     ]
    }
   ],
   "source": [
    "conjunto = {\"futbol\", \"tenis\", \"golf\"}\n",
    "print(conjunto)"
   ]
  },
  {
   "cell_type": "code",
   "execution_count": 132,
   "metadata": {},
   "outputs": [
    {
     "name": "stdout",
     "output_type": "stream",
     "text": [
      "<class 'set'>\n"
     ]
    }
   ],
   "source": [
    "conjunto = {\"futbol\", \"tenis\", \"golf\"}\n",
    "print(type(conjunto))"
   ]
  },
  {
   "cell_type": "code",
   "execution_count": 133,
   "metadata": {},
   "outputs": [
    {
     "ename": "TypeError",
     "evalue": "'set' object does not support indexing",
     "output_type": "error",
     "traceback": [
      "\u001b[1;31m---------------------------------------------------------------------------\u001b[0m",
      "\u001b[1;31mTypeError\u001b[0m                                 Traceback (most recent call last)",
      "\u001b[1;32m<ipython-input-133-19c3c006b981>\u001b[0m in \u001b[0;36m<module>\u001b[1;34m\u001b[0m\n\u001b[0;32m      2\u001b[0m \u001b[1;31m# a un elemento por su índice (posicion)\u001b[0m\u001b[1;33m\u001b[0m\u001b[1;33m\u001b[0m\u001b[1;33m\u001b[0m\u001b[0m\n\u001b[0;32m      3\u001b[0m \u001b[0mconjunto\u001b[0m \u001b[1;33m=\u001b[0m \u001b[1;33m{\u001b[0m\u001b[1;34m\"futbol\"\u001b[0m\u001b[1;33m,\u001b[0m \u001b[1;34m\"tenis\"\u001b[0m\u001b[1;33m,\u001b[0m \u001b[1;34m\"golf\"\u001b[0m\u001b[1;33m}\u001b[0m\u001b[1;33m\u001b[0m\u001b[1;33m\u001b[0m\u001b[0m\n\u001b[1;32m----> 4\u001b[1;33m \u001b[0mprint\u001b[0m\u001b[1;33m(\u001b[0m\u001b[0mconjunto\u001b[0m\u001b[1;33m[\u001b[0m\u001b[1;36m1\u001b[0m\u001b[1;33m]\u001b[0m\u001b[1;33m)\u001b[0m\u001b[1;33m\u001b[0m\u001b[1;33m\u001b[0m\u001b[0m\n\u001b[0m",
      "\u001b[1;31mTypeError\u001b[0m: 'set' object does not support indexing"
     ]
    }
   ],
   "source": [
    "# Un conjunto o coleccion no esta indexado, po rlo tanto no se puede acceder\n",
    "# a un elemento por su índice (posicion)\n",
    "conjunto = {\"futbol\", \"tenis\", \"golf\"}\n",
    "print(conjunto[1])"
   ]
  },
  {
   "cell_type": "code",
   "execution_count": 134,
   "metadata": {},
   "outputs": [
    {
     "name": "stdout",
     "output_type": "stream",
     "text": [
      "{'tenis', 'luchas', 'golf', 'futbol'}\n"
     ]
    }
   ],
   "source": [
    "# Agregar un elemento a la colección\n",
    "\n",
    "conjunto = {\"futbol\", \"tenis\", \"golf\"}\n",
    "conjunto.add(\"luchas\")\n",
    "print(conjunto)"
   ]
  },
  {
   "cell_type": "code",
   "execution_count": 135,
   "metadata": {},
   "outputs": [
    {
     "name": "stdout",
     "output_type": "stream",
     "text": [
      "{'tenis', 'golf', 'futbol'}\n"
     ]
    }
   ],
   "source": [
    "# si un elemento ya se encuentra no se añadirá de nuevo\n",
    "\n",
    "conjunto = {\"futbol\", \"tenis\", \"golf\"}\n",
    "conjunto.add(\"tenis\")\n",
    "print(conjunto)\n"
   ]
  },
  {
   "cell_type": "code",
   "execution_count": 136,
   "metadata": {},
   "outputs": [
    {
     "name": "stdout",
     "output_type": "stream",
     "text": [
      "{'natacion', 'golf', 'tenis', 'ajedrez', 'futbol'}\n"
     ]
    }
   ],
   "source": [
    "# Agregar más de un elemento a la colección\n",
    "\n",
    "conjunto = {\"futbol\", \"tenis\", \"golf\"}\n",
    "conjunto.update( [\"natacion\", \"ajedrez\"] )\n",
    "print(conjunto)"
   ]
  },
  {
   "cell_type": "code",
   "execution_count": 137,
   "metadata": {},
   "outputs": [
    {
     "name": "stdout",
     "output_type": "stream",
     "text": [
      "True\n",
      "False\n"
     ]
    }
   ],
   "source": [
    "# Pertenencia a grupos\n",
    "\n",
    "conjunto = {\"futbol\", \"tenis\", \"golf\"}\n",
    "\n",
    "print(\"tenis\" in conjunto)\n",
    "print(\"Golf\" in conjunto)"
   ]
  },
  {
   "cell_type": "code",
   "execution_count": 138,
   "metadata": {},
   "outputs": [
    {
     "name": "stdout",
     "output_type": "stream",
     "text": [
      "False\n"
     ]
    }
   ],
   "source": [
    "# También se puede hacer la comprobación inversa con not in:\n",
    "\n",
    "conjunto = {\"futbol\", \"tenis\", \"golf\"}\n",
    "print(\"tenis\" not in conjunto)"
   ]
  },
  {
   "cell_type": "code",
   "execution_count": 139,
   "metadata": {},
   "outputs": [
    {
     "name": "stdout",
     "output_type": "stream",
     "text": [
      "[1, 2, 3, 3, 2, 1]\n",
      "[1, 2, 3]\n"
     ]
    }
   ],
   "source": [
    "# Es muy útil transformar listas a conjuntos para borrar \n",
    "# los elementos duplicados automáticamente y viceversa:\n",
    "\n",
    "lista1 = [1,2,3,3,2,1]\n",
    "\n",
    "print(lista1)\n",
    "\n",
    "conjunto = set(lista1)\n",
    "lista1 = list(conjunto)\n",
    "\n",
    "print(lista1)"
   ]
  },
  {
   "cell_type": "code",
   "execution_count": 140,
   "metadata": {},
   "outputs": [
    {
     "name": "stdout",
     "output_type": "stream",
     "text": [
      "[1, 2, 3, 3, 2, 1]\n",
      "[1, 2, 3]\n"
     ]
    }
   ],
   "source": [
    "# La conversión se puede hacer en una línea\n",
    "\n",
    "lista1 = [1,2,3,3,2,1]\n",
    "print(lista1)\n",
    "\n",
    "lista1 = list(set(lista1))\n",
    "print(lista1)"
   ]
  },
  {
   "cell_type": "markdown",
   "metadata": {},
   "source": [
    "## 2.4  Diccionarios  <a id='id5'> </a>\n",
    "\n",
    "- El diccionario es otro tipo de estructura de datos de Python. \n",
    "- No es una secuencia (pero puede adaptarse fácilmente a un procesamiento secuencial) y además es **mutable**.\n",
    "- Un diccionario **es un conjunto de pares de claves y valores**. Nota: Cada clave debe de ser única. No es posible tener una clave duplicada.\n",
    "- Una **clave puede ser un tipo de dato de cualquier tipo**: puede ser un número (entero o flotante), o incluso una cadena.\n",
    "- Un diccionario no es una lista. Una lista contiene un conjunto de valores numerados, mientras que un diccionario almacena pares de valores.\n",
    "- La función len() aplica también para los diccionarios, regresa la cantidad de pares (clave-valor) en el diccionario.\n",
    "- Un diccionario **es una herramienta de un solo sentido**. Si fuese un diccionario español-francés, podríamos buscar en español para encontrar su contraparte en francés más no viceversa.\n"
   ]
  },
  {
   "cell_type": "code",
   "execution_count": 109,
   "metadata": {},
   "outputs": [],
   "source": [
    "# Ejemplo 1:\n",
    "diccionario = {\n",
    "              \"gato\": \"cat\",\n",
    "              \"perro\": \"dog\",\n",
    "              \"caballo\": \"horse\"\n",
    "              }\n",
    "\n",
    "traducir_palabras = ['gato', 'león', 'caballo']"
   ]
  },
  {
   "cell_type": "code",
   "execution_count": 105,
   "metadata": {},
   "outputs": [
    {
     "name": "stdout",
     "output_type": "stream",
     "text": [
      "{'gato': 'cat', 'perro': 'dog', 'caballo': 'horse'}\n"
     ]
    }
   ],
   "source": [
    "print(diccionario)"
   ]
  },
  {
   "cell_type": "code",
   "execution_count": 108,
   "metadata": {},
   "outputs": [
    {
     "name": "stdout",
     "output_type": "stream",
     "text": [
      "gato -> cat\n",
      "león no está en el diccionario\n",
      "caballo -> horse\n"
     ]
    }
   ],
   "source": [
    "# Definimos un diccoinario\n",
    "diccionario = {\n",
    "              \"gato\": \"cat\",\n",
    "              \"perro\": \"dog\",\n",
    "              \"caballo\": \"horse\"\n",
    "              }\n",
    "\n",
    "# Definimos una lista de valores para buscar en el diccionario\n",
    "traducir_palabras = ['gato', 'león', 'caballo']\n",
    "\n",
    "# Hacemos un ciclo para recorrer la lista de valores a buscar en el diccionario\n",
    "for traduccion in traducir_palabras:\n",
    "    if traduccion in diccionario:\n",
    "        print(traduccion, \"->\", diccionario[traduccion])\n",
    "    else:\n",
    "        print(traduccion, \"no está en el diccionario\")"
   ]
  },
  {
   "cell_type": "markdown",
   "metadata": {},
   "source": [
    "### ¿Cómo utilizar un diccionario? El método keys()\n",
    "\n",
    "¿Pueden los diccionarios ser examinados utilizando el bucle for, como las listas o tuplas?\n",
    "\n",
    "No y si.\n",
    "\n",
    "- No, porque un diccionario no es un tipo de dato secuencial - el bucle for no es útil aquí.\n",
    "\n",
    "- Si, porque hay herramientas simples y muy efectivas que pueden adaptar cualquier diccionario a los requerimientos del bucle for (en otras palabras, se construye un enlace intermedio entre el diccionario y una entidad secuencial temporal).\n",
    "\n",
    "- El primero de ellos es un método denominado keys(), el cual es parte de todo diccionario. El método retorna o regresa una lista de todas las claves dentro del diccionario. Al tener una lista de claves se puede acceder a todo el diccionario de una manera fácil y útil."
   ]
  },
  {
   "cell_type": "code",
   "execution_count": 110,
   "metadata": {},
   "outputs": [
    {
     "name": "stdout",
     "output_type": "stream",
     "text": [
      "gato -> cat\n",
      "perro -> dog\n",
      "caballo -> horse\n"
     ]
    }
   ],
   "source": [
    "diccionario = {\n",
    "              \"gato\": \"cat\",\n",
    "              \"perro\": \"dog\",\n",
    "              \"caballo\": \"horse\"\n",
    "              }\n",
    "\n",
    "for key in diccionario.keys():\n",
    "    print(key, \"->\", diccionario[key])"
   ]
  },
  {
   "cell_type": "markdown",
   "metadata": {},
   "source": [
    "### Los métodos item() y values()\n",
    "\n",
    "- Otra manera de hacerlo es utilizar el método items(). \n",
    "- Este método regresa una lista de tuplas (este es el primer ejemplo en el que las tuplas son mas que un ejemplo de si mismas) donde cada tupla es un par de cada clave con su valor."
   ]
  },
  {
   "cell_type": "code",
   "execution_count": 111,
   "metadata": {},
   "outputs": [
    {
     "name": "stdout",
     "output_type": "stream",
     "text": [
      "gato -> cat\n",
      "perro -> dog\n",
      "caballo -> horse\n"
     ]
    }
   ],
   "source": [
    "diccionario = {\"gato\" : \"cat\", \"perro\" : \"dog\", \"caballo\" : \"horse\"}\n",
    "\n",
    "for espanol, ingles in diccionario.items():\n",
    "    print(espanol, \"->\", ingles)"
   ]
  },
  {
   "cell_type": "code",
   "execution_count": 112,
   "metadata": {},
   "outputs": [
    {
     "name": "stdout",
     "output_type": "stream",
     "text": [
      "cat\n",
      "dog\n",
      "horse\n"
     ]
    }
   ],
   "source": [
    "# También existe un método denominado values(), funciona de manera muy similar al\n",
    "# metodo keys(), pero regresa una lista de valores.\n",
    "\n",
    "diccionario = {\"gato\" : \"cat\", \"perro\" : \"dog\", \"caballo\" : \"horse\"}\n",
    "for ingles in diccionario.values():\n",
    "    print(ingles)"
   ]
  },
  {
   "cell_type": "markdown",
   "metadata": {},
   "source": [
    "### Modificar, agregar y eliminar valores en un diccionario\n",
    "\n",
    "- El asignar un nuevo valor a una clave existente es sencillo, debido a que los diccionarios son completamente mutables, no existen obstáculos para modificarlos."
   ]
  },
  {
   "cell_type": "code",
   "execution_count": 113,
   "metadata": {},
   "outputs": [
    {
     "name": "stdout",
     "output_type": "stream",
     "text": [
      "{'gato': 'minino', 'perro': 'dog', 'caballo': 'horse'}\n"
     ]
    }
   ],
   "source": [
    "# Modificar\n",
    "diccionario = {\"gato\" : \"cat\", \"perro\" : \"dog\", \"caballo\" : \"horse\"}\n",
    "\n",
    "diccionario['gato'] = 'minino'\n",
    "print(diccionario)\n"
   ]
  },
  {
   "cell_type": "code",
   "execution_count": 114,
   "metadata": {},
   "outputs": [
    {
     "name": "stdout",
     "output_type": "stream",
     "text": [
      "{'gato': 'cat', 'perro': 'dog', 'caballo': 'horse', 'cisne': 'swan'}\n"
     ]
    }
   ],
   "source": [
    "# Agregar\n",
    "diccionario = {\"gato\" : \"cat\", \"perro\" : \"dog\", \"caballo\" : \"horse\"}\n",
    "\n",
    "diccionario['cisne'] = 'swan'\n",
    "print(diccionario)"
   ]
  },
  {
   "cell_type": "code",
   "execution_count": 115,
   "metadata": {},
   "outputs": [
    {
     "name": "stdout",
     "output_type": "stream",
     "text": [
      "{'gato': 'cat', 'perro': 'dog', 'caballo': 'horse', 'cisne': 'swan', 'pato': 'duck'}\n"
     ]
    }
   ],
   "source": [
    "# También es posible insertar un elemento al diccionario utilizando el\n",
    "# método update(), por ejemplo:\n",
    "\n",
    "diccionario.update({\"pato\": \"duck\"})\n",
    "print(diccionario)"
   ]
  },
  {
   "cell_type": "code",
   "execution_count": 116,
   "metadata": {},
   "outputs": [
    {
     "name": "stdout",
     "output_type": "stream",
     "text": [
      "{'gato': 'cat', 'caballo': 'horse'}\n"
     ]
    }
   ],
   "source": [
    "#  Eliminar un valor\n",
    "\n",
    "diccionario = {\"gato\" : \"cat\", \"perro\" : \"dog\", \"caballo\" : \"horse\"}\n",
    "\n",
    "del diccionario['perro']\n",
    "print(diccionario)\n"
   ]
  },
  {
   "cell_type": "code",
   "execution_count": 117,
   "metadata": {},
   "outputs": [
    {
     "name": "stdout",
     "output_type": "stream",
     "text": [
      "{'gato': 'cat', 'perro': 'dog'}\n"
     ]
    }
   ],
   "source": [
    "# Para eliminar el ultimo elemento de la lista, se puede emplear el método popitem():\n",
    "\n",
    "diccionario = {\"gato\" : \"cat\", \"perro\" : \"dog\", \"caballo\" : \"horse\"}\n",
    "diccionario.popitem()\n",
    "print(diccionario)"
   ]
  },
  {
   "cell_type": "markdown",
   "metadata": {},
   "source": [
    "### Las tuplas y los diccionarios pueden trabajar juntos\n",
    "\n",
    "Se ha preparado un ejemplo sencillo, mostrando como las tuplas y los diccionarios pueden trabajar juntos.\n",
    "\n",
    "Imaginemos el siguiente problema:\n",
    "\n",
    "- Necesitas un programa para calcular los promedios de tus alumnos.\n",
    "- El programa pide el nombre del alumno seguido de su calificación.\n",
    "- Los nombres son ingresados en cualquier orden.\n",
    "- El ingresar un nombre vacío finaliza el ingreso de los datos (nota 1: ingresar una puntuación vacía generará la excepción ValueError, pero no te preocupes por eso ahora, verás cómo manejar tales casos cuando hablemos de excepciones en el segundo parte de la serie del curso).\n",
    "- Una lista con todos los nombre y el promedio de cada alumno debe ser mostrada al final.\n",
    "\n"
   ]
  },
  {
   "cell_type": "code",
   "execution_count": 118,
   "metadata": {},
   "outputs": [
    {
     "name": "stdout",
     "output_type": "stream",
     "text": [
      "Ingresa el nombre del estudiante: juan\n",
      "Ingresa la calificación del estudiante (0-10): 8\n",
      "Ingresa el nombre del estudiante: jose\n",
      "Ingresa la calificación del estudiante (0-10): 9\n",
      "Ingresa el nombre del estudiante: \n",
      "jose : 9.0\n",
      "juan : 8.0\n"
     ]
    }
   ],
   "source": [
    "school_class = {}\n",
    "\n",
    "while True:\n",
    "    name = input(\"Ingresa el nombre del estudiante: \")\n",
    "    if name == '':\n",
    "        break\n",
    "    \n",
    "    score = int(input(\"Ingresa la calificación del estudiante (0-10): \"))\n",
    "    if score not in range(0, 11):\n",
    "        break\n",
    "    \n",
    "    if name in school_class:\n",
    "        school_class[name] += (score,)\n",
    "    else:\n",
    "        school_class[name] = (score,)\n",
    "        \n",
    "for name in sorted(school_class.keys()):\n",
    "    adding = 0\n",
    "    counter = 0\n",
    "    for score in school_class[name]:\n",
    "        adding += score\n",
    "        counter += 1\n",
    "    print(name, \":\", adding / counter)"
   ]
  },
  {
   "cell_type": "markdown",
   "metadata": {},
   "source": [
    "### Ahora se analizará línea por línea:\n",
    "\n",
    "- Línea 1: crea un diccionario vacío para ingresar los datos: el nombre del alumno es empleado como clave, mientras que todas las calificaciones asociadas son almacenadas en una tupla (la tupla puede ser el valor de un diccionario, esto no es un problema).\n",
    "- Línea 3: se ingresa a un bucle \"infinito\" (no te preocupes, saldrémos de el en el momento indicado).\n",
    "- Línea 4: se lee el nombre del alumno aquí.\n",
    "- Línea 5-6: si el nombre es una cadena vacía (), salimos del bucle.\n",
    "- Línea 8: se pide la calificación del estudiante (un valor entero en el rango del 1-10).\n",
    "- Línea 9-10: si la puntuación ingresada no está dentro del rango de 0 a 10, se abandona el bucle.\n",
    "- Línea 12-13: si el nombre del estudiante ya se encuentra en el diccionario, se alarga la tupla asociada con la nueva calificación (observa el operador +=).\n",
    "- Línea 14-15: si el estudiante es nuevo (desconocido para el diccionario), se crea una entrada nueva, su valor es una tupla de un solo elemento la cual contiene la calificación ingresada.\n",
    "- Línea 17: se itera a través de los nombres ordenados de los estudiantes.\n",
    "- Línea 18-19: inicializa los datos necesarios para calcular el promedio (sum y counter).\n",
    "- Línea 20-22: se itera a través de la tupla, tomado todas las calificaciones subsecuentes y actualizando la suma junto con el contador.\n",
    "- Línea 23: se calcula e imprime el promedio del alumno junto con su nombre."
   ]
  },
  {
   "cell_type": "code",
   "execution_count": null,
   "metadata": {},
   "outputs": [],
   "source": []
  }
 ],
 "metadata": {
  "kernelspec": {
   "display_name": "Python 3 (ipykernel)",
   "language": "python",
   "name": "python3"
  },
  "language_info": {
   "codemirror_mode": {
    "name": "ipython",
    "version": 3
   },
   "file_extension": ".py",
   "mimetype": "text/x-python",
   "name": "python",
   "nbconvert_exporter": "python",
   "pygments_lexer": "ipython3",
   "version": "3.8.13"
  }
 },
 "nbformat": 4,
 "nbformat_minor": 2
}
