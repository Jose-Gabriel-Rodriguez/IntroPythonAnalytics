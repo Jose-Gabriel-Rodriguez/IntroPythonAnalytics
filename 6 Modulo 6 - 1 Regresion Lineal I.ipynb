{
 "cells": [
  {
   "cell_type": "markdown",
   "id": "6a377c27",
   "metadata": {},
   "source": [
    "![](Logo3.png)"
   ]
  },
  {
   "cell_type": "markdown",
   "id": "895b45c3",
   "metadata": {},
   "source": [
    "#  Regresión lineal simple en Python\n",
    "\n",
    "## Tabla de Contenido\n",
    "\n",
    "[1. Contexto de la práctica](#id1)<br>\n",
    "[2. Evaluar dataset](#id2)<br>\n",
    "[3. Determinar la correlación ](#id3)<br>\n",
    "[4. Diagrama de dispersión](#id4)<br>\n",
    "[5. Regresión lineal Simple](#id5)<br>\n",
    "[6. Predicción](#id6)<br>"
   ]
  },
  {
   "cell_type": "markdown",
   "id": "3611f0f4",
   "metadata": {},
   "source": [
    "## Regresión lineal simple en Python\n",
    "\n",
    "- En estadística, la regresión lineal es una forma de **modelar una relación entre variables dependientes y**  y **variables independientes x**.\n",
    "- La idea principal de la regresión es **cuantificar la relación matemática** entre una o más **variables independientes** (también llamadas **predictores**) y una **variable dependiente** (también llamada objetivo). \n",
    "- Es un **método supervisado**, por lo que **depende de un conjunto de datos de valores obtenidos** de los predictores y del objetivo.\n",
    "- Se puede **utilizar para calcular los valores de la variable dependiente fuera del alcance de los valores obtenidos**, es decir que un modelo de regresión permite que el analista **extrapole información fuera del conjunto de datos disponible**.\n",
    "- Al trabajar con datos de **series de tiempo**, por ejemplo, **la regresión permite que el analista prediga los valores futuros a partir de datos históricos**.\n",
    "- Un **alto porcentaje de correlación de Pearson indica que un modelo lineal simple es un buen candidato** para adaptarse a los datos.\n",
    "- A pesar del nombre, **la regresión lineal no implica pasar una línea** a través de puntos de datos. \n",
    "- El término **lineal significa que la función de regresión intentará siempre adaptarse a los datos** mediante un promedio ponderado de otras funciones,\n",
    "- El objetivo de la regresión es encontrar un modelo que describa los datos con la mayor precisión posible."
   ]
  },
  {
   "cell_type": "markdown",
   "id": "d9e90c4a",
   "metadata": {},
   "source": [
    "## 1. Contexto de la práctica    <a id='id1'> </a>\n",
    "\n",
    "- En esta práctica de laboratorio se familiarizará con los **conceptos de la regresión lineal simple** y aprenderá a trabajar con datos  para **realizar una predicción**.\n",
    "- Analizará  **datos de ventas**  y realizará una **regresión lineal simple para predecir las ventas netas anuales** según la cantidad de tiendas en el distrito."
   ]
  },
  {
   "cell_type": "markdown",
   "id": "66acb3cf",
   "metadata": {},
   "source": [
    "## 2. Evaluar Dataset   <a id='id2'> </a>"
   ]
  },
  {
   "cell_type": "code",
   "execution_count": 2,
   "id": "6b3ff3df",
   "metadata": {},
   "outputs": [],
   "source": [
    "import pandas as pd\n",
    "import numpy as np\n",
    "import matplotlib.pyplot as plt"
   ]
  },
  {
   "cell_type": "code",
   "execution_count": 3,
   "id": "0fd6d1e9",
   "metadata": {},
   "outputs": [
    {
     "data": {
      "text/html": [
       "<div>\n",
       "<style scoped>\n",
       "    .dataframe tbody tr th:only-of-type {\n",
       "        vertical-align: middle;\n",
       "    }\n",
       "\n",
       "    .dataframe tbody tr th {\n",
       "        vertical-align: top;\n",
       "    }\n",
       "\n",
       "    .dataframe thead th {\n",
       "        text-align: right;\n",
       "    }\n",
       "</style>\n",
       "<table border=\"1\" class=\"dataframe\">\n",
       "  <thead>\n",
       "    <tr style=\"text-align: right;\">\n",
       "      <th></th>\n",
       "      <th>district</th>\n",
       "      <th>sales</th>\n",
       "      <th>stores</th>\n",
       "    </tr>\n",
       "  </thead>\n",
       "  <tbody>\n",
       "    <tr>\n",
       "      <th>0</th>\n",
       "      <td>1</td>\n",
       "      <td>231.0</td>\n",
       "      <td>12</td>\n",
       "    </tr>\n",
       "    <tr>\n",
       "      <th>1</th>\n",
       "      <td>2</td>\n",
       "      <td>156.0</td>\n",
       "      <td>13</td>\n",
       "    </tr>\n",
       "    <tr>\n",
       "      <th>2</th>\n",
       "      <td>3</td>\n",
       "      <td>10.0</td>\n",
       "      <td>16</td>\n",
       "    </tr>\n",
       "    <tr>\n",
       "      <th>3</th>\n",
       "      <td>4</td>\n",
       "      <td>519.0</td>\n",
       "      <td>2</td>\n",
       "    </tr>\n",
       "    <tr>\n",
       "      <th>4</th>\n",
       "      <td>5</td>\n",
       "      <td>437.0</td>\n",
       "      <td>6</td>\n",
       "    </tr>\n",
       "    <tr>\n",
       "      <th>5</th>\n",
       "      <td>6</td>\n",
       "      <td>487.0</td>\n",
       "      <td>5</td>\n",
       "    </tr>\n",
       "    <tr>\n",
       "      <th>6</th>\n",
       "      <td>7</td>\n",
       "      <td>299.0</td>\n",
       "      <td>11</td>\n",
       "    </tr>\n",
       "    <tr>\n",
       "      <th>7</th>\n",
       "      <td>8</td>\n",
       "      <td>195.0</td>\n",
       "      <td>13</td>\n",
       "    </tr>\n",
       "    <tr>\n",
       "      <th>8</th>\n",
       "      <td>9</td>\n",
       "      <td>20.0</td>\n",
       "      <td>16</td>\n",
       "    </tr>\n",
       "    <tr>\n",
       "      <th>9</th>\n",
       "      <td>10</td>\n",
       "      <td>68.0</td>\n",
       "      <td>9</td>\n",
       "    </tr>\n",
       "    <tr>\n",
       "      <th>10</th>\n",
       "      <td>11</td>\n",
       "      <td>570.0</td>\n",
       "      <td>2</td>\n",
       "    </tr>\n",
       "    <tr>\n",
       "      <th>11</th>\n",
       "      <td>12</td>\n",
       "      <td>428.0</td>\n",
       "      <td>8</td>\n",
       "    </tr>\n",
       "    <tr>\n",
       "      <th>12</th>\n",
       "      <td>13</td>\n",
       "      <td>464.0</td>\n",
       "      <td>4</td>\n",
       "    </tr>\n",
       "    <tr>\n",
       "      <th>13</th>\n",
       "      <td>14</td>\n",
       "      <td>15.0</td>\n",
       "      <td>15</td>\n",
       "    </tr>\n",
       "    <tr>\n",
       "      <th>14</th>\n",
       "      <td>15</td>\n",
       "      <td>65.0</td>\n",
       "      <td>12</td>\n",
       "    </tr>\n",
       "    <tr>\n",
       "      <th>15</th>\n",
       "      <td>16</td>\n",
       "      <td>98.0</td>\n",
       "      <td>11</td>\n",
       "    </tr>\n",
       "    <tr>\n",
       "      <th>16</th>\n",
       "      <td>17</td>\n",
       "      <td>398.0</td>\n",
       "      <td>5</td>\n",
       "    </tr>\n",
       "    <tr>\n",
       "      <th>17</th>\n",
       "      <td>18</td>\n",
       "      <td>161.0</td>\n",
       "      <td>14</td>\n",
       "    </tr>\n",
       "    <tr>\n",
       "      <th>18</th>\n",
       "      <td>19</td>\n",
       "      <td>397.0</td>\n",
       "      <td>8</td>\n",
       "    </tr>\n",
       "    <tr>\n",
       "      <th>19</th>\n",
       "      <td>20</td>\n",
       "      <td>497.0</td>\n",
       "      <td>2</td>\n",
       "    </tr>\n",
       "    <tr>\n",
       "      <th>20</th>\n",
       "      <td>21</td>\n",
       "      <td>528.0</td>\n",
       "      <td>1</td>\n",
       "    </tr>\n",
       "    <tr>\n",
       "      <th>21</th>\n",
       "      <td>22</td>\n",
       "      <td>99.0</td>\n",
       "      <td>15</td>\n",
       "    </tr>\n",
       "    <tr>\n",
       "      <th>22</th>\n",
       "      <td>23</td>\n",
       "      <td>0.5</td>\n",
       "      <td>13</td>\n",
       "    </tr>\n",
       "    <tr>\n",
       "      <th>23</th>\n",
       "      <td>24</td>\n",
       "      <td>347.0</td>\n",
       "      <td>7</td>\n",
       "    </tr>\n",
       "    <tr>\n",
       "      <th>24</th>\n",
       "      <td>25</td>\n",
       "      <td>341.0</td>\n",
       "      <td>6</td>\n",
       "    </tr>\n",
       "    <tr>\n",
       "      <th>25</th>\n",
       "      <td>26</td>\n",
       "      <td>507.0</td>\n",
       "      <td>1</td>\n",
       "    </tr>\n",
       "    <tr>\n",
       "      <th>26</th>\n",
       "      <td>27</td>\n",
       "      <td>400.0</td>\n",
       "      <td>9</td>\n",
       "    </tr>\n",
       "  </tbody>\n",
       "</table>\n",
       "</div>"
      ],
      "text/plain": [
       "    district  sales  stores\n",
       "0          1  231.0      12\n",
       "1          2  156.0      13\n",
       "2          3   10.0      16\n",
       "3          4  519.0       2\n",
       "4          5  437.0       6\n",
       "5          6  487.0       5\n",
       "6          7  299.0      11\n",
       "7          8  195.0      13\n",
       "8          9   20.0      16\n",
       "9         10   68.0       9\n",
       "10        11  570.0       2\n",
       "11        12  428.0       8\n",
       "12        13  464.0       4\n",
       "13        14   15.0      15\n",
       "14        15   65.0      12\n",
       "15        16   98.0      11\n",
       "16        17  398.0       5\n",
       "17        18  161.0      14\n",
       "18        19  397.0       8\n",
       "19        20  497.0       2\n",
       "20        21  528.0       1\n",
       "21        22   99.0      15\n",
       "22        23    0.5      13\n",
       "23        24  347.0       7\n",
       "24        25  341.0       6\n",
       "25        26  507.0       1\n",
       "26        27  400.0       9"
      ]
     },
     "execution_count": 3,
     "metadata": {},
     "output_type": "execute_result"
    }
   ],
   "source": [
    "ventas = pd.read_csv('stores-dist.csv')\n",
    "ventas.head(30)"
   ]
  },
  {
   "cell_type": "code",
   "execution_count": 4,
   "id": "f111e119",
   "metadata": {},
   "outputs": [
    {
     "name": "stdout",
     "output_type": "stream",
     "text": [
      "<class 'pandas.core.frame.DataFrame'>\n",
      "RangeIndex: 27 entries, 0 to 26\n",
      "Data columns (total 3 columns):\n",
      " #   Column    Non-Null Count  Dtype  \n",
      "---  ------    --------------  -----  \n",
      " 0   district  27 non-null     int64  \n",
      " 1   sales     27 non-null     float64\n",
      " 2   stores    27 non-null     int64  \n",
      "dtypes: float64(1), int64(2)\n",
      "memory usage: 776.0 bytes\n"
     ]
    }
   ],
   "source": [
    "ventas.info()"
   ]
  },
  {
   "cell_type": "markdown",
   "id": "695202bd",
   "metadata": {},
   "source": [
    "##  3. Determinar la correlación  <a id='id3'> </a>\n",
    "\n",
    "- En este paso, investigará la conexión de los datos antes del análisis de regresión. \n",
    "- También descartará cualquier columna sin relación según sea necesario."
   ]
  },
  {
   "cell_type": "code",
   "execution_count": 5,
   "id": "614b461a",
   "metadata": {},
   "outputs": [
    {
     "data": {
      "text/html": [
       "<div>\n",
       "<style scoped>\n",
       "    .dataframe tbody tr th:only-of-type {\n",
       "        vertical-align: middle;\n",
       "    }\n",
       "\n",
       "    .dataframe tbody tr th {\n",
       "        vertical-align: top;\n",
       "    }\n",
       "\n",
       "    .dataframe thead th {\n",
       "        text-align: right;\n",
       "    }\n",
       "</style>\n",
       "<table border=\"1\" class=\"dataframe\">\n",
       "  <thead>\n",
       "    <tr style=\"text-align: right;\">\n",
       "      <th></th>\n",
       "      <th>district</th>\n",
       "      <th>sales</th>\n",
       "      <th>stores</th>\n",
       "    </tr>\n",
       "  </thead>\n",
       "  <tbody>\n",
       "    <tr>\n",
       "      <th>district</th>\n",
       "      <td>1.000000</td>\n",
       "      <td>0.136103</td>\n",
       "      <td>-0.230617</td>\n",
       "    </tr>\n",
       "    <tr>\n",
       "      <th>sales</th>\n",
       "      <td>0.136103</td>\n",
       "      <td>1.000000</td>\n",
       "      <td>-0.912236</td>\n",
       "    </tr>\n",
       "    <tr>\n",
       "      <th>stores</th>\n",
       "      <td>-0.230617</td>\n",
       "      <td>-0.912236</td>\n",
       "      <td>1.000000</td>\n",
       "    </tr>\n",
       "  </tbody>\n",
       "</table>\n",
       "</div>"
      ],
      "text/plain": [
       "          district     sales    stores\n",
       "district  1.000000  0.136103 -0.230617\n",
       "sales     0.136103  1.000000 -0.912236\n",
       "stores   -0.230617 -0.912236  1.000000"
      ]
     },
     "execution_count": 5,
     "metadata": {},
     "output_type": "execute_result"
    }
   ],
   "source": [
    "ventas.corr()"
   ]
  },
  {
   "cell_type": "markdown",
   "id": "925bd71e",
   "metadata": {},
   "source": [
    "### Conclusiones de la correlación\n",
    "\n",
    "- Según el coeficiente de correlación, parece que **la columna district (distrito) tiene correlación baja** con respecto a las ventas netas anuales (sales)  \n",
    "- La columna del **distrito no es necesaria como parte del análisis de regresión**, por lo tanto **la columna district (distrito) se puede descartar** de la estructura de datos.  \n",
    "\n",
    "  \n",
    "  \n",
    "- La correlación entre las **ventas netas anuales y el número de tiendas** en el distrito es **fuertemente negativa** como lo indica un coeficiente de **-0.906**. \n",
    "- Esperará ver una línea de regresión que desciende de izquierda a derecha."
   ]
  },
  {
   "cell_type": "code",
   "execution_count": 6,
   "id": "7d187211",
   "metadata": {},
   "outputs": [
    {
     "data": {
      "text/html": [
       "<div>\n",
       "<style scoped>\n",
       "    .dataframe tbody tr th:only-of-type {\n",
       "        vertical-align: middle;\n",
       "    }\n",
       "\n",
       "    .dataframe tbody tr th {\n",
       "        vertical-align: top;\n",
       "    }\n",
       "\n",
       "    .dataframe thead th {\n",
       "        text-align: right;\n",
       "    }\n",
       "</style>\n",
       "<table border=\"1\" class=\"dataframe\">\n",
       "  <thead>\n",
       "    <tr style=\"text-align: right;\">\n",
       "      <th></th>\n",
       "      <th>sales</th>\n",
       "      <th>stores</th>\n",
       "    </tr>\n",
       "  </thead>\n",
       "  <tbody>\n",
       "    <tr>\n",
       "      <th>0</th>\n",
       "      <td>231.0</td>\n",
       "      <td>12</td>\n",
       "    </tr>\n",
       "    <tr>\n",
       "      <th>1</th>\n",
       "      <td>156.0</td>\n",
       "      <td>13</td>\n",
       "    </tr>\n",
       "    <tr>\n",
       "      <th>2</th>\n",
       "      <td>10.0</td>\n",
       "      <td>16</td>\n",
       "    </tr>\n",
       "    <tr>\n",
       "      <th>3</th>\n",
       "      <td>519.0</td>\n",
       "      <td>2</td>\n",
       "    </tr>\n",
       "    <tr>\n",
       "      <th>4</th>\n",
       "      <td>437.0</td>\n",
       "      <td>6</td>\n",
       "    </tr>\n",
       "  </tbody>\n",
       "</table>\n",
       "</div>"
      ],
      "text/plain": [
       "   sales  stores\n",
       "0  231.0      12\n",
       "1  156.0      13\n",
       "2   10.0      16\n",
       "3  519.0       2\n",
       "4  437.0       6"
      ]
     },
     "execution_count": 6,
     "metadata": {},
     "output_type": "execute_result"
    }
   ],
   "source": [
    "# Borramos la columna distrito por ser irrelevante\n",
    "\n",
    "ventas = ventas.drop('district',axis=1)\n",
    "ventas.head()"
   ]
  },
  {
   "cell_type": "markdown",
   "id": "5f6ba449",
   "metadata": {},
   "source": [
    "## 4. Diagrama de dispersión  <a id='id4'> </a>\n",
    "\n",
    "- Para el gráfico de dispersión se asignará **tiendas como variable independiente  x**  y **ventas como variable dependiente  y**."
   ]
  },
  {
   "cell_type": "code",
   "execution_count": 7,
   "id": "35f985ed",
   "metadata": {},
   "outputs": [],
   "source": [
    "# Variable Independiente o variables predictoras (Eje)  X \n",
    "x = ventas.stores \n",
    "\n",
    "# Variable dependiente o variable objetivo (Eje)  y \n",
    "y = ventas['sales']"
   ]
  },
  {
   "cell_type": "code",
   "execution_count": 8,
   "id": "7667599b",
   "metadata": {},
   "outputs": [
    {
     "data": {
      "image/png": "[encoded data removed]",
      "text/plain": [
       "<Figure size 1440x720 with 1 Axes>"
      ]
     },
     "metadata": {
      "needs_background": "light"
     },
     "output_type": "display_data"
    }
   ],
   "source": [
    "# Definir tamaño del grafico\n",
    "plt.figure(figsize=(20,10))\n",
    "\n",
    "# Diagrame de dispersion \n",
    "plt.plot(x,y, 'o', markersize = 15)\n",
    "\n",
    "# Etiquetas de los ejes\n",
    "plt.ylabel('Ventas Netas Anuales ', fontsize = 30)\n",
    "plt.xlabel('Número de Ventas en el distrito', fontsize = 30)\n",
    "\n",
    "# Incrementar el tamaño de los marcadores de los ejes\n",
    "plt.xticks(fontsize = 20)\n",
    "plt.yticks(fontsize = 20)\n",
    "\n",
    "# Mostarr diagrama de dispersión\n",
    "plt.show()"
   ]
  },
  {
   "cell_type": "markdown",
   "id": "4dd6e840",
   "metadata": {},
   "source": [
    "## 5. Regresión lineal Simple <a id='id5'> </a>\n",
    "\n",
    "- En esta parte, usará numpy para generar una línea de regresión para los datos analizados. \n",
    "- También calculará el centroide para este conjunto de datos. \n",
    "- El centroide es **la media del conjunto de datos**.\n",
    "- La línea de regresión lineal simple generada también debe pasar por el centroide."
   ]
  },
  {
   "cell_type": "markdown",
   "id": "e4450859",
   "metadata": {},
   "source": [
    "### Calcular la pendiente y la intersección con el eje y de la línea de regresión lineal"
   ]
  },
  {
   "cell_type": "code",
   "execution_count": 9,
   "id": "78cfa51c",
   "metadata": {},
   "outputs": [
    {
     "name": "stdout",
     "output_type": "stream",
     "text": [
      "La pendiente es -35.79.\n",
      "El Intercepto y es 599.38.\n",
      "La línea de regresión lineal simple de mejor ajuste es -35.79x + 599.38.\n"
     ]
    }
   ],
   "source": [
    "# Usar polyfit numpy en la regresión lineal para ajustar los datos\n",
    "# Generar la pendiente de la recta (m)\n",
    "# Generar el intercepto en y (b)\n",
    "\n",
    "m, b = np.polyfit(x, y, 1) \n",
    "print ('La pendiente es {:.2f}.'.format(m))\n",
    "print ('El Intercepto y es {:.2f}.'.format(b))\n",
    "print ('La línea de regresión lineal simple de mejor ajuste es {:.2f}x + {:.2f}.'.format(m,b))\n"
   ]
  },
  {
   "cell_type": "markdown",
   "id": "4a99f02d",
   "metadata": {},
   "source": [
    "###   Calcular el centroide"
   ]
  },
  {
   "cell_type": "code",
   "execution_count": 10,
   "id": "6d96c08c",
   "metadata": {},
   "outputs": [
    {
     "name": "stdout",
     "output_type": "stream",
     "text": [
      "El centroide es x = 8.74 y  *y* = 286.57.\n"
     ]
    }
   ],
   "source": [
    "# Coordenada y del centroide\n",
    "y_mean = y.mean()    \n",
    "\n",
    "# Coordenada x del centroide\n",
    "x_mean = x.mean()\n",
    "\n",
    "print ('El centroide es x = {:.2f} y  *y* = {:.2f}.'.format(x_mean, y_mean))"
   ]
  },
  {
   "cell_type": "markdown",
   "id": "fb9e4a1a",
   "metadata": {},
   "source": [
    "###  Colocar la línea de regresión y el punto centroide en el gráfico"
   ]
  },
  {
   "cell_type": "code",
   "execution_count": 11,
   "id": "feb50d99",
   "metadata": {},
   "outputs": [
    {
     "data": {
      "text/plain": [
       "<matplotlib.legend.Legend at 0x1e38f5836d0>"
      ]
     },
     "execution_count": 11,
     "metadata": {},
     "output_type": "execute_result"
    },
    {
     "data": {
      "image/png": "[encoded data removed]",
      "text/plain": [
       "<Figure size 1440x720 with 1 Axes>"
      ]
     },
     "metadata": {
      "needs_background": "light"
     },
     "output_type": "display_data"
    }
   ],
   "source": [
    "# Code Cell 10\n",
    "# Create the plot inline\n",
    "%matplotlib inline\n",
    "\n",
    "# Enlarge the plot size\n",
    "plt.figure(figsize=(20,10))\n",
    "\n",
    "# Plot the scatter plot of the data set\n",
    "plt.plot(x,y, 'o', markersize = 14, label = \"Ventas Netas Anuales\") \n",
    "\n",
    "# Plot the centroid point\n",
    "plt.plot(x_mean, y_mean, '*', markersize = 30, color = \"r\") \n",
    "\n",
    "# Plot the linear regression line\n",
    "plt.plot(x, m*x + b, '-', label = 'Linea de Regresión Simple', linewidth = 4)\n",
    "\n",
    "# Create the x and y axis labels\n",
    "plt.ylabel('Ventas Netas Anuales', fontsize = 30)\n",
    "plt.xlabel('Número de Tiendas en el Distrito', fontsize = 30)\n",
    "\n",
    "# Enlarge x and y tick marks\n",
    "plt.xticks(fontsize = 20)\n",
    "plt.yticks(fontsize = 20)\n",
    "\n",
    "# Point out the centroid point in the plot\n",
    "plt.annotate('Centroide', xy=(x_mean-0.1, y_mean-5), xytext=(x_mean-3, y_mean-20), arrowprops=dict(facecolor='black', shrink=0.05), fontsize = 30)\n",
    "\n",
    "# Create legend\n",
    "plt.legend(loc = 'upper right', fontsize = 20)"
   ]
  },
  {
   "cell_type": "markdown",
   "id": "4bbf6922",
   "metadata": {},
   "source": [
    "## 6. Predicción <a id='id6'> </a>\n",
    "\n",
    "**Regresión lineal simple**  \n",
    "La regresión lineal simple es un método que nos ayuda a comprender la relación entre dos variables:\n",
    "\n",
    "- El predictor/variable independiente (X)\n",
    "- El objetivp/variable dependiente (que queremos predecir)(Y)\n",
    "- El resultado de **la regresión lineal es una función lineal que predice la variable de respuesta** (dependiente) en función de la(s) variable(s) predictora(s) (independiente(s)).\n",
    "\n",
    "**Función Lineal**\n",
    "$$\n",
    "Yhat = a + b  X\n",
    "$$\n",
    "\n",
    "- **a** se refiere a la intersección de la línea de regresión\n",
    "- **b** se refiere a la pendiente de la línea de regresión  \n",
    "\n",
    "- Formula:\n",
    "    $$y = mx + b$$"
   ]
  },
  {
   "cell_type": "code",
   "execution_count": 24,
   "id": "c103737c",
   "metadata": {},
   "outputs": [],
   "source": [
    "# Funcion para predecir las ventas netas anuales \n",
    "\n",
    "def predecir(valordeX):\n",
    "    if valordeX >= 1:\n",
    "        prediccion = m * valordeX + b\n",
    "        return prediccion\n",
    "    else:\n",
    "        print (\"Debe tener al menos 1 tienda en el distrito para predecir las ventas netas anuales.\")"
   ]
  },
  {
   "cell_type": "code",
   "execution_count": 25,
   "id": "f426967e",
   "metadata": {},
   "outputs": [
    {
     "data": {
      "text/plain": [
       "241.50885534292138"
      ]
     },
     "execution_count": 25,
     "metadata": {},
     "output_type": "execute_result"
    }
   ],
   "source": [
    "# Ingresar el número de tiendas en la función para generar la predicción de ventas netas.\n",
    "\n",
    "predecir(10)"
   ]
  },
  {
   "cell_type": "code",
   "execution_count": 26,
   "id": "a52d41b2",
   "metadata": {},
   "outputs": [
    {
     "data": {
      "text/plain": [
       "456.2313681207654"
      ]
     },
     "execution_count": 26,
     "metadata": {},
     "output_type": "execute_result"
    }
   ],
   "source": [
    "predecir(4)"
   ]
  },
  {
   "cell_type": "code",
   "execution_count": 17,
   "id": "f21aa9a4",
   "metadata": {},
   "outputs": [
    {
     "data": {
      "text/plain": [
       "527.8055390467134"
      ]
     },
     "execution_count": 17,
     "metadata": {},
     "output_type": "execute_result"
    }
   ],
   "source": [
    "predecir(2)"
   ]
  },
  {
   "cell_type": "code",
   "execution_count": null,
   "id": "f5a6f656",
   "metadata": {},
   "outputs": [],
   "source": []
  }
 ],
 "metadata": {
  "kernelspec": {
   "display_name": "Python 3 (ipykernel)",
   "language": "python",
   "name": "python3"
  },
  "language_info": {
   "codemirror_mode": {
    "name": "ipython",
    "version": 3
   },
   "file_extension": ".py",
   "mimetype": "text/x-python",
   "name": "python",
   "nbconvert_exporter": "python",
   "pygments_lexer": "ipython3",
   "version": "3.8.13"
  }
 },
 "nbformat": 4,
 "nbformat_minor": 5
}
