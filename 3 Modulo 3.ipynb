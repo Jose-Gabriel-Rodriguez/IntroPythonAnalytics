{
 "cells": [
  {
   "cell_type": "markdown",
   "metadata": {},
   "source": [
    "\n",
    "![](Logo3.png)"
   ]
  },
  {
   "cell_type": "markdown",
   "metadata": {},
   "source": [
    "\n",
    "# Modulo III   Series\n",
    "\n",
    "\n",
    "## Tabla de Contenido\n",
    "\n",
    "[3.1 Series](#id2)<br>\n",
    "[3.2 Busquedas en Series](#id3)<br>\n",
    "[3.3 Combinar Series](#id4)<br>\n",
    "[3.4 Graficar Series](#id5)<br>\n"
   ]
  },
  {
   "cell_type": "markdown",
   "metadata": {},
   "source": [
    "## Pandas \n",
    "\n",
    "- Es una **biblioteca de código abierto** para Python que agrega **estructuras de datos de alto rendimiento** y **herramientas para el análisis de grandes conjuntos de datos**. \n",
    "- Las **estructuras de datos de pandas** incluyen las **series** y las estructuras **dataframes (marco de datos)**. \n",
    "- **Los dataframes son la principal estructura de pandas**.\n",
    "- Pandas es una **librería externa** y se tiene que instalar. (En el caso de Anaconda viene instalado).\n",
    "- Se importa en un programa de Python mediante la instruccion import.\n",
    "- Es convencional utilizar **import pandas as pd** para facilitar la escritura de las referencias a los componentes de pandas. \n",
    "\n",
    "![](Pandas_python.png)"
   ]
  },
  {
   "cell_type": "markdown",
   "metadata": {},
   "source": [
    "## 3.1 Series  <a id='id2'> </a>\n",
    "\n",
    "### Matriz unidimensional con etiquetas de eje.\n",
    "\n",
    "- Las etiquetas no necesitan ser únicas, pero deben ser de tipo hashable. El objeto admite la **indexación basada en enteros y etiquetas** y proporciona una gran cantidad de **métodos para realizar operaciones relacionadas con el índice**.\n",
    "- Las operaciones entre series (+, -, /, *, * *) alinean valores en función de sus valores de índice asociados; no es necesario que tengan la misma longitud. El índice de resultado será la unión ordenada de los dos índices.\n",
    "\n",
    "![](series.png)\n"
   ]
  },
  {
   "cell_type": "code",
   "execution_count": 6,
   "metadata": {},
   "outputs": [],
   "source": [
    "import pandas as pd\n",
    "\n",
    "## Mostrar la documentacion de pandas\n",
    "pd.Series?"
   ]
  },
  {
   "cell_type": "code",
   "execution_count": 3,
   "metadata": {},
   "outputs": [
    {
     "data": {
      "text/plain": [
       "0       Tigre\n",
       "1         Oso\n",
       "2        Leon\n",
       "3    Leopardo\n",
       "dtype: object"
      ]
     },
     "execution_count": 3,
     "metadata": {},
     "output_type": "execute_result"
    }
   ],
   "source": [
    "# Creamos primero una lista y luego la convertimos a una serie\n",
    "animales = ['Tigre', 'Oso', 'Leon', 'Leopardo']\n",
    "pd.Series(animales)\n"
   ]
  },
  {
   "cell_type": "code",
   "execution_count": 4,
   "metadata": {},
   "outputs": [
    {
     "data": {
      "text/plain": [
       "0    10\n",
       "1    20\n",
       "2    30\n",
       "3    40\n",
       "4    50\n",
       "dtype: int64"
      ]
     },
     "execution_count": 4,
     "metadata": {},
     "output_type": "execute_result"
    }
   ],
   "source": [
    "# Otra lista pero de numeros\n",
    "numeros = [10, 20, 30, 40, 50]\n",
    "pd.Series(numeros)\n"
   ]
  },
  {
   "cell_type": "markdown",
   "metadata": {},
   "source": [
    "## Opción 1 Para tratar con Series \n",
    "\n",
    "- Como se mencionó anteriormente, la estructura **Series** de **pandas** permite trabajar con matrices unidimensionales usando como índice valores numericos o cadenas de texto que se podrán usar como etiquetas o variables.\n",
    "- Es muy útil cuando necesitamos trabajar con 2 columnas de datos.\n",
    "- Esta primera opción consiste en leer un archivo **csv** con datos en 2 columnas con el método **pd.Series.from_csv** de pandas.\n",
    "- El método **pd.Series.from_csv** ya es **obsoleta** y en su lugar se debe usar el método **pd. read_csv**.\n",
    "- En esta primer opción se verá la opción **pd.Series.from_csv** de pandas."
   ]
  },
  {
   "cell_type": "code",
   "execution_count": 5,
   "metadata": {},
   "outputs": [
    {
     "name": "stderr",
     "output_type": "stream",
     "text": [
      "C:\\Anaconda3\\lib\\site-packages\\pandas\\core\\series.py:3727: FutureWarning: from_csv is deprecated. Please use read_csv(...) instead. Note that some of the default arguments are different, so please refer to the documentation for from_csv when changing your function calls\n",
      "  infer_datetime_format=infer_datetime_format)\n"
     ]
    }
   ],
   "source": [
    "# Información del medallero bajada desde\n",
    "# https://es.wikipedia.org/wiki/Anexo:Medallero_de_los_Juegos_Ol%C3%ADmpicos_de_Tokio_2020 \n",
    "\n",
    "# NOTA: Esta instrucción ya esta obsoleta y no funciona en las nuevas versiones de pandas\n",
    "\n",
    "#  Leer un archivo csv\n",
    "medallero = pd.Series.from_csv(\"MedallasOlimpiadas2020_10.csv\")"
   ]
  },
  {
   "cell_type": "code",
   "execution_count": 8,
   "metadata": {},
   "outputs": [
    {
     "data": {
      "text/plain": [
       "Posicion                Pais\n",
       "1             Estados Unidos\n",
       "2                      China\n",
       "3                      Japón\n",
       "4                Reino Unido\n",
       "5                      Rusia\n",
       "6                  Australia\n",
       "7           los Países Bajos\n",
       "8                    Francia\n",
       "9                   Alemania\n",
       "10                    Italia\n",
       "dtype: object"
      ]
     },
     "execution_count": 8,
     "metadata": {},
     "output_type": "execute_result"
    }
   ],
   "source": [
    "# Pandas usa las 2 primeras columnas como parte de la serie\n",
    "\n",
    "medallero"
   ]
  },
  {
   "cell_type": "code",
   "execution_count": 9,
   "metadata": {},
   "outputs": [
    {
     "name": "stderr",
     "output_type": "stream",
     "text": [
      "C:\\Anaconda3\\lib\\site-packages\\pandas\\core\\series.py:3727: FutureWarning: from_csv is deprecated. Please use read_csv(...) instead. Note that some of the default arguments are different, so please refer to the documentation for from_csv when changing your function calls\n",
      "  infer_datetime_format=infer_datetime_format)\n"
     ]
    },
    {
     "data": {
      "text/plain": [
       "Pais                Posicion\n",
       "Estados Unidos             1\n",
       "China                      2\n",
       "Japón                      3\n",
       "Reino Unido                4\n",
       "Rusia                      5\n",
       "Australia                  6\n",
       "los Países Bajos           7\n",
       "Francia                    8\n",
       "Alemania                   9\n",
       "Italia                    10\n",
       "dtype: object"
      ]
     },
     "execution_count": 9,
     "metadata": {},
     "output_type": "execute_result"
    }
   ],
   "source": [
    "# Podemos especificar cual es la columna a usar como índice, pero \n",
    "# No podemos indicar cual es la columna a usar\n",
    "\n",
    "# Checar referencia para ver las clausulas u opciones que se pueden usar\n",
    "# https://pandas.pydata.org/pandas-docs/version/0.23/generated/pandas.Series.from_csv.html\n",
    "\n",
    "medallero = pd.Series.from_csv(\"MedallasOlimpiadas2020_10.csv\", index_col = 1 )\n",
    "medallero\n"
   ]
  },
  {
   "cell_type": "code",
   "execution_count": 11,
   "metadata": {},
   "outputs": [
    {
     "data": {
      "text/plain": [
       "Estados Unidos      113\n",
       "China                88\n",
       "Japón                58\n",
       "Reino Unido          65\n",
       "Rusia                71\n",
       "Australia            46\n",
       "los Países Bajos     36\n",
       "Francia              33\n",
       "Alemania             37\n",
       "Italia               40\n",
       "dtype: int64"
      ]
     },
     "execution_count": 11,
     "metadata": {},
     "output_type": "execute_result"
    }
   ],
   "source": [
    "medallero = pd.Series.from_csv(\"MedallasOlimpiadas2020_2cols.csv\")\n",
    "medallero"
   ]
  },
  {
   "cell_type": "markdown",
   "metadata": {},
   "source": [
    "##  Opción 2 para el tratamiento de Series\n",
    "\n",
    "Debido a que el método de pandas **Series.from_csv** ya está obsoleto, se decidió trabajarlo como un dataframe, se eliminan las columnas que no interesan y después se convierte a una Serie."
   ]
  },
  {
   "cell_type": "code",
   "execution_count": 1,
   "metadata": {},
   "outputs": [],
   "source": [
    "import pandas as pd\n",
    "\n",
    "# Se usa el metodo read_csv de pandas que permite leer un archivo csv y poner el contenido \n",
    "# del archivo en una variable didimensional con estructura de tabla en renglones y columnas\n",
    "\n",
    "medallero = pd.read_csv(\"MedallasOlimpiadas2020_10.csv\")"
   ]
  },
  {
   "cell_type": "code",
   "execution_count": 2,
   "metadata": {},
   "outputs": [
    {
     "data": {
      "text/html": [
       "<div>\n",
       "<style scoped>\n",
       "    .dataframe tbody tr th:only-of-type {\n",
       "        vertical-align: middle;\n",
       "    }\n",
       "\n",
       "    .dataframe tbody tr th {\n",
       "        vertical-align: top;\n",
       "    }\n",
       "\n",
       "    .dataframe thead th {\n",
       "        text-align: right;\n",
       "    }\n",
       "</style>\n",
       "<table border=\"1\" class=\"dataframe\">\n",
       "  <thead>\n",
       "    <tr style=\"text-align: right;\">\n",
       "      <th></th>\n",
       "      <th>Posicion</th>\n",
       "      <th>Pais</th>\n",
       "      <th>Oro</th>\n",
       "      <th>Plata</th>\n",
       "      <th>Bronce</th>\n",
       "      <th>Total</th>\n",
       "    </tr>\n",
       "  </thead>\n",
       "  <tbody>\n",
       "    <tr>\n",
       "      <th>0</th>\n",
       "      <td>1</td>\n",
       "      <td>Estados Unidos</td>\n",
       "      <td>39</td>\n",
       "      <td>41</td>\n",
       "      <td>33</td>\n",
       "      <td>113</td>\n",
       "    </tr>\n",
       "    <tr>\n",
       "      <th>1</th>\n",
       "      <td>2</td>\n",
       "      <td>China</td>\n",
       "      <td>38</td>\n",
       "      <td>32</td>\n",
       "      <td>18</td>\n",
       "      <td>88</td>\n",
       "    </tr>\n",
       "    <tr>\n",
       "      <th>2</th>\n",
       "      <td>3</td>\n",
       "      <td>Japón</td>\n",
       "      <td>27</td>\n",
       "      <td>14</td>\n",
       "      <td>17</td>\n",
       "      <td>58</td>\n",
       "    </tr>\n",
       "    <tr>\n",
       "      <th>3</th>\n",
       "      <td>4</td>\n",
       "      <td>Reino Unido</td>\n",
       "      <td>22</td>\n",
       "      <td>21</td>\n",
       "      <td>22</td>\n",
       "      <td>65</td>\n",
       "    </tr>\n",
       "    <tr>\n",
       "      <th>4</th>\n",
       "      <td>5</td>\n",
       "      <td>Rusia</td>\n",
       "      <td>20</td>\n",
       "      <td>28</td>\n",
       "      <td>23</td>\n",
       "      <td>71</td>\n",
       "    </tr>\n",
       "    <tr>\n",
       "      <th>5</th>\n",
       "      <td>6</td>\n",
       "      <td>Australia</td>\n",
       "      <td>17</td>\n",
       "      <td>7</td>\n",
       "      <td>22</td>\n",
       "      <td>46</td>\n",
       "    </tr>\n",
       "    <tr>\n",
       "      <th>6</th>\n",
       "      <td>7</td>\n",
       "      <td>los Países Bajos</td>\n",
       "      <td>10</td>\n",
       "      <td>12</td>\n",
       "      <td>14</td>\n",
       "      <td>36</td>\n",
       "    </tr>\n",
       "    <tr>\n",
       "      <th>7</th>\n",
       "      <td>8</td>\n",
       "      <td>Francia</td>\n",
       "      <td>10</td>\n",
       "      <td>12</td>\n",
       "      <td>11</td>\n",
       "      <td>33</td>\n",
       "    </tr>\n",
       "    <tr>\n",
       "      <th>8</th>\n",
       "      <td>9</td>\n",
       "      <td>Alemania</td>\n",
       "      <td>10</td>\n",
       "      <td>11</td>\n",
       "      <td>16</td>\n",
       "      <td>37</td>\n",
       "    </tr>\n",
       "    <tr>\n",
       "      <th>9</th>\n",
       "      <td>10</td>\n",
       "      <td>Italia</td>\n",
       "      <td>10</td>\n",
       "      <td>10</td>\n",
       "      <td>20</td>\n",
       "      <td>40</td>\n",
       "    </tr>\n",
       "  </tbody>\n",
       "</table>\n",
       "</div>"
      ],
      "text/plain": [
       "   Posicion              Pais  Oro  Plata  Bronce  Total\n",
       "0         1    Estados Unidos   39     41      33    113\n",
       "1         2             China   38     32      18     88\n",
       "2         3             Japón   27     14      17     58\n",
       "3         4       Reino Unido   22     21      22     65\n",
       "4         5             Rusia   20     28      23     71\n",
       "5         6         Australia   17      7      22     46\n",
       "6         7  los Países Bajos   10     12      14     36\n",
       "7         8           Francia   10     12      11     33\n",
       "8         9          Alemania   10     11      16     37\n",
       "9        10            Italia   10     10      20     40"
      ]
     },
     "execution_count": 2,
     "metadata": {},
     "output_type": "execute_result"
    }
   ],
   "source": [
    "# Mostramos el contenido del archivo csv desde  el dataframe o marco de datos\n",
    "medallero"
   ]
  },
  {
   "cell_type": "code",
   "execution_count": 3,
   "metadata": {},
   "outputs": [
    {
     "data": {
      "text/html": [
       "<div>\n",
       "<style scoped>\n",
       "    .dataframe tbody tr th:only-of-type {\n",
       "        vertical-align: middle;\n",
       "    }\n",
       "\n",
       "    .dataframe tbody tr th {\n",
       "        vertical-align: top;\n",
       "    }\n",
       "\n",
       "    .dataframe thead th {\n",
       "        text-align: right;\n",
       "    }\n",
       "</style>\n",
       "<table border=\"1\" class=\"dataframe\">\n",
       "  <thead>\n",
       "    <tr style=\"text-align: right;\">\n",
       "      <th></th>\n",
       "      <th>Pais</th>\n",
       "      <th>Total</th>\n",
       "    </tr>\n",
       "  </thead>\n",
       "  <tbody>\n",
       "    <tr>\n",
       "      <th>0</th>\n",
       "      <td>Estados Unidos</td>\n",
       "      <td>113</td>\n",
       "    </tr>\n",
       "    <tr>\n",
       "      <th>1</th>\n",
       "      <td>China</td>\n",
       "      <td>88</td>\n",
       "    </tr>\n",
       "    <tr>\n",
       "      <th>2</th>\n",
       "      <td>Japón</td>\n",
       "      <td>58</td>\n",
       "    </tr>\n",
       "    <tr>\n",
       "      <th>3</th>\n",
       "      <td>Reino Unido</td>\n",
       "      <td>65</td>\n",
       "    </tr>\n",
       "    <tr>\n",
       "      <th>4</th>\n",
       "      <td>Rusia</td>\n",
       "      <td>71</td>\n",
       "    </tr>\n",
       "    <tr>\n",
       "      <th>5</th>\n",
       "      <td>Australia</td>\n",
       "      <td>46</td>\n",
       "    </tr>\n",
       "    <tr>\n",
       "      <th>6</th>\n",
       "      <td>los Países Bajos</td>\n",
       "      <td>36</td>\n",
       "    </tr>\n",
       "    <tr>\n",
       "      <th>7</th>\n",
       "      <td>Francia</td>\n",
       "      <td>33</td>\n",
       "    </tr>\n",
       "    <tr>\n",
       "      <th>8</th>\n",
       "      <td>Alemania</td>\n",
       "      <td>37</td>\n",
       "    </tr>\n",
       "    <tr>\n",
       "      <th>9</th>\n",
       "      <td>Italia</td>\n",
       "      <td>40</td>\n",
       "    </tr>\n",
       "  </tbody>\n",
       "</table>\n",
       "</div>"
      ],
      "text/plain": [
       "               Pais  Total\n",
       "0    Estados Unidos    113\n",
       "1             China     88\n",
       "2             Japón     58\n",
       "3       Reino Unido     65\n",
       "4             Rusia     71\n",
       "5         Australia     46\n",
       "6  los Países Bajos     36\n",
       "7           Francia     33\n",
       "8          Alemania     37\n",
       "9            Italia     40"
      ]
     },
     "execution_count": 3,
     "metadata": {},
     "output_type": "execute_result"
    }
   ],
   "source": [
    "# Con la misma variable (medallero) creamos nuevamente el dataframe selecconando \n",
    "# unicamente las columnas que nos interesan\n",
    "\n",
    "medallero = medallero[['Pais','Total']]\n",
    "medallero"
   ]
  },
  {
   "cell_type": "code",
   "execution_count": 4,
   "metadata": {},
   "outputs": [
    {
     "data": {
      "text/html": [
       "<div>\n",
       "<style scoped>\n",
       "    .dataframe tbody tr th:only-of-type {\n",
       "        vertical-align: middle;\n",
       "    }\n",
       "\n",
       "    .dataframe tbody tr th {\n",
       "        vertical-align: top;\n",
       "    }\n",
       "\n",
       "    .dataframe thead th {\n",
       "        text-align: right;\n",
       "    }\n",
       "</style>\n",
       "<table border=\"1\" class=\"dataframe\">\n",
       "  <thead>\n",
       "    <tr style=\"text-align: right;\">\n",
       "      <th></th>\n",
       "      <th>Total</th>\n",
       "    </tr>\n",
       "    <tr>\n",
       "      <th>Pais</th>\n",
       "      <th></th>\n",
       "    </tr>\n",
       "  </thead>\n",
       "  <tbody>\n",
       "    <tr>\n",
       "      <th>Estados Unidos</th>\n",
       "      <td>113</td>\n",
       "    </tr>\n",
       "    <tr>\n",
       "      <th>China</th>\n",
       "      <td>88</td>\n",
       "    </tr>\n",
       "    <tr>\n",
       "      <th>Japón</th>\n",
       "      <td>58</td>\n",
       "    </tr>\n",
       "    <tr>\n",
       "      <th>Reino Unido</th>\n",
       "      <td>65</td>\n",
       "    </tr>\n",
       "    <tr>\n",
       "      <th>Rusia</th>\n",
       "      <td>71</td>\n",
       "    </tr>\n",
       "    <tr>\n",
       "      <th>Australia</th>\n",
       "      <td>46</td>\n",
       "    </tr>\n",
       "    <tr>\n",
       "      <th>los Países Bajos</th>\n",
       "      <td>36</td>\n",
       "    </tr>\n",
       "    <tr>\n",
       "      <th>Francia</th>\n",
       "      <td>33</td>\n",
       "    </tr>\n",
       "    <tr>\n",
       "      <th>Alemania</th>\n",
       "      <td>37</td>\n",
       "    </tr>\n",
       "    <tr>\n",
       "      <th>Italia</th>\n",
       "      <td>40</td>\n",
       "    </tr>\n",
       "  </tbody>\n",
       "</table>\n",
       "</div>"
      ],
      "text/plain": [
       "                  Total\n",
       "Pais                   \n",
       "Estados Unidos      113\n",
       "China                88\n",
       "Japón                58\n",
       "Reino Unido          65\n",
       "Rusia                71\n",
       "Australia            46\n",
       "los Países Bajos     36\n",
       "Francia              33\n",
       "Alemania             37\n",
       "Italia               40"
      ]
     },
     "execution_count": 4,
     "metadata": {},
     "output_type": "execute_result"
    }
   ],
   "source": [
    "# Establecemos la columna país como índice\n",
    "\n",
    "medallero = medallero.set_index('Pais')\n",
    "medallero"
   ]
  },
  {
   "cell_type": "code",
   "execution_count": 5,
   "metadata": {},
   "outputs": [],
   "source": [
    "# Convertimos el dataframe a una Serie\n",
    "\n",
    "medallerroSeries = medallero.squeeze(axis=None)"
   ]
  },
  {
   "cell_type": "code",
   "execution_count": 6,
   "metadata": {},
   "outputs": [
    {
     "data": {
      "text/plain": [
       "Pais\n",
       "Estados Unidos      113\n",
       "China                88\n",
       "Japón                58\n",
       "Reino Unido          65\n",
       "Rusia                71\n",
       "Australia            46\n",
       "los Países Bajos     36\n",
       "Francia              33\n",
       "Alemania             37\n",
       "Italia               40\n",
       "Name: Total, dtype: int64"
      ]
     },
     "execution_count": 6,
     "metadata": {},
     "output_type": "execute_result"
    }
   ],
   "source": [
    "medallerroSeries"
   ]
  },
  {
   "cell_type": "code",
   "execution_count": null,
   "metadata": {},
   "outputs": [],
   "source": []
  },
  {
   "cell_type": "markdown",
   "metadata": {},
   "source": [
    "###  3.2 Búsquedas en Series   <a id='id3'> </a>"
   ]
  },
  {
   "cell_type": "code",
   "execution_count": 7,
   "metadata": {},
   "outputs": [
    {
     "data": {
      "text/plain": [
       "58"
      ]
     },
     "execution_count": 7,
     "metadata": {},
     "output_type": "execute_result"
    }
   ],
   "source": [
    "# Buscar por la posicion del indice\n",
    "\n",
    "medallerroSeries.iloc[2]"
   ]
  },
  {
   "cell_type": "code",
   "execution_count": 8,
   "metadata": {},
   "outputs": [
    {
     "data": {
      "text/plain": [
       "58"
      ]
     },
     "execution_count": 8,
     "metadata": {},
     "output_type": "execute_result"
    }
   ],
   "source": [
    "# Tambien se puede hacer de esta forma\n",
    "medallerroSeries[2]"
   ]
  },
  {
   "cell_type": "code",
   "execution_count": 9,
   "metadata": {},
   "outputs": [
    {
     "data": {
      "text/plain": [
       "Pais\n",
       "Japón               58\n",
       "Reino Unido         65\n",
       "Rusia               71\n",
       "Australia           46\n",
       "los Países Bajos    36\n",
       "Name: Total, dtype: int64"
      ]
     },
     "execution_count": 9,
     "metadata": {},
     "output_type": "execute_result"
    }
   ],
   "source": [
    "# Buscar por la posición del indice usando slicing\n",
    "\n",
    "medallerroSeries.iloc[2: 7]"
   ]
  },
  {
   "cell_type": "code",
   "execution_count": 10,
   "metadata": {},
   "outputs": [
    {
     "data": {
      "text/plain": [
       "88"
      ]
     },
     "execution_count": 10,
     "metadata": {},
     "output_type": "execute_result"
    }
   ],
   "source": [
    "# # Buscar por el nombre del indice\n",
    "\n",
    "medallerroSeries.loc[\"China\"]"
   ]
  },
  {
   "cell_type": "code",
   "execution_count": 12,
   "metadata": {},
   "outputs": [
    {
     "data": {
      "text/plain": [
       "88"
      ]
     },
     "execution_count": 12,
     "metadata": {},
     "output_type": "execute_result"
    }
   ],
   "source": [
    "# si se pasa un parámetro entero, el operador se comportará como si desea que se consulte\n",
    "# a través del atributo iloc. Si pasa un objeto, consultará como si quisiera usar el\n",
    "# atributo loc basado en la etiqueta.\n",
    "\n",
    "# LOS ATRIBUTOS ILOC Y LOC son utiles cuando por ejemplo el índice no es un entero\n",
    "# y se quiere hacer referencia a una posicion dentro de la serie\n",
    "\n",
    "medallerroSeries[\"China\"]"
   ]
  },
  {
   "cell_type": "code",
   "execution_count": 14,
   "metadata": {},
   "outputs": [
    {
     "name": "stdout",
     "output_type": "stream",
     "text": [
      "587\n"
     ]
    }
   ],
   "source": [
    "# Iterar por los elementos de la serie para realizar calculos \n",
    "\n",
    "total = 0\n",
    "for totalmedallas in medallerroSeries:\n",
    "    total+=totalmedallas\n",
    "print(total)\n",
    "\n",
    "#  Esto funciona bien y da el resultado esperado. Pero que pasaria si tuvieramos \n",
    "## 10 millones de elementos  ???  ( seria muy tardado)\n",
    "\n",
    "\n",
    "# la biblioteca NumPy  admite un método de cálculo llamado vectorización. \n",
    "# La vectorización funciona con la mayoría de las funciones de la biblioteca NumPy,\n",
    "# incluida la función sum.\n",
    "\n",
    "# Primero necesitamos importar el módulo numpy, y luego simplemente \n",
    "# llamamos a np.sum y pasamos un elemento iterabl"
   ]
  },
  {
   "cell_type": "code",
   "execution_count": 15,
   "metadata": {},
   "outputs": [
    {
     "name": "stdout",
     "output_type": "stream",
     "text": [
      "587\n"
     ]
    }
   ],
   "source": [
    "# Importamos a biblioteca numpy\n",
    "import numpy as np\n",
    "\n",
    "total = np.s\n",
    "print(total)"
   ]
  },
  {
   "cell_type": "markdown",
   "metadata": {},
   "source": [
    "## Comparativo de velocidad de procesamiento\n",
    "\n",
    "- Jupyter Notebook tiene una función mágica que puede ayudar\n",
    "- Las funciones mágicas comienzan con dos signos porcentuales \n",
    "- La función que vamos a usar se llama timeit. \n",
    "- **timeit** ejecutará el código unas cuantas veces para determinar, en promedio, cuánto tiempo toma."
   ]
  },
  {
   "cell_type": "code",
   "execution_count": 17,
   "metadata": {},
   "outputs": [
    {
     "data": {
      "text/plain": [
       "0    595\n",
       "1     47\n",
       "2    907\n",
       "3     92\n",
       "4    798\n",
       "dtype: int32"
      ]
     },
     "execution_count": 17,
     "metadata": {},
     "output_type": "execute_result"
    }
   ],
   "source": [
    "# Para comparar los 2 métodos, crearemos una serie de de 100 mil números entre 1 y 1000\n",
    "\n",
    "s = pd.Series(np.random.randint(1,1000,100000))\n",
    "\n",
    "# Mostramos los primeros 5\n",
    "s.head()"
   ]
  },
  {
   "cell_type": "code",
   "execution_count": 18,
   "metadata": {},
   "outputs": [
    {
     "data": {
      "text/plain": [
       "100000"
      ]
     },
     "execution_count": 18,
     "metadata": {},
     "output_type": "execute_result"
    }
   ],
   "source": [
    "# verificamos la longitud de la serie\n",
    "len(s)"
   ]
  },
  {
   "cell_type": "code",
   "execution_count": 19,
   "metadata": {},
   "outputs": [],
   "source": [
    "# Vamos a ejecutar timeit con nuestro código iterativo original. \n",
    "# Se especifica en timeit el número de veces que se va a ejecutar.\n",
    "\n",
    "# esta función ejecutará nuestro código 50 veces para determinar,\n",
    "# cuánto tiempo en promedio toma en realizar el proceso"
   ]
  },
  {
   "cell_type": "code",
   "execution_count": 20,
   "metadata": {},
   "outputs": [
    {
     "name": "stdout",
     "output_type": "stream",
     "text": [
      "21 ms ± 459 µs per loop (mean ± std. dev. of 7 runs, 50 loops each)\n"
     ]
    }
   ],
   "source": [
    "%%timeit -n 50\n",
    "\n",
    "summary = 0\n",
    "for item in s:\n",
    "    summary+=item"
   ]
  },
  {
   "cell_type": "code",
   "execution_count": 21,
   "metadata": {},
   "outputs": [
    {
     "name": "stdout",
     "output_type": "stream",
     "text": [
      "The slowest run took 4.50 times longer than the fastest. This could mean that an intermediate result is being cached.\n",
      "318 µs ± 218 µs per loop (mean ± std. dev. of 7 runs, 50 loops each)\n"
     ]
    }
   ],
   "source": [
    "%%timeit -n 50\n",
    "summary = np.sum(s)"
   ]
  },
  {
   "cell_type": "code",
   "execution_count": null,
   "metadata": {},
   "outputs": [],
   "source": []
  },
  {
   "cell_type": "markdown",
   "metadata": {},
   "source": [
    "###  3.3 Combinar Series   <a id='id4'> </a>"
   ]
  },
  {
   "cell_type": "code",
   "execution_count": 22,
   "metadata": {},
   "outputs": [
    {
     "data": {
      "text/plain": [
       "Canada           24\n",
       "Brasil           21\n",
       "Nueva Zelanda    20\n",
       "Cuba             15\n",
       "Hungría          20\n",
       "dtype: int64"
      ]
     },
     "execution_count": 22,
     "metadata": {},
     "output_type": "execute_result"
    }
   ],
   "source": [
    "# Crear una serie desde cero\n",
    "\n",
    "medallero2 = pd.Series({ 'Canada' : 24,\n",
    "                      'Brasil': 21,\n",
    "                      'Nueva Zelanda': 20,\n",
    "                      'Cuba': 15,\n",
    "                      'Hungría': 20})\n",
    "medallero2\n",
    "\n"
   ]
  },
  {
   "cell_type": "code",
   "execution_count": 24,
   "metadata": {},
   "outputs": [
    {
     "name": "stderr",
     "output_type": "stream",
     "text": [
      "C:\\Users\\jgab\\AppData\\Local\\Temp\\ipykernel_12488\\2592744545.py:3: FutureWarning: The series.append method is deprecated and will be removed from pandas in a future version. Use pandas.concat instead.\n",
      "  medallero_final = medallerroSeries.append(medallero2)\n"
     ]
    },
    {
     "data": {
      "text/plain": [
       "Estados Unidos      113\n",
       "China                88\n",
       "Japón                58\n",
       "Reino Unido          65\n",
       "Rusia                71\n",
       "Australia            46\n",
       "los Países Bajos     36\n",
       "Francia              33\n",
       "Alemania             37\n",
       "Italia               40\n",
       "Canada               24\n",
       "Brasil               21\n",
       "Nueva Zelanda        20\n",
       "Cuba                 15\n",
       "Hungría              20\n",
       "dtype: int64"
      ]
     },
     "execution_count": 24,
     "metadata": {},
     "output_type": "execute_result"
    }
   ],
   "source": [
    "# Combinar el medallero que leimos desde el archivo csv y el que acabamos de crear\n",
    "\n",
    "medallero_final = medallerroSeries.append(medallero2)\n",
    "medallero_final"
   ]
  },
  {
   "cell_type": "code",
   "execution_count": 25,
   "metadata": {},
   "outputs": [
    {
     "data": {
      "text/plain": [
       "Estados Unidos      113\n",
       "China                88\n",
       "Japón                58\n",
       "Reino Unido          65\n",
       "Rusia                71\n",
       "Australia            46\n",
       "los Países Bajos     36\n",
       "Francia              33\n",
       "Alemania             37\n",
       "Italia               40\n",
       "Canada               24\n",
       "Brasil               21\n",
       "Nueva Zelanda        20\n",
       "Cuba                 15\n",
       "Hungría              20\n",
       "dtype: int64"
      ]
     },
     "execution_count": 25,
     "metadata": {},
     "output_type": "execute_result"
    }
   ],
   "source": [
    "# Atendiendo el mensaje anterior usamos el método recomendado para evitar que en un futuro\n",
    "# en que se actualice en nuestro equipo la version de pandas, nuestro programa no \n",
    "# funcione adecuadamente\n",
    "\n",
    "medallero_final = pd.concat([medallerroSeries, medallero2]) \n",
    "medallero_final"
   ]
  },
  {
   "cell_type": "markdown",
   "metadata": {},
   "source": [
    "## 3.3 Graficar Series\n",
    "\n",
    "Usaremos la libreria matplotlib\n",
    "\n",
    "https://pandas.pydata.org/docs/user_guide/visualization.html#basic-plotting-plot"
   ]
  },
  {
   "cell_type": "code",
   "execution_count": 32,
   "metadata": {},
   "outputs": [],
   "source": [
    "import matplotlib as plt\n",
    "%matplotlib inline"
   ]
  },
  {
   "cell_type": "code",
   "execution_count": 26,
   "metadata": {},
   "outputs": [
    {
     "data": {
      "text/plain": [
       "<AxesSubplot:title={'center':'Medallero de los Juegos Olímpicos de Tokio 2020'}>"
      ]
     },
     "execution_count": 26,
     "metadata": {},
     "output_type": "execute_result"
    },
    {
     "data": {
      "image/png": "[encoded data removed]",
      "text/plain": [
       "<Figure size 432x288 with 1 Axes>"
      ]
     },
     "metadata": {
      "needs_background": "light"
     },
     "output_type": "display_data"
    }
   ],
   "source": [
    "medallero_final.plot(kind='bar', title = 'Medallero de los Juegos Olímpicos de Tokio 2020')"
   ]
  },
  {
   "cell_type": "code",
   "execution_count": 27,
   "metadata": {},
   "outputs": [
    {
     "data": {
      "text/plain": [
       "<AxesSubplot:title={'center':'Medallero de los Juegos Olímpicos de Tokio 2020'}>"
      ]
     },
     "execution_count": 27,
     "metadata": {},
     "output_type": "execute_result"
    },
    {
     "data": {
      "image/png": "[encoded data removed]",
      "text/plain": [
       "<Figure size 432x288 with 1 Axes>"
      ]
     },
     "metadata": {
      "needs_background": "light"
     },
     "output_type": "display_data"
    }
   ],
   "source": [
    "medallero_final.plot(kind='barh', title = 'Medallero de los Juegos Olímpicos de Tokio 2020')"
   ]
  },
  {
   "cell_type": "code",
   "execution_count": 28,
   "metadata": {},
   "outputs": [
    {
     "data": {
      "text/plain": [
       "<AxesSubplot:title={'center':'Medallero de los Juegos Olímpicos de Tokio 2020'}, ylabel='None'>"
      ]
     },
     "execution_count": 28,
     "metadata": {},
     "output_type": "execute_result"
    },
    {
     "data": {
      "image/png": "[encoded data removed]",
      "text/plain": [
       "<Figure size 432x288 with 1 Axes>"
      ]
     },
     "metadata": {},
     "output_type": "display_data"
    }
   ],
   "source": [
    "medallero_final.plot(kind='pie', title = 'Medallero de los Juegos Olímpicos de Tokio 2020')"
   ]
  },
  {
   "cell_type": "code",
   "execution_count": null,
   "metadata": {},
   "outputs": [],
   "source": []
  }
 ],
 "metadata": {
  "kernelspec": {
   "display_name": "Python 3 (ipykernel)",
   "language": "python",
   "name": "python3"
  },
  "language_info": {
   "codemirror_mode": {
    "name": "ipython",
    "version": 3
   },
   "file_extension": ".py",
   "mimetype": "text/x-python",
   "name": "python",
   "nbconvert_exporter": "python",
   "pygments_lexer": "ipython3",
   "version": "3.8.13"
  }
 },
 "nbformat": 4,
 "nbformat_minor": 2
}
