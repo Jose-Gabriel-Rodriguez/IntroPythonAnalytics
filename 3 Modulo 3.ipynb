{
 "cells": [
  {
   "cell_type": "markdown",
   "metadata": {},
   "source": [
    "\n",
    "![](Logo3.png)"
   ]
  },
  {
   "cell_type": "markdown",
   "metadata": {},
   "source": [
    "\n",
    "# Modulo III   Series\n",
    "\n",
    "\n",
    "## Tabla de Contenido\n",
    "\n",
    "[3.1 Series](#id2)<br>\n",
    "[3.2 Busquedas en Series](#id3)<br>\n",
    "[3.3 Combinar Series](#id4)<br>\n",
    "[3.4 Graficar Series](#id5)<br>\n"
   ]
  },
  {
   "cell_type": "markdown",
   "metadata": {},
   "source": [
    "## Pandas \n",
    "\n",
    "- Es una **biblioteca de código abierto** para Python que agrega **estructuras de datos de alto rendimiento** y **herramientas para el análisis de grandes conjuntos de datos**. \n",
    "- Las **estructuras de datos de pandas** incluyen las **series** y las estructuras **dataframes (marco de datos)**. \n",
    "- **Los dataframes son la principal estructura de pandas**.\n",
    "- Pandas es una **librería externa** y se tiene que instalar. (En el caso de Anaconda viene instalado).\n",
    "- Se importa en un programa de Python mediante la instruccion import.\n",
    "- Es convencional utilizar **import pandas as pd** para facilitar la escritura de las referencias a los componentes de pandas. \n",
    "\n",
    "![](Pandas_python.png)"
   ]
  },
  {
   "cell_type": "markdown",
   "metadata": {},
   "source": [
    "## 3.1 Series  <a id='id2'> </a>\n",
    "\n",
    "### Matriz unidimensional con etiquetas de eje.\n",
    "\n",
    "- Las etiquetas no necesitan ser únicas, pero deben ser de tipo hashable. El objeto admite la **indexación basada en enteros y etiquetas** y proporciona una gran cantidad de **métodos para realizar operaciones relacionadas con el índice**.\n",
    "- Las operaciones entre series (+, -, /, *, * *) alinean valores en función de sus valores de índice asociados; no es necesario que tengan la misma longitud. El índice de resultado será la unión ordenada de los dos índices.\n",
    "\n",
    "![](series.png)\n"
   ]
  },
  {
   "cell_type": "code",
   "execution_count": 6,
   "metadata": {},
   "outputs": [],
   "source": [
    "import pandas as pd\n",
    "\n",
    "## Mostrar la documentacion de pandas\n",
    "pd.Series?"
   ]
  },
  {
   "cell_type": "code",
   "execution_count": 3,
   "metadata": {},
   "outputs": [
    {
     "data": {
      "text/plain": [
       "0       Tigre\n",
       "1         Oso\n",
       "2        Leon\n",
       "3    Leopardo\n",
       "dtype: object"
      ]
     },
     "execution_count": 3,
     "metadata": {},
     "output_type": "execute_result"
    }
   ],
   "source": [
    "# Creamos primero una lista y luego la convertimos a una serie\n",
    "animales = ['Tigre', 'Oso', 'Leon', 'Leopardo']\n",
    "pd.Series(animales)\n"
   ]
  },
  {
   "cell_type": "code",
   "execution_count": 4,
   "metadata": {},
   "outputs": [
    {
     "data": {
      "text/plain": [
       "0    10\n",
       "1    20\n",
       "2    30\n",
       "3    40\n",
       "4    50\n",
       "dtype: int64"
      ]
     },
     "execution_count": 4,
     "metadata": {},
     "output_type": "execute_result"
    }
   ],
   "source": [
    "# Otra lista pero de numeros\n",
    "numeros = [10, 20, 30, 40, 50]\n",
    "pd.Series(numeros)\n"
   ]
  },
  {
   "cell_type": "code",
   "execution_count": 5,
   "metadata": {},
   "outputs": [
    {
     "name": "stderr",
     "output_type": "stream",
     "text": [
      "C:\\Anaconda3\\lib\\site-packages\\pandas\\core\\series.py:3727: FutureWarning: from_csv is deprecated. Please use read_csv(...) instead. Note that some of the default arguments are different, so please refer to the documentation for from_csv when changing your function calls\n",
      "  infer_datetime_format=infer_datetime_format)\n"
     ]
    }
   ],
   "source": [
    "# Información del medallero bajada desde\n",
    "# https://es.wikipedia.org/wiki/Anexo:Medallero_de_los_Juegos_Ol%C3%ADmpicos_de_Tokio_2020 \n",
    "\n",
    "# NOTA: Esta instrucción ya esta obsoleta y no funciona en las nuevas versiones de pandas\n",
    "\n",
    "#  Leer un archivo csv\n",
    "medallero = pd.Series.from_csv(\"MedallasOlimpiadas2020_10.csv\")"
   ]
  },
  {
   "cell_type": "code",
   "execution_count": 8,
   "metadata": {},
   "outputs": [
    {
     "data": {
      "text/plain": [
       "Posicion                Pais\n",
       "1             Estados Unidos\n",
       "2                      China\n",
       "3                      Japón\n",
       "4                Reino Unido\n",
       "5                      Rusia\n",
       "6                  Australia\n",
       "7           los Países Bajos\n",
       "8                    Francia\n",
       "9                   Alemania\n",
       "10                    Italia\n",
       "dtype: object"
      ]
     },
     "execution_count": 8,
     "metadata": {},
     "output_type": "execute_result"
    }
   ],
   "source": [
    "# Pandas usa las 2 primeras columnas como parte de la serie\n",
    "\n",
    "medallero"
   ]
  },
  {
   "cell_type": "code",
   "execution_count": 9,
   "metadata": {},
   "outputs": [
    {
     "name": "stderr",
     "output_type": "stream",
     "text": [
      "C:\\Anaconda3\\lib\\site-packages\\pandas\\core\\series.py:3727: FutureWarning: from_csv is deprecated. Please use read_csv(...) instead. Note that some of the default arguments are different, so please refer to the documentation for from_csv when changing your function calls\n",
      "  infer_datetime_format=infer_datetime_format)\n"
     ]
    },
    {
     "data": {
      "text/plain": [
       "Pais                Posicion\n",
       "Estados Unidos             1\n",
       "China                      2\n",
       "Japón                      3\n",
       "Reino Unido                4\n",
       "Rusia                      5\n",
       "Australia                  6\n",
       "los Países Bajos           7\n",
       "Francia                    8\n",
       "Alemania                   9\n",
       "Italia                    10\n",
       "dtype: object"
      ]
     },
     "execution_count": 9,
     "metadata": {},
     "output_type": "execute_result"
    }
   ],
   "source": [
    "# Podemos especificar cual es la columna a usar como índice, pero \n",
    "# No podemos indicar cual es la columna a usar\n",
    "\n",
    "# Checar referencia para ver las clausulas u opciones que se pueden usar\n",
    "# https://pandas.pydata.org/pandas-docs/version/0.23/generated/pandas.Series.from_csv.html\n",
    "\n",
    "medallero = pd.Series.from_csv(\"MedallasOlimpiadas2020_10.csv\", index_col = 1 )\n",
    "medallero\n"
   ]
  },
  {
   "cell_type": "code",
   "execution_count": 11,
   "metadata": {},
   "outputs": [
    {
     "data": {
      "text/plain": [
       "Estados Unidos      113\n",
       "China                88\n",
       "Japón                58\n",
       "Reino Unido          65\n",
       "Rusia                71\n",
       "Australia            46\n",
       "los Países Bajos     36\n",
       "Francia              33\n",
       "Alemania             37\n",
       "Italia               40\n",
       "dtype: int64"
      ]
     },
     "execution_count": 11,
     "metadata": {},
     "output_type": "execute_result"
    }
   ],
   "source": [
    "medallero = pd.Series.from_csv(\"MedallasOlimpiadas2020_2cols.csv\")\n",
    "medallero"
   ]
  },
  {
   "cell_type": "markdown",
   "metadata": {},
   "source": [
    "###  3.2 Búsquedas en Series   <a id='id3'> </a>"
   ]
  },
  {
   "cell_type": "code",
   "execution_count": 12,
   "metadata": {},
   "outputs": [
    {
     "data": {
      "text/plain": [
       "58"
      ]
     },
     "execution_count": 12,
     "metadata": {},
     "output_type": "execute_result"
    }
   ],
   "source": [
    "# Buscar por la posicion del indice\n",
    "\n",
    "medallero.iloc[2]"
   ]
  },
  {
   "cell_type": "code",
   "execution_count": 13,
   "metadata": {},
   "outputs": [
    {
     "data": {
      "text/plain": [
       "58"
      ]
     },
     "execution_count": 13,
     "metadata": {},
     "output_type": "execute_result"
    }
   ],
   "source": [
    "# Tambien se puede hacer de esta forma\n",
    "medallero[2]"
   ]
  },
  {
   "cell_type": "code",
   "execution_count": 38,
   "metadata": {},
   "outputs": [
    {
     "data": {
      "text/plain": [
       "Japón               58\n",
       "Reino Unido         65\n",
       "Rusia               71\n",
       "Australia           46\n",
       "los Países Bajos    36\n",
       "dtype: int64"
      ]
     },
     "execution_count": 38,
     "metadata": {},
     "output_type": "execute_result"
    }
   ],
   "source": [
    "# Buscar por la posición del indice usando slicing\n",
    "\n",
    "medallero.iloc[2: 7]"
   ]
  },
  {
   "cell_type": "code",
   "execution_count": 14,
   "metadata": {},
   "outputs": [
    {
     "data": {
      "text/plain": [
       "88"
      ]
     },
     "execution_count": 14,
     "metadata": {},
     "output_type": "execute_result"
    }
   ],
   "source": [
    "# # Buscar por el nombre del indice\n",
    "\n",
    "medallero.loc[\"China\"]"
   ]
  },
  {
   "cell_type": "code",
   "execution_count": 15,
   "metadata": {},
   "outputs": [
    {
     "data": {
      "text/plain": [
       "88"
      ]
     },
     "execution_count": 15,
     "metadata": {},
     "output_type": "execute_result"
    }
   ],
   "source": [
    "# si se pasa un parámetro entero, el operador se comportará como si desea que se consulte\n",
    "# a través del atributo iloc. Si pasa un objeto, consultará como si quisiera usar el\n",
    "# atributo loc basado en la etiqueta.\n",
    "\n",
    "# LOS ATRIBUTOS ILOC Y LOC son utiles cuando por ejemplo el índice no es un entero\n",
    "# y se quiere hacer referencia a una posicion dentro de la serie\n",
    "\n",
    "medallero[\"China\"]"
   ]
  },
  {
   "cell_type": "code",
   "execution_count": 16,
   "metadata": {},
   "outputs": [
    {
     "name": "stdout",
     "output_type": "stream",
     "text": [
      "587\n"
     ]
    }
   ],
   "source": [
    "# Iterar por los elementos de la serie para realizar calculos \n",
    "\n",
    "total = 0\n",
    "for totalmedallas in medallero:\n",
    "    total+=totalmedallas\n",
    "print(total)\n",
    "\n",
    "#  Esto funciona bien y da el resultado. Pero que pasaria si tuvieramos \n",
    "## 10 millones de elementos   ( seria muy tardado)\n",
    "\n",
    "\n",
    "# la biblioteca NumPy  admite un método de cálculo llamado vectorización. \n",
    "# La vectorización funciona con la mayoría de las funciones de la biblioteca NumPy,\n",
    "# incluida la función sum.\n",
    "\n",
    "# Primero necesitamos importar el módulo numpy, y luego simplemente \n",
    "# llamamos a np.sum y pasamos un elemento iterabl"
   ]
  },
  {
   "cell_type": "code",
   "execution_count": 17,
   "metadata": {},
   "outputs": [
    {
     "name": "stdout",
     "output_type": "stream",
     "text": [
      "587\n"
     ]
    }
   ],
   "source": [
    "# Importamos a biblioteca numpy\n",
    "import numpy as np\n",
    "\n",
    "total = np.sum(medallero)\n",
    "print(total)"
   ]
  },
  {
   "cell_type": "markdown",
   "metadata": {},
   "source": [
    "## Comparativo de velocidad de procesamiento\n",
    "\n",
    "- Jupyter Notebook tiene una función mágica que puede ayudar\n",
    "- Las funciones mágicas comienzan con dos signos porcentuales \n",
    "- La función que vamos a usar se llama timeit. \n",
    "- **timeit** ejecutará el código unas cuantas veces para determinar, en promedio, cuánto tiempo toma."
   ]
  },
  {
   "cell_type": "code",
   "execution_count": 18,
   "metadata": {},
   "outputs": [
    {
     "data": {
      "text/plain": [
       "0    848\n",
       "1    158\n",
       "2    496\n",
       "3      1\n",
       "4     64\n",
       "dtype: int32"
      ]
     },
     "execution_count": 18,
     "metadata": {},
     "output_type": "execute_result"
    }
   ],
   "source": [
    "# Para comparar los 2 metodos, crearemos una serie de de 100 mil numeros entre 1 y 100\n",
    "\n",
    "s = pd.Series(np.random.randint(1,1000,100000))\n",
    "s.head()"
   ]
  },
  {
   "cell_type": "code",
   "execution_count": 19,
   "metadata": {},
   "outputs": [
    {
     "data": {
      "text/plain": [
       "100000"
      ]
     },
     "execution_count": 19,
     "metadata": {},
     "output_type": "execute_result"
    }
   ],
   "source": [
    "# verificamos la longitud de la serie\n",
    "len(s)"
   ]
  },
  {
   "cell_type": "code",
   "execution_count": null,
   "metadata": {},
   "outputs": [],
   "source": [
    "# Vamos a ejecutar timeit con nuestro código iterativo original. \n",
    "# Se especifica en timeit el número de veces que se va a ejecutar.\n",
    "\n",
    "# esta función ejecutará nuestro código unas cuantas veces para determinar,\n",
    "# en promedio, cuánto tiempo toma"
   ]
  },
  {
   "cell_type": "code",
   "execution_count": 26,
   "metadata": {},
   "outputs": [
    {
     "name": "stdout",
     "output_type": "stream",
     "text": [
      "9.11 ms ± 322 µs per loop (mean ± std. dev. of 7 runs, 100 loops each)\n"
     ]
    }
   ],
   "source": [
    "%%timeit -n 100\n",
    "\n",
    "summary = 0\n",
    "for item in s:\n",
    "    summary+=item"
   ]
  },
  {
   "cell_type": "code",
   "execution_count": 27,
   "metadata": {},
   "outputs": [
    {
     "name": "stdout",
     "output_type": "stream",
     "text": [
      "564 µs ± 110 µs per loop (mean ± std. dev. of 7 runs, 100 loops each)\n"
     ]
    }
   ],
   "source": [
    "%%timeit -n 100\n",
    "summary = np.sum(s)"
   ]
  },
  {
   "cell_type": "code",
   "execution_count": null,
   "metadata": {},
   "outputs": [],
   "source": []
  },
  {
   "cell_type": "markdown",
   "metadata": {},
   "source": [
    "###  3.3 Combinar Series   <a id='id4'> </a>"
   ]
  },
  {
   "cell_type": "code",
   "execution_count": 30,
   "metadata": {},
   "outputs": [
    {
     "data": {
      "text/plain": [
       "Canada           24\n",
       "Brasil           21\n",
       "Nueva Zelanda    20\n",
       "Cuba             15\n",
       "Hungría          20\n",
       "dtype: int64"
      ]
     },
     "execution_count": 30,
     "metadata": {},
     "output_type": "execute_result"
    }
   ],
   "source": [
    "# Crear una serie desde cero\n",
    "\n",
    "medallero2 = pd.Series({ 'Canada' : 24,\n",
    "                      'Brasil': 21,\n",
    "                      'Nueva Zelanda': 20,\n",
    "                      'Cuba': 15,\n",
    "                      'Hungría': 20})\n",
    "medallero2\n",
    "\n"
   ]
  },
  {
   "cell_type": "code",
   "execution_count": 31,
   "metadata": {},
   "outputs": [
    {
     "data": {
      "text/plain": [
       "Estados Unidos      113\n",
       "China                88\n",
       "Japón                58\n",
       "Reino Unido          65\n",
       "Rusia                71\n",
       "Australia            46\n",
       "los Países Bajos     36\n",
       "Francia              33\n",
       "Alemania             37\n",
       "Italia               40\n",
       "Canada               24\n",
       "Brasil               21\n",
       "Nueva Zelanda        20\n",
       "Cuba                 15\n",
       "Hungría              20\n",
       "dtype: int64"
      ]
     },
     "execution_count": 31,
     "metadata": {},
     "output_type": "execute_result"
    }
   ],
   "source": [
    "# Combinar el medallero que leimos desde el archivo csv y el que acabamos de crear\n",
    "medallero_final = medallero.append(medallero2)\n",
    "medallero_final"
   ]
  },
  {
   "cell_type": "markdown",
   "metadata": {},
   "source": [
    "## 3.3 Graficar Series\n",
    "\n",
    "Usaremos la libreria matplotlib\n",
    "\n",
    "https://pandas.pydata.org/docs/user_guide/visualization.html#basic-plotting-plot"
   ]
  },
  {
   "cell_type": "code",
   "execution_count": 32,
   "metadata": {},
   "outputs": [],
   "source": [
    "import matplotlib as plt\n",
    "%matplotlib inline"
   ]
  },
  {
   "cell_type": "code",
   "execution_count": 33,
   "metadata": {},
   "outputs": [
    {
     "data": {
      "text/plain": [
       "<matplotlib.axes._subplots.AxesSubplot at 0x12c1ace1160>"
      ]
     },
     "execution_count": 33,
     "metadata": {},
     "output_type": "execute_result"
    },
    {
     "data": {
      "image/png": "[encoded data removed]",
      "text/plain": [
       "<Figure size 432x288 with 1 Axes>"
      ]
     },
     "metadata": {
      "needs_background": "light"
     },
     "output_type": "display_data"
    }
   ],
   "source": [
    "medallero.plot(kind='bar', title = 'Medallero de los Juegos Olímpicos de Tokio 2020')"
   ]
  },
  {
   "cell_type": "code",
   "execution_count": 34,
   "metadata": {},
   "outputs": [
    {
     "data": {
      "text/plain": [
       "<matplotlib.axes._subplots.AxesSubplot at 0x12c1afe9128>"
      ]
     },
     "execution_count": 34,
     "metadata": {},
     "output_type": "execute_result"
    },
    {
     "data": {
      "image/png": "[encoded data removed]",
      "text/plain": [
       "<Figure size 432x288 with 1 Axes>"
      ]
     },
     "metadata": {
      "needs_background": "light"
     },
     "output_type": "display_data"
    }
   ],
   "source": [
    "medallero.plot(kind='barh', title = 'Medallero de los Juegos Olímpicos de Tokio 2020')"
   ]
  },
  {
   "cell_type": "code",
   "execution_count": 35,
   "metadata": {},
   "outputs": [
    {
     "data": {
      "text/plain": [
       "<matplotlib.axes._subplots.AxesSubplot at 0x12c1b07b2b0>"
      ]
     },
     "execution_count": 35,
     "metadata": {},
     "output_type": "execute_result"
    },
    {
     "data": {
      "image/png": "[encoded data removed]",
      "text/plain": [
       "<Figure size 432x288 with 1 Axes>"
      ]
     },
     "metadata": {},
     "output_type": "display_data"
    }
   ],
   "source": [
    "medallero.plot(kind='pie', title = 'Medallero de los Juegos Olímpicos de Tokio 2020')"
   ]
  },
  {
   "cell_type": "code",
   "execution_count": null,
   "metadata": {},
   "outputs": [],
   "source": []
  }
 ],
 "metadata": {
  "kernelspec": {
   "display_name": "Python 3 (ipykernel)",
   "language": "python",
   "name": "python3"
  },
  "language_info": {
   "codemirror_mode": {
    "name": "ipython",
    "version": 3
   },
   "file_extension": ".py",
   "mimetype": "text/x-python",
   "name": "python",
   "nbconvert_exporter": "python",
   "pygments_lexer": "ipython3",
   "version": "3.8.13"
  }
 },
 "nbformat": 4,
 "nbformat_minor": 2
}
