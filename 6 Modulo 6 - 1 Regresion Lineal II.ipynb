{
 "cells": [
  {
   "cell_type": "markdown",
   "id": "a09ff7f9",
   "metadata": {},
   "source": [
    "![](Logo3.png)"
   ]
  },
  {
   "cell_type": "markdown",
   "id": "5bc27151",
   "metadata": {},
   "source": [
    "#  Evaluación de los errores de ajuste en la regresión lineal\n",
    "\n",
    "## Tabla de Contenido\n",
    "\n",
    "[1. Contexto de la práctica](#id1)<br>\n",
    "[2. Evaluar dataset](#id2)<br>\n",
    "[3. Calcular los errores del modelo](#id3)<br>\n"
   ]
  },
  {
   "cell_type": "markdown",
   "id": "4be7e7e2",
   "metadata": {},
   "source": [
    "## Regresión lineal simple en Python\n",
    "\n",
    "En estadística, la regresión lineal es una forma de modelar una relación entre variables dependientes **y**  y variables independientes **x** ."
   ]
  },
  {
   "cell_type": "markdown",
   "id": "c52b3fe2",
   "metadata": {},
   "source": [
    "## 1. Contexto de la práctica    <a id='id1'> </a>\n",
    "\n",
    "- En esta práctica de laboratorio, se familiarizará con los conceptos de **evaluar los errores de ajuste en la regresión lineal**.\n",
    "- Utilizará el resultado de la regresión lineal para **evaluar la precisión del modelo**.\n",
    "- Utilizará **sklearn**, una de las bibliotecas de Python más utilizadas para el **aprendizaje automático**.\n",
    "- Implementa una amplia variedad de métodos, además de ofrecer funcionalidades de preprocesamiento, validación transversal, etc. \n",
    "- Puede encontrar documentación, instructivos y otros materiales aquí: http://scikit-learn.org/stable/documentation.html"
   ]
  },
  {
   "cell_type": "markdown",
   "id": "127b3f55",
   "metadata": {},
   "source": [
    "## 2. Evaluar Dataset   <a id='id2'> </a>"
   ]
  },
  {
   "cell_type": "code",
   "execution_count": 1,
   "id": "08c769c5",
   "metadata": {},
   "outputs": [],
   "source": [
    "import pandas as pd\n",
    "import numpy as np\n",
    "import matplotlib.pyplot as plt\n",
    "\n",
    "from sklearn import model_selection\n",
    "from sklearn.linear_model import LinearRegression"
   ]
  },
  {
   "cell_type": "code",
   "execution_count": 2,
   "id": "5bc1361d",
   "metadata": {},
   "outputs": [
    {
     "data": {
      "text/html": [
       "<div>\n",
       "<style scoped>\n",
       "    .dataframe tbody tr th:only-of-type {\n",
       "        vertical-align: middle;\n",
       "    }\n",
       "\n",
       "    .dataframe tbody tr th {\n",
       "        vertical-align: top;\n",
       "    }\n",
       "\n",
       "    .dataframe thead th {\n",
       "        text-align: right;\n",
       "    }\n",
       "</style>\n",
       "<table border=\"1\" class=\"dataframe\">\n",
       "  <thead>\n",
       "    <tr style=\"text-align: right;\">\n",
       "      <th></th>\n",
       "      <th>district</th>\n",
       "      <th>sales</th>\n",
       "      <th>stores</th>\n",
       "    </tr>\n",
       "  </thead>\n",
       "  <tbody>\n",
       "    <tr>\n",
       "      <th>0</th>\n",
       "      <td>1</td>\n",
       "      <td>231.0</td>\n",
       "      <td>12</td>\n",
       "    </tr>\n",
       "    <tr>\n",
       "      <th>1</th>\n",
       "      <td>2</td>\n",
       "      <td>156.0</td>\n",
       "      <td>13</td>\n",
       "    </tr>\n",
       "    <tr>\n",
       "      <th>2</th>\n",
       "      <td>3</td>\n",
       "      <td>10.0</td>\n",
       "      <td>16</td>\n",
       "    </tr>\n",
       "    <tr>\n",
       "      <th>3</th>\n",
       "      <td>4</td>\n",
       "      <td>519.0</td>\n",
       "      <td>2</td>\n",
       "    </tr>\n",
       "    <tr>\n",
       "      <th>4</th>\n",
       "      <td>5</td>\n",
       "      <td>437.0</td>\n",
       "      <td>6</td>\n",
       "    </tr>\n",
       "  </tbody>\n",
       "</table>\n",
       "</div>"
      ],
      "text/plain": [
       "   district  sales  stores\n",
       "0         1  231.0      12\n",
       "1         2  156.0      13\n",
       "2         3   10.0      16\n",
       "3         4  519.0       2\n",
       "4         5  437.0       6"
      ]
     },
     "execution_count": 2,
     "metadata": {},
     "output_type": "execute_result"
    }
   ],
   "source": [
    "ventas = pd.read_csv('stores-dist.csv')\n",
    "ventas.head(5)"
   ]
  },
  {
   "cell_type": "code",
   "execution_count": 3,
   "id": "7bedaf7a",
   "metadata": {},
   "outputs": [
    {
     "name": "stdout",
     "output_type": "stream",
     "text": [
      "<class 'pandas.core.frame.DataFrame'>\n",
      "RangeIndex: 27 entries, 0 to 26\n",
      "Data columns (total 3 columns):\n",
      " #   Column    Non-Null Count  Dtype  \n",
      "---  ------    --------------  -----  \n",
      " 0   district  27 non-null     int64  \n",
      " 1   sales     27 non-null     float64\n",
      " 2   stores    27 non-null     int64  \n",
      "dtypes: float64(1), int64(2)\n",
      "memory usage: 776.0 bytes\n"
     ]
    }
   ],
   "source": [
    "ventas.info()"
   ]
  },
  {
   "cell_type": "code",
   "execution_count": 4,
   "id": "59e0323e",
   "metadata": {},
   "outputs": [],
   "source": [
    "# Variable Independiente o variables predictoras (Eje)  X \n",
    "x = ventas[[\"stores\"]] \n",
    "\n",
    "# Variable dependiente o variable objetivo (Eje)  y \n",
    "y = ventas[\"sales\"]"
   ]
  },
  {
   "cell_type": "code",
   "execution_count": 5,
   "id": "c102692f",
   "metadata": {},
   "outputs": [
    {
     "data": {
      "text/plain": [
       "LinearRegression()"
      ]
     },
     "execution_count": 5,
     "metadata": {},
     "output_type": "execute_result"
    }
   ],
   "source": [
    "# from sklearn.linear_model import LinearRegression\n",
    "\n",
    "# Creamos el objeto de regresion lineal\n",
    "lm = LinearRegression()\n",
    "\n",
    "# Entrenar el modelo de regresion lineal\n",
    "lm.fit(x, y)"
   ]
  },
  {
   "cell_type": "code",
   "execution_count": 6,
   "id": "1b7af5af",
   "metadata": {},
   "outputs": [
    {
     "data": {
      "text/plain": [
       "array([169.93468442, 134.14759895,  26.78634257, 527.80553905,\n",
       "       384.65719719, 420.44428266, 205.72176988, 134.14759895,\n",
       "        26.78634257, 277.29594081, 527.80553905, 313.08302627,\n",
       "       456.23136812,  62.57342803, 169.93468442, 205.72176988,\n",
       "       420.44428266,  98.36051349, 313.08302627, 527.80553905,\n",
       "       563.59262451,  62.57342803, 134.14759895, 348.87011173,\n",
       "       384.65719719, 563.59262451, 277.29594081])"
      ]
     },
     "execution_count": 6,
     "metadata": {},
     "output_type": "execute_result"
    }
   ],
   "source": [
    "# \n",
    "\n",
    "Yhat = lm.predict(x)\n",
    "Yhat[0:30] "
   ]
  },
  {
   "cell_type": "code",
   "execution_count": 7,
   "id": "ce1571a6",
   "metadata": {},
   "outputs": [
    {
     "data": {
      "text/plain": [
       "599.3797099726612"
      ]
     },
     "execution_count": 7,
     "metadata": {},
     "output_type": "execute_result"
    }
   ],
   "source": [
    "# Valor de la intercepcion   (donde corta el eje)\n",
    "\n",
    "lm.intercept_"
   ]
  },
  {
   "cell_type": "code",
   "execution_count": 8,
   "id": "efe071d8",
   "metadata": {},
   "outputs": [
    {
     "data": {
      "text/plain": [
       "array([-35.78708546])"
      ]
     },
     "execution_count": 8,
     "metadata": {},
     "output_type": "execute_result"
    }
   ],
   "source": [
    "# Coeficientes de las variables predictoras (peso de la variable )\n",
    "\n",
    "\n",
    "lm.coef_"
   ]
  },
  {
   "cell_type": "code",
   "execution_count": 9,
   "id": "c269b0d7",
   "metadata": {},
   "outputs": [
    {
     "data": {
      "text/plain": [
       "0.83217523508888"
      ]
     },
     "execution_count": 9,
     "metadata": {},
     "output_type": "execute_result"
    }
   ],
   "source": [
    "# Devuelve el coeficiente de determinación de la predicción.\n",
    "\n",
    "lm.score(x, y)"
   ]
  },
  {
   "cell_type": "code",
   "execution_count": 10,
   "id": "00a5ee4f",
   "metadata": {},
   "outputs": [],
   "source": [
    "ventas_new = ventas"
   ]
  },
  {
   "cell_type": "code",
   "execution_count": 11,
   "id": "16afb675",
   "metadata": {},
   "outputs": [
    {
     "data": {
      "text/html": [
       "<div>\n",
       "<style scoped>\n",
       "    .dataframe tbody tr th:only-of-type {\n",
       "        vertical-align: middle;\n",
       "    }\n",
       "\n",
       "    .dataframe tbody tr th {\n",
       "        vertical-align: top;\n",
       "    }\n",
       "\n",
       "    .dataframe thead th {\n",
       "        text-align: right;\n",
       "    }\n",
       "</style>\n",
       "<table border=\"1\" class=\"dataframe\">\n",
       "  <thead>\n",
       "    <tr style=\"text-align: right;\">\n",
       "      <th></th>\n",
       "      <th>district</th>\n",
       "      <th>sales</th>\n",
       "      <th>stores</th>\n",
       "      <th>prediction</th>\n",
       "    </tr>\n",
       "  </thead>\n",
       "  <tbody>\n",
       "    <tr>\n",
       "      <th>0</th>\n",
       "      <td>1</td>\n",
       "      <td>231.0</td>\n",
       "      <td>12</td>\n",
       "      <td>169.934684</td>\n",
       "    </tr>\n",
       "    <tr>\n",
       "      <th>1</th>\n",
       "      <td>2</td>\n",
       "      <td>156.0</td>\n",
       "      <td>13</td>\n",
       "      <td>134.147599</td>\n",
       "    </tr>\n",
       "    <tr>\n",
       "      <th>2</th>\n",
       "      <td>3</td>\n",
       "      <td>10.0</td>\n",
       "      <td>16</td>\n",
       "      <td>26.786343</td>\n",
       "    </tr>\n",
       "    <tr>\n",
       "      <th>3</th>\n",
       "      <td>4</td>\n",
       "      <td>519.0</td>\n",
       "      <td>2</td>\n",
       "      <td>527.805539</td>\n",
       "    </tr>\n",
       "    <tr>\n",
       "      <th>4</th>\n",
       "      <td>5</td>\n",
       "      <td>437.0</td>\n",
       "      <td>6</td>\n",
       "      <td>384.657197</td>\n",
       "    </tr>\n",
       "    <tr>\n",
       "      <th>5</th>\n",
       "      <td>6</td>\n",
       "      <td>487.0</td>\n",
       "      <td>5</td>\n",
       "      <td>420.444283</td>\n",
       "    </tr>\n",
       "    <tr>\n",
       "      <th>6</th>\n",
       "      <td>7</td>\n",
       "      <td>299.0</td>\n",
       "      <td>11</td>\n",
       "      <td>205.721770</td>\n",
       "    </tr>\n",
       "    <tr>\n",
       "      <th>7</th>\n",
       "      <td>8</td>\n",
       "      <td>195.0</td>\n",
       "      <td>13</td>\n",
       "      <td>134.147599</td>\n",
       "    </tr>\n",
       "    <tr>\n",
       "      <th>8</th>\n",
       "      <td>9</td>\n",
       "      <td>20.0</td>\n",
       "      <td>16</td>\n",
       "      <td>26.786343</td>\n",
       "    </tr>\n",
       "    <tr>\n",
       "      <th>9</th>\n",
       "      <td>10</td>\n",
       "      <td>68.0</td>\n",
       "      <td>9</td>\n",
       "      <td>277.295941</td>\n",
       "    </tr>\n",
       "    <tr>\n",
       "      <th>10</th>\n",
       "      <td>11</td>\n",
       "      <td>570.0</td>\n",
       "      <td>2</td>\n",
       "      <td>527.805539</td>\n",
       "    </tr>\n",
       "    <tr>\n",
       "      <th>11</th>\n",
       "      <td>12</td>\n",
       "      <td>428.0</td>\n",
       "      <td>8</td>\n",
       "      <td>313.083026</td>\n",
       "    </tr>\n",
       "    <tr>\n",
       "      <th>12</th>\n",
       "      <td>13</td>\n",
       "      <td>464.0</td>\n",
       "      <td>4</td>\n",
       "      <td>456.231368</td>\n",
       "    </tr>\n",
       "    <tr>\n",
       "      <th>13</th>\n",
       "      <td>14</td>\n",
       "      <td>15.0</td>\n",
       "      <td>15</td>\n",
       "      <td>62.573428</td>\n",
       "    </tr>\n",
       "    <tr>\n",
       "      <th>14</th>\n",
       "      <td>15</td>\n",
       "      <td>65.0</td>\n",
       "      <td>12</td>\n",
       "      <td>169.934684</td>\n",
       "    </tr>\n",
       "    <tr>\n",
       "      <th>15</th>\n",
       "      <td>16</td>\n",
       "      <td>98.0</td>\n",
       "      <td>11</td>\n",
       "      <td>205.721770</td>\n",
       "    </tr>\n",
       "    <tr>\n",
       "      <th>16</th>\n",
       "      <td>17</td>\n",
       "      <td>398.0</td>\n",
       "      <td>5</td>\n",
       "      <td>420.444283</td>\n",
       "    </tr>\n",
       "    <tr>\n",
       "      <th>17</th>\n",
       "      <td>18</td>\n",
       "      <td>161.0</td>\n",
       "      <td>14</td>\n",
       "      <td>98.360513</td>\n",
       "    </tr>\n",
       "    <tr>\n",
       "      <th>18</th>\n",
       "      <td>19</td>\n",
       "      <td>397.0</td>\n",
       "      <td>8</td>\n",
       "      <td>313.083026</td>\n",
       "    </tr>\n",
       "    <tr>\n",
       "      <th>19</th>\n",
       "      <td>20</td>\n",
       "      <td>497.0</td>\n",
       "      <td>2</td>\n",
       "      <td>527.805539</td>\n",
       "    </tr>\n",
       "    <tr>\n",
       "      <th>20</th>\n",
       "      <td>21</td>\n",
       "      <td>528.0</td>\n",
       "      <td>1</td>\n",
       "      <td>563.592625</td>\n",
       "    </tr>\n",
       "    <tr>\n",
       "      <th>21</th>\n",
       "      <td>22</td>\n",
       "      <td>99.0</td>\n",
       "      <td>15</td>\n",
       "      <td>62.573428</td>\n",
       "    </tr>\n",
       "    <tr>\n",
       "      <th>22</th>\n",
       "      <td>23</td>\n",
       "      <td>0.5</td>\n",
       "      <td>13</td>\n",
       "      <td>134.147599</td>\n",
       "    </tr>\n",
       "    <tr>\n",
       "      <th>23</th>\n",
       "      <td>24</td>\n",
       "      <td>347.0</td>\n",
       "      <td>7</td>\n",
       "      <td>348.870112</td>\n",
       "    </tr>\n",
       "    <tr>\n",
       "      <th>24</th>\n",
       "      <td>25</td>\n",
       "      <td>341.0</td>\n",
       "      <td>6</td>\n",
       "      <td>384.657197</td>\n",
       "    </tr>\n",
       "    <tr>\n",
       "      <th>25</th>\n",
       "      <td>26</td>\n",
       "      <td>507.0</td>\n",
       "      <td>1</td>\n",
       "      <td>563.592625</td>\n",
       "    </tr>\n",
       "    <tr>\n",
       "      <th>26</th>\n",
       "      <td>27</td>\n",
       "      <td>400.0</td>\n",
       "      <td>9</td>\n",
       "      <td>277.295941</td>\n",
       "    </tr>\n",
       "  </tbody>\n",
       "</table>\n",
       "</div>"
      ],
      "text/plain": [
       "    district  sales  stores  prediction\n",
       "0          1  231.0      12  169.934684\n",
       "1          2  156.0      13  134.147599\n",
       "2          3   10.0      16   26.786343\n",
       "3          4  519.0       2  527.805539\n",
       "4          5  437.0       6  384.657197\n",
       "5          6  487.0       5  420.444283\n",
       "6          7  299.0      11  205.721770\n",
       "7          8  195.0      13  134.147599\n",
       "8          9   20.0      16   26.786343\n",
       "9         10   68.0       9  277.295941\n",
       "10        11  570.0       2  527.805539\n",
       "11        12  428.0       8  313.083026\n",
       "12        13  464.0       4  456.231368\n",
       "13        14   15.0      15   62.573428\n",
       "14        15   65.0      12  169.934684\n",
       "15        16   98.0      11  205.721770\n",
       "16        17  398.0       5  420.444283\n",
       "17        18  161.0      14   98.360513\n",
       "18        19  397.0       8  313.083026\n",
       "19        20  497.0       2  527.805539\n",
       "20        21  528.0       1  563.592625\n",
       "21        22   99.0      15   62.573428\n",
       "22        23    0.5      13  134.147599\n",
       "23        24  347.0       7  348.870112\n",
       "24        25  341.0       6  384.657197\n",
       "25        26  507.0       1  563.592625\n",
       "26        27  400.0       9  277.295941"
      ]
     },
     "execution_count": 11,
     "metadata": {},
     "output_type": "execute_result"
    }
   ],
   "source": [
    "ventas_new[\"prediction\"] = lm.predict(pd.DataFrame(ventas_new[\"stores\"]) )\n",
    "ventas_new"
   ]
  },
  {
   "cell_type": "code",
   "execution_count": 12,
   "id": "1616b12c",
   "metadata": {},
   "outputs": [
    {
     "data": {
      "text/plain": [
       "169.9346844526612"
      ]
     },
     "execution_count": 12,
     "metadata": {},
     "output_type": "execute_result"
    }
   ],
   "source": [
    "#  prediccion manual\n",
    "\n",
    "# yhat =  w x + b\n",
    "# w pendiente\n",
    "# b intercepr\n",
    "\n",
    "yhat = -35.78708546 * 12 + lm.intercept_\n",
    "yhat"
   ]
  },
  {
   "cell_type": "code",
   "execution_count": 14,
   "id": "33d1cbd8",
   "metadata": {},
   "outputs": [
    {
     "name": "stderr",
     "output_type": "stream",
     "text": [
      "C:\\Anaconda3\\envs\\Diplomado python\\lib\\site-packages\\sklearn\\base.py:450: UserWarning: X does not have valid feature names, but LinearRegression was fitted with feature names\n",
      "  warnings.warn(\n"
     ]
    },
    {
     "data": {
      "text/plain": [
       "array([241.50885534, 456.23136812, 527.80553905])"
      ]
     },
     "execution_count": 14,
     "metadata": {},
     "output_type": "execute_result"
    }
   ],
   "source": [
    "# proporcionar un valor directamente en  la funcion predict de scikit learn \n",
    "# Comparar con el valor de la practica anterior\n",
    "# lista de valores a predecir\n",
    "\n",
    "valores =[ [10],[4], [2] ]\n",
    "lm.predict(valores)"
   ]
  },
  {
   "cell_type": "code",
   "execution_count": null,
   "id": "6adef420",
   "metadata": {},
   "outputs": [],
   "source": []
  },
  {
   "cell_type": "markdown",
   "id": "10b00743",
   "metadata": {},
   "source": [
    "##  3. Calcular los errores  del modelo<a id='id3'> </a>\n",
    "\n",
    "- En este paso, investigará la conexión de los datos antes del análisis de regresión. \n",
    "- También descartará cualquier columna sin relación según sea necesario.\n",
    "- En esta parte, utilizará **numpy para generar una línea de regresión** para los datos analizados. \n",
    "- También **calculará el centroide** para este conjunto de datos. El centroide es la media del conjunto de datos. \n",
    "- La línea de regresión lineal simple generada también debe atravesar el centroide.\n",
    "- También utilizará **sklearn.metrics para evaluar el modelo de regresión lineal**\n",
    "- Calculará la puntuación  $R^2$   y el error medio cuadrático (MSE)."
   ]
  },
  {
   "cell_type": "code",
   "execution_count": 15,
   "id": "74cc3308",
   "metadata": {},
   "outputs": [],
   "source": [
    "# Variable Independiente o variables predictoras (Eje)  X \n",
    "x = ventas[\"stores\"] \n",
    "\n",
    "# Variable dependiente o variable objetivo (Eje)  y \n",
    "y = ventas[\"sales\"]"
   ]
  },
  {
   "cell_type": "markdown",
   "id": "1089d5e1",
   "metadata": {},
   "source": [
    "## Calcular los valores de *y* en el modelo\n",
    "\n",
    "- En la práctica de laboratorio anterior, calculó los componentes para el ajuste de la regresión lineal con un modelo polinomial mediante **np.polyfit** para calcular el vector de los coeficientes **p** que minimiza el error cuadrático. \n",
    "- Mediante **np.poly1d**, puede calcular el valor correspondiente para cada valor de x en el modelo polinomial estimado.\n",
    "- Para recuperar la pendiente y la intersección y de la línea, utilice la variable p. \n",
    "- La matriz p muestra el coeficiente en un orden descendente. \n",
    "- Para un polinomio de primer orden, el primer coeficiente es la pendiente (m) y el segundo coeficiente es la intersección y (b)."
   ]
  },
  {
   "cell_type": "code",
   "execution_count": 16,
   "id": "5c1f6200",
   "metadata": {},
   "outputs": [
    {
     "name": "stdout",
     "output_type": "stream",
     "text": [
      "La matriz p(x) almacena el valor de y calculado del modelo polinomial para cada valor de x,\n",
      "\n",
      "[169.93468442 134.14759895  26.78634257 527.80553905 384.65719719\n",
      " 420.44428266 205.72176988 134.14759895  26.78634257 277.29594081\n",
      " 527.80553905 313.08302627 456.23136812  62.57342803 169.93468442\n",
      " 205.72176988 420.44428266  98.36051349 313.08302627 527.80553905\n",
      " 563.59262451  62.57342803 134.14759895 348.87011173 384.65719719\n",
      " 563.59262451 277.29594081].\n",
      "\n",
      " El vector de coeficientes p describe este modelo de regresión:\n",
      " \n",
      "-35.79 x + 599.4\n",
      "\n",
      " El término de orden cero (intersección y o b) se almacena en p[0]: 599.3797099726614.\n",
      "\n",
      " El término de primer orden (pendiente o w) se almacena en p[1]: -35.787085462974005.\n"
     ]
    }
   ],
   "source": [
    "order = 1\n",
    "p = np.poly1d(np.polyfit(x, y ,order))\n",
    "\n",
    "print('La matriz p(x) almacena el valor de y calculado del modelo polinomial para cada valor de x,\\n\\n{}.'.format(p(x)))\n",
    "print('\\n El vector de coeficientes p describe este modelo de regresión:\\n{}'.format(p))\n",
    "print('\\n El término de orden cero (intersección y o b) se almacena en p[0]: {}.'.format(p[0]))\n",
    "print('\\n El término de primer orden (pendiente o w) se almacena en p[1]: {}.'.format(p[1]))"
   ]
  },
  {
   "cell_type": "markdown",
   "id": "cb9b00ae",
   "metadata": {},
   "source": [
    "- En este paso, usará `sklearn` para evaluar modelos. \n",
    "- `Sklean` ofrece una gama de medidas. \n",
    "- Calcularás la puntuación $R^2$, el error cuadrático medio (MSE) y el error absoluto medio (MAE) usando las funciones en `sklearn`.\n",
    "\n",
    "- Para calcular el valor de cada medida, proporcione los valores de `y`, que son los valores observados del archivo csv importado, `stores-dist.csv` como primer argumento. \n",
    "- Como segundo argumento, use los valores de `p(x)`, que se calcularon a partir de su modelo polinomial de primer orden en forma de:\n",
    "\n",
    "$$y = w x + b$$\n",
    "\n",
    "donde m es `p[1]` y b es `p[0]` en los resultados `poly1d`.\n",
    "\n",
    "- La **función de puntuación de regresión  $R^2$  (coeficiente de determinación)** ofrece cierta información sobre la cantidad de ajuste del modelo. \n",
    "- La mejor puntuación para  $R^2$  es 1,0. \n",
    "- Esta puntuación **indica qué tan bien explica el modelo el resultado obtenido**."
   ]
  },
  {
   "cell_type": "code",
   "execution_count": 17,
   "id": "21f1e0c8",
   "metadata": {},
   "outputs": [
    {
     "data": {
      "text/plain": [
       "0.83217523508888"
      ]
     },
     "execution_count": 17,
     "metadata": {},
     "output_type": "execute_result"
    }
   ],
   "source": [
    "from sklearn.metrics import r2_score\n",
    "r2 = r2_score(y, p(x))\n",
    "r2\n"
   ]
  },
  {
   "cell_type": "markdown",
   "id": "b19de428",
   "metadata": {},
   "source": [
    "- El **error medio cuadrático (MSE) es una medida de qué tan bien se puede usar el modelo para realizar una predicción**. \n",
    "- Este número siempre es no negativo. Los mejores valores se encuentran más cercanos a cero."
   ]
  },
  {
   "cell_type": "code",
   "execution_count": 18,
   "id": "03397ec5",
   "metadata": {},
   "outputs": [
    {
     "data": {
      "text/plain": [
       "5961.386465941158"
      ]
     },
     "execution_count": 18,
     "metadata": {},
     "output_type": "execute_result"
    }
   ],
   "source": [
    "from sklearn.metrics import mean_squared_error\n",
    "\n",
    "mse = mean_squared_error(y, p(x))\n",
    "mse"
   ]
  },
  {
   "cell_type": "markdown",
   "id": "c2661986",
   "metadata": {},
   "source": [
    "- El **error medio absoluto (MAE)** es una medida de **cuánto se acercan las predicciones a los resultados eventuales**. \n",
    "- El MAE es un promedio de los errores absolutos entre la predicción y el verdadero valor."
   ]
  },
  {
   "cell_type": "code",
   "execution_count": 19,
   "id": "4fca1e03",
   "metadata": {},
   "outputs": [
    {
     "data": {
      "text/plain": [
       "61.2232611786873"
      ]
     },
     "execution_count": 19,
     "metadata": {},
     "output_type": "execute_result"
    }
   ],
   "source": [
    "from sklearn.metrics import mean_absolute_error\n",
    "\n",
    "mae = mean_absolute_error(y, p(x))\n",
    "mae"
   ]
  },
  {
   "cell_type": "markdown",
   "id": "b9a2c057",
   "metadata": {},
   "source": [
    "Todas estas medidas permiten que determine qué tan bien puede su modelo hacer la predicción."
   ]
  },
  {
   "cell_type": "code",
   "execution_count": null,
   "id": "d1e47343",
   "metadata": {},
   "outputs": [],
   "source": []
  }
 ],
 "metadata": {
  "kernelspec": {
   "display_name": "Python 3 (ipykernel)",
   "language": "python",
   "name": "python3"
  },
  "language_info": {
   "codemirror_mode": {
    "name": "ipython",
    "version": 3
   },
   "file_extension": ".py",
   "mimetype": "text/x-python",
   "name": "python",
   "nbconvert_exporter": "python",
   "pygments_lexer": "ipython3",
   "version": "3.8.13"
  }
 },
 "nbformat": 4,
 "nbformat_minor": 5
}
